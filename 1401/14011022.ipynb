{
 "cells": [
  {
   "cell_type": "markdown",
   "id": "979b8f3c",
   "metadata": {},
   "source": [
    "# Introduction to Progamming Languages with Python \n",
    "### University of Qom\n",
    "##### Thu. 1401/10/22"
   ]
  },
  {
   "cell_type": "markdown",
   "id": "ae98a9f1",
   "metadata": {},
   "source": [
    "## Extra Session\n",
    "### Assignments Solving #3"
   ]
  },
  {
   "cell_type": "code",
   "execution_count": 1,
   "id": "a51632c9",
   "metadata": {},
   "outputs": [
    {
     "data": {
      "text/plain": [
       "'1213121'"
      ]
     },
     "execution_count": 1,
     "metadata": {},
     "output_type": "execute_result"
    }
   ],
   "source": [
    "ssdict = {1:'1'}\n",
    "def ss(n):\n",
    "    if n in ssdict: return ssdict[n]\n",
    "    ssdict[n] = ss(n-1)+str(n)+ss(n-1)\n",
    "    return ssdict[n]\n",
    "\n",
    "ss(3)"
   ]
  },
  {
   "cell_type": "code",
   "execution_count": 11,
   "id": "338b6ff8",
   "metadata": {},
   "outputs": [
    {
     "name": "stdout",
     "output_type": "stream",
     "text": [
      "CPU times: user 9.94 ms, sys: 0 ns, total: 9.94 ms\n",
      "Wall time: 9.51 ms\n"
     ]
    },
    {
     "data": {
      "text/plain": [
       "478885241"
      ]
     },
     "execution_count": 11,
     "metadata": {},
     "output_type": "execute_result"
    }
   ],
   "source": [
    "%%time\n",
    "def mod(n): return n%(10**9 + 7)\n",
    "\n",
    "ndict = {1:1}\n",
    "def s(n):\n",
    "    if n in ndict: return ndict[n]\n",
    "    ndict[n] = 2*s(n-1)+sum(map(int, str(n)))\n",
    "    return ndict[n]\n",
    "\n",
    "mod(s(1000))"
   ]
  },
  {
   "cell_type": "code",
   "execution_count": 15,
   "id": "a4a3c28c",
   "metadata": {},
   "outputs": [
    {
     "name": "stdout",
     "output_type": "stream",
     "text": [
      "CPU times: user 3.22 ms, sys: 0 ns, total: 3.22 ms\n",
      "Wall time: 3.18 ms\n"
     ]
    },
    {
     "data": {
      "text/plain": [
       "478885241"
      ]
     },
     "execution_count": 15,
     "metadata": {},
     "output_type": "execute_result"
    }
   ],
   "source": [
    "%%time\n",
    "def mod(n): return n%(10**9 + 7)\n",
    "\n",
    "def s(n):\n",
    "    if n==1: return 1\n",
    "    return mod(2*s(n-1)) + sum(map(int, str(n)))\n",
    "\n",
    "mod(s(1000))"
   ]
  },
  {
   "cell_type": "code",
   "execution_count": 18,
   "id": "c2be1168",
   "metadata": {},
   "outputs": [
    {
     "data": {
      "text/plain": [
       "'anim'"
      ]
     },
     "execution_count": 18,
     "metadata": {},
     "output_type": "execute_result"
    }
   ],
   "source": [
    "def shift(s): return s[-1]+s[:-1]\n",
    "\n",
    "s = 'nima'\n",
    "best = 'nima'\n",
    "for i in range(len(s)):\n",
    "    s = shift(s)\n",
    "    if s<best:\n",
    "        best = s\n",
    "\n",
    "best"
   ]
  },
  {
   "cell_type": "code",
   "execution_count": 24,
   "id": "e2dba762",
   "metadata": {},
   "outputs": [
    {
     "name": "stdout",
     "output_type": "stream",
     "text": [
      "FBB"
     ]
    }
   ],
   "source": [
    "m,n = 3, 2\n",
    "s=[\"WBW\", \"BBW\"]\n",
    "\n",
    "for i in range(m):\n",
    "    c = 0\n",
    "    for j in range(n):\n",
    "        if s[j][i]=='W': c+=1\n",
    "    if c%2: print('F', end='')\n",
    "    else: print('B', end='')"
   ]
  },
  {
   "cell_type": "code",
   "execution_count": 28,
   "id": "4e9119e8",
   "metadata": {},
   "outputs": [
    {
     "data": {
      "text/plain": [
       "False"
      ]
     },
     "execution_count": 28,
     "metadata": {},
     "output_type": "execute_result"
    }
   ],
   "source": [
    "def is_ascending(l):\n",
    "    item = l[0]\n",
    "    for i in l[1:]:\n",
    "        if item>i:\n",
    "            return False\n",
    "        item = i\n",
    "    return True\n",
    "\n",
    "is_ascending([1,3,2,4])"
   ]
  },
  {
   "cell_type": "code",
   "execution_count": 32,
   "id": "9aaf9efe",
   "metadata": {},
   "outputs": [
    {
     "data": {
      "text/plain": [
       "True"
      ]
     },
     "execution_count": 32,
     "metadata": {},
     "output_type": "execute_result"
    }
   ],
   "source": [
    "def is_descending(l):\n",
    "    item = l[0]\n",
    "    for i in l[1:]:\n",
    "        if item<i:\n",
    "            return False\n",
    "        item = i\n",
    "    return True\n",
    "\n",
    "is_descending([3,2,1])"
   ]
  },
  {
   "cell_type": "code",
   "execution_count": 51,
   "id": "a20a4483",
   "metadata": {},
   "outputs": [
    {
     "data": {
      "text/plain": [
       "True"
      ]
     },
     "execution_count": 51,
     "metadata": {},
     "output_type": "execute_result"
    }
   ],
   "source": [
    "def monotonic(l):\n",
    "    c = 0\n",
    "    for i in range(1,len(l)-1):\n",
    "        if not (l[i-1]<=l[i]<l[i+1] or l[i-1]>=l[i]>l[i+1]):\n",
    "#         if l[i-1]<=l[i]>l[i+1] or l[i-1]>=l[i]<l[i+1]:\n",
    "            c += 1\n",
    "    return c<=1\n",
    "\n",
    "monotonic([4,2,2,4,5])"
   ]
  },
  {
   "cell_type": "code",
   "execution_count": 71,
   "id": "d3e48180",
   "metadata": {},
   "outputs": [
    {
     "name": "stdout",
     "output_type": "stream",
     "text": [
      "73920\n"
     ]
    }
   ],
   "source": [
    "k = 100\n",
    "\n",
    "i = 1\n",
    "n = 0\n",
    "while True:\n",
    "    n += i\n",
    "    c = 1\n",
    "    for j in range(1, n//2+1):\n",
    "        if n%j==0: \n",
    "            c+=1\n",
    "    i += 1\n",
    "    if c>=k:\n",
    "        print(n)\n",
    "        break"
   ]
  },
  {
   "cell_type": "code",
   "execution_count": 72,
   "id": "f3ddcd35",
   "metadata": {},
   "outputs": [
    {
     "name": "stdout",
     "output_type": "stream",
     "text": [
      "2\n",
      "CPU times: user 3.85 ms, sys: 18 µs, total: 3.87 ms\n",
      "Wall time: 2.45 ms\n"
     ]
    }
   ],
   "source": [
    "%%time \n",
    "print(2)"
   ]
  }
 ],
 "metadata": {
  "kernelspec": {
   "display_name": ".venv",
   "language": "python",
   "name": ".venv"
  },
  "language_info": {
   "codemirror_mode": {
    "name": "ipython",
    "version": 3
   },
   "file_extension": ".py",
   "mimetype": "text/x-python",
   "name": "python",
   "nbconvert_exporter": "python",
   "pygments_lexer": "ipython3",
   "version": "3.10.8"
  }
 },
 "nbformat": 4,
 "nbformat_minor": 5
}
