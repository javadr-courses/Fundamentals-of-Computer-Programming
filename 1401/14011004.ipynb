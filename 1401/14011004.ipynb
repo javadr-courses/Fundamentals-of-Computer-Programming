{
 "cells": [
  {
   "cell_type": "markdown",
   "id": "251497c3",
   "metadata": {},
   "source": [
    "# Introduction to Progamming Languages with Python \n",
    "### University of Qom\n",
    "##### Sun. 1401/10/04"
   ]
  },
  {
   "cell_type": "markdown",
   "id": "7bfabfa4",
   "metadata": {},
   "source": [
    "# Chapter 14: Files, Cont."
   ]
  },
  {
   "cell_type": "code",
   "execution_count": 1,
   "id": "50a72e5e",
   "metadata": {},
   "outputs": [
    {
     "ename": "FileNotFoundError",
     "evalue": "[Errno 2] No such file or directory: 'booq.txt'",
     "output_type": "error",
     "traceback": [
      "\u001b[0;31m---------------------------------------------------------------------------\u001b[0m",
      "\u001b[0;31mFileNotFoundError\u001b[0m                         Traceback (most recent call last)",
      "Input \u001b[0;32mIn [1]\u001b[0m, in \u001b[0;36m<cell line: 1>\u001b[0;34m()\u001b[0m\n\u001b[0;32m----> 1\u001b[0m \u001b[38;5;28;43mopen\u001b[39;49m\u001b[43m(\u001b[49m\u001b[38;5;124;43m'\u001b[39;49m\u001b[38;5;124;43mbooq.txt\u001b[39;49m\u001b[38;5;124;43m'\u001b[39;49m\u001b[43m)\u001b[49m\n",
      "\u001b[0;31mFileNotFoundError\u001b[0m: [Errno 2] No such file or directory: 'booq.txt'"
     ]
    }
   ],
   "source": [
    "open('booq.txt')"
   ]
  },
  {
   "cell_type": "code",
   "execution_count": 2,
   "id": "e026cede",
   "metadata": {},
   "outputs": [
    {
     "name": "stdout",
     "output_type": "stream",
     "text": [
      "سلام دنیا\n",
      "another line!\n",
      "\n",
      "12 students of IP class 12.100000\n",
      "12 students of IP class 12.1\n",
      "12 students of IP class 12.1\n"
     ]
    }
   ],
   "source": [
    "def print_file(file_name):\n",
    "    f = open(file_name)\n",
    "    content = f.read()\n",
    "    f.close()\n",
    "    print(content)\n",
    "    \n",
    "print_file('test.txt')"
   ]
  },
  {
   "cell_type": "code",
   "execution_count": 3,
   "id": "62e7e04b",
   "metadata": {},
   "outputs": [
    {
     "ename": "FileNotFoundError",
     "evalue": "[Errno 2] No such file or directory: 'text.txt'",
     "output_type": "error",
     "traceback": [
      "\u001b[0;31m---------------------------------------------------------------------------\u001b[0m",
      "\u001b[0;31mFileNotFoundError\u001b[0m                         Traceback (most recent call last)",
      "Input \u001b[0;32mIn [3]\u001b[0m, in \u001b[0;36m<cell line: 1>\u001b[0;34m()\u001b[0m\n\u001b[0;32m----> 1\u001b[0m \u001b[43mprint_file\u001b[49m\u001b[43m(\u001b[49m\u001b[38;5;124;43m'\u001b[39;49m\u001b[38;5;124;43mtext.txt\u001b[39;49m\u001b[38;5;124;43m'\u001b[39;49m\u001b[43m)\u001b[49m\n",
      "Input \u001b[0;32mIn [2]\u001b[0m, in \u001b[0;36mprint_file\u001b[0;34m(file_name)\u001b[0m\n\u001b[1;32m      1\u001b[0m \u001b[38;5;28;01mdef\u001b[39;00m \u001b[38;5;21mprint_file\u001b[39m(file_name):\n\u001b[0;32m----> 2\u001b[0m     f \u001b[38;5;241m=\u001b[39m \u001b[38;5;28;43mopen\u001b[39;49m\u001b[43m(\u001b[49m\u001b[43mfile_name\u001b[49m\u001b[43m)\u001b[49m\n\u001b[1;32m      3\u001b[0m     content \u001b[38;5;241m=\u001b[39m f\u001b[38;5;241m.\u001b[39mread()\n\u001b[1;32m      4\u001b[0m     f\u001b[38;5;241m.\u001b[39mclose()\n",
      "\u001b[0;31mFileNotFoundError\u001b[0m: [Errno 2] No such file or directory: 'text.txt'"
     ]
    }
   ],
   "source": [
    "print_file('text.txt')"
   ]
  },
  {
   "cell_type": "code",
   "execution_count": 4,
   "id": "65c5567b",
   "metadata": {},
   "outputs": [
    {
     "ename": "ZeroDivisionError",
     "evalue": "division by zero",
     "output_type": "error",
     "traceback": [
      "\u001b[0;31m---------------------------------------------------------------------------\u001b[0m",
      "\u001b[0;31mZeroDivisionError\u001b[0m                         Traceback (most recent call last)",
      "Input \u001b[0;32mIn [4]\u001b[0m, in \u001b[0;36m<cell line: 3>\u001b[0;34m()\u001b[0m\n\u001b[1;32m      1\u001b[0m \u001b[38;5;66;03m# Exception\u001b[39;00m\n\u001b[0;32m----> 3\u001b[0m \u001b[38;5;241;43m10\u001b[39;49m\u001b[43m \u001b[49m\u001b[38;5;241;43m/\u001b[39;49m\u001b[43m \u001b[49m\u001b[38;5;241;43m0\u001b[39;49m\n",
      "\u001b[0;31mZeroDivisionError\u001b[0m: division by zero"
     ]
    }
   ],
   "source": [
    "# Exception\n",
    "\n",
    "10 / 0"
   ]
  },
  {
   "cell_type": "code",
   "execution_count": 5,
   "id": "1446c469",
   "metadata": {},
   "outputs": [
    {
     "name": "stdout",
     "output_type": "stream",
     "text": [
      "input error!\n"
     ]
    }
   ],
   "source": [
    "n = 0 # int(input())\n",
    "try:\n",
    "    print(10/n)\n",
    "except:\n",
    "    print('input error!')"
   ]
  },
  {
   "cell_type": "code",
   "execution_count": 6,
   "id": "2d22816f",
   "metadata": {},
   "outputs": [
    {
     "name": "stdout",
     "output_type": "stream",
     "text": [
      "please enter a non-zero number: 0\n",
      "input error, try again!\n",
      "please enter a non-zero number: 0\n",
      "input error, try again!\n",
      "please enter a non-zero number: 12\n",
      "0.8333333333333334\n",
      "12\n"
     ]
    }
   ],
   "source": [
    "while True:\n",
    "    try:\n",
    "        n = int(input(\"please enter a non-zero number: \"))\n",
    "        print(10/n)\n",
    "        break\n",
    "    except:\n",
    "        print('input error, try again!')\n",
    "        \n",
    "print(n)"
   ]
  },
  {
   "cell_type": "code",
   "execution_count": 7,
   "id": "8880d059",
   "metadata": {},
   "outputs": [
    {
     "name": "stdout",
     "output_type": "stream",
     "text": [
      "please enter a non-zero number: 0\n",
      "zero division error, try again!\n",
      "please enter a non-zero number: 12\n",
      "0.8333333333333334\n",
      "12\n"
     ]
    }
   ],
   "source": [
    "while True:\n",
    "    try:\n",
    "        n = int(input(\"please enter a non-zero number: \"))\n",
    "        print(10/n)\n",
    "        break\n",
    "    except ZeroDivisionError:\n",
    "        print('zero division error, try again!')\n",
    "        \n",
    "print(n)"
   ]
  },
  {
   "cell_type": "code",
   "execution_count": 10,
   "id": "fda90b9a",
   "metadata": {},
   "outputs": [
    {
     "name": "stdout",
     "output_type": "stream",
     "text": [
      "File Not Found!\n"
     ]
    }
   ],
   "source": [
    "def print_file(file_name):\n",
    "    try:\n",
    "        f = open(file_name)\n",
    "        content = f.read()\n",
    "        f.close()\n",
    "    except FileNotFoundError:\n",
    "        print('File Not Found!')\n",
    "        return\n",
    "    print(content)\n",
    "    \n",
    "print_file('text.txt')"
   ]
  },
  {
   "cell_type": "code",
   "execution_count": 15,
   "id": "2ed37df0",
   "metadata": {},
   "outputs": [
    {
     "name": "stdout",
     "output_type": "stream",
     "text": [
      "You don't have right permission!, call administrator!\n"
     ]
    }
   ],
   "source": [
    "def print_file(file_name):\n",
    "    try:\n",
    "        f = open(file_name)\n",
    "        content = f.read()\n",
    "        f.close()\n",
    "    except FileNotFoundError:\n",
    "        print('File Not Found!')\n",
    "        return\n",
    "    except PermissionError:\n",
    "        print('You don\\'t have right permission!, call administrator!')\n",
    "        return\n",
    "    except:\n",
    "        print('Unkown Error!\\n call programmer!')\n",
    "        \n",
    "    print(content)\n",
    "    \n",
    "print_file('/root')"
   ]
  },
  {
   "cell_type": "code",
   "execution_count": 22,
   "id": "8133f360",
   "metadata": {},
   "outputs": [
    {
     "name": "stdout",
     "output_type": "stream",
     "text": [
      "You don't have right permission!, call administrator!\n",
      "The End!\n"
     ]
    }
   ],
   "source": [
    "def print_file(file_name):\n",
    "    try:\n",
    "        f = open(file_name)\n",
    "        content = f.read()\n",
    "        f.close()\n",
    "    except FileNotFoundError:\n",
    "        print('File Not Found!')\n",
    "        return\n",
    "    except PermissionError:\n",
    "        print('You don\\'t have right permission!, call administrator!')\n",
    "        return\n",
    "    except:\n",
    "        print('Unkown Error!\\n call programmer!')\n",
    "    finally:\n",
    "        print(\"The End!\")\n",
    "        \n",
    "    print(content)\n",
    "    \n",
    "print_file('/root')"
   ]
  },
  {
   "cell_type": "code",
   "execution_count": 23,
   "id": "761c1b2c",
   "metadata": {},
   "outputs": [
    {
     "name": "stdout",
     "output_type": "stream",
     "text": [
      "Unkown Error! call programmer!\n",
      " [Errno 2] No such file or directory: 'text.txt'\n"
     ]
    }
   ],
   "source": [
    "def print_file(file_name):\n",
    "    try:\n",
    "        f = open(file_name)\n",
    "        content = f.read()\n",
    "        f.close()\n",
    "    except Exception as err:\n",
    "        print('Unkown Error! call programmer!\\n',  err)\n",
    "        return\n",
    "        \n",
    "    print(content)\n",
    "    \n",
    "print_file('text.txt')"
   ]
  },
  {
   "cell_type": "code",
   "execution_count": 28,
   "id": "be7e24d0",
   "metadata": {},
   "outputs": [
    {
     "data": {
      "text/plain": [
       "False"
      ]
     },
     "execution_count": 28,
     "metadata": {},
     "output_type": "execute_result"
    }
   ],
   "source": [
    "def exist(fn):\n",
    "    try:\n",
    "        open(fn)\n",
    "        return True\n",
    "    except:\n",
    "        return False\n",
    "    \n",
    "exist('test.txt')"
   ]
  },
  {
   "cell_type": "code",
   "execution_count": 27,
   "id": "7dabafb1",
   "metadata": {},
   "outputs": [
    {
     "data": {
      "text/plain": [
       "True"
      ]
     },
     "execution_count": 27,
     "metadata": {},
     "output_type": "execute_result"
    }
   ],
   "source": [
    "import os\n",
    "os.path.exists('test.txt')"
   ]
  },
  {
   "cell_type": "code",
   "execution_count": 33,
   "id": "119a3792",
   "metadata": {},
   "outputs": [
    {
     "data": {
      "text/plain": [
       "False"
      ]
     },
     "execution_count": 33,
     "metadata": {},
     "output_type": "execute_result"
    }
   ],
   "source": [
    "def exist(fn):\n",
    "    try:\n",
    "        open(fn)\n",
    "        return True\n",
    "    except FileNotFoundError:\n",
    "        return False\n",
    "    except IsADirectoryError:\n",
    "        return True\n",
    "    return False\n",
    "    \n",
    "exist('text.txt')"
   ]
  },
  {
   "cell_type": "code",
   "execution_count": 35,
   "id": "c7cb703b",
   "metadata": {},
   "outputs": [],
   "source": [
    "f = open('test.txt')\n",
    "content = f.read()\n",
    "f.close()"
   ]
  },
  {
   "cell_type": "code",
   "execution_count": 38,
   "id": "046fea1e",
   "metadata": {},
   "outputs": [],
   "source": [
    "with open('test.txt') as f:\n",
    "    content = f.read()"
   ]
  },
  {
   "cell_type": "code",
   "execution_count": 46,
   "id": "3bbde0af",
   "metadata": {},
   "outputs": [
    {
     "data": {
      "text/plain": [
       "int"
      ]
     },
     "execution_count": 46,
     "metadata": {},
     "output_type": "execute_result"
    }
   ],
   "source": [
    "import pickle\n",
    "\n",
    "n = 14\n",
    "m = 12.2\n",
    "s = 'hi'\n",
    "l = [ 1,2, 4]\n",
    "t = pickle.dumps(n)\n",
    "type(pickle.loads(t))"
   ]
  },
  {
   "cell_type": "code",
   "execution_count": 58,
   "id": "9e64b6da",
   "metadata": {},
   "outputs": [
    {
     "name": "stdout",
     "output_type": "stream",
     "text": [
      "12\n",
      "1.1\n",
      "[1, 2, 4]\n"
     ]
    }
   ],
   "source": [
    "n = 12\n",
    "m = 1.1\n",
    "l = [1,2,4]\n",
    "with open('out.pkl', 'wb') as f:\n",
    "    pickle.dump(n, f)\n",
    "    pickle.dump(m, f)\n",
    "    pickle.dump(l, f)\n",
    "    \n",
    "with open('out.pkl', 'rb') as f:\n",
    "    for i in range(3):\n",
    "        print(pickle.load(f))\n",
    "    "
   ]
  },
  {
   "cell_type": "code",
   "execution_count": 68,
   "id": "0bad7668",
   "metadata": {},
   "outputs": [
    {
     "name": "stdout",
     "output_type": "stream",
     "text": [
      "test.py\n",
      "test.txt\n"
     ]
    },
    {
     "data": {
      "text/plain": [
       "0"
      ]
     },
     "execution_count": 68,
     "metadata": {},
     "output_type": "execute_result"
    }
   ],
   "source": [
    "import os\n",
    "os.system('ls | grep test')"
   ]
  },
  {
   "cell_type": "code",
   "execution_count": 76,
   "id": "a3a13238",
   "metadata": {},
   "outputs": [
    {
     "name": "stdout",
     "output_type": "stream",
     "text": [
      "test.py\n",
      "test.txt\n",
      "\n"
     ]
    }
   ],
   "source": [
    "import os\n",
    "f = os.popen('ls | grep test')\n",
    "print(f.read())\n",
    "f.close()"
   ]
  },
  {
   "cell_type": "code",
   "execution_count": 1,
   "id": "edbcbfeb",
   "metadata": {},
   "outputs": [
    {
     "name": "stdout",
     "output_type": "stream",
     "text": [
      "2\n"
     ]
    },
    {
     "data": {
      "text/plain": [
       "11"
      ]
     },
     "execution_count": 1,
     "metadata": {},
     "output_type": "execute_result"
    }
   ],
   "source": [
    "with open('mymodule.py', 'w') as f:\n",
    "    f.write(\"\"\"\n",
    "def str_len(s):\n",
    "    return len(s)\n",
    "\n",
    "print(str_len('hi'))\n",
    "    \"\"\")\n",
    "\n",
    "import mymodule\n",
    "mymodule.str_len('hello world')"
   ]
  },
  {
   "cell_type": "code",
   "execution_count": 1,
   "id": "48187e15",
   "metadata": {},
   "outputs": [
    {
     "name": "stdout",
     "output_type": "stream",
     "text": [
      "mymodule\n"
     ]
    },
    {
     "data": {
      "text/plain": [
       "11"
      ]
     },
     "execution_count": 1,
     "metadata": {},
     "output_type": "execute_result"
    }
   ],
   "source": [
    "with open('mymodule.py', 'w') as f:\n",
    "    f.write(\"\"\"\n",
    "def str_len(s):\n",
    "    return len(s)\n",
    "\n",
    "print(__name__)\n",
    "if __name__ == \"__main__\":\n",
    "    print(str_len('hi'))\n",
    "\"\"\")\n",
    "    \n",
    "import mymodule\n",
    "mymodule.str_len('hello world')"
   ]
  },
  {
   "cell_type": "code",
   "execution_count": 7,
   "id": "eb7dec9d",
   "metadata": {},
   "outputs": [
    {
     "name": "stdout",
     "output_type": "stream",
     "text": [
      "hi ali \n",
      "where are you now?\n",
      "\n",
      "'hi ali \\nwhere are you now?\\n'\n"
     ]
    }
   ],
   "source": [
    "# multiple line string\n",
    "s = \"\"\"hi ali \n",
    "where are you now?\n",
    "\"\"\"\n",
    "print(s, repr(s), sep='\\n')"
   ]
  },
  {
   "cell_type": "code",
   "execution_count": 6,
   "id": "7e61e230",
   "metadata": {},
   "outputs": [
    {
     "name": "stdout",
     "output_type": "stream",
     "text": [
      "Help on function test in module __main__:\n",
      "\n",
      "test()\n",
      "    This is a test function for docstring\n",
      "\n"
     ]
    }
   ],
   "source": [
    "def test():\n",
    "    \"\"\"\n",
    "    This is a test function for docstring\n",
    "    \"\"\"\n",
    "    pass\n",
    "\n",
    "help(test)"
   ]
  },
  {
   "cell_type": "code",
   "execution_count": 17,
   "id": "1aee9bf7",
   "metadata": {},
   "outputs": [
    {
     "data": {
      "text/plain": [
       "'hie \\nasfd;lkj'"
      ]
     },
     "execution_count": 17,
     "metadata": {},
     "output_type": "execute_result"
    }
   ],
   "source": [
    "\"hie \\n\\\n",
    "asfd;lkj\""
   ]
  },
  {
   "cell_type": "code",
   "execution_count": 21,
   "id": "c7bb151f",
   "metadata": {},
   "outputs": [
    {
     "name": "stdout",
     "output_type": "stream",
     "text": [
      "hi\n",
      "ali 'hi\\nali'\n"
     ]
    }
   ],
   "source": [
    "s = 'hi\\nali'\n",
    "print(s, repr(s))"
   ]
  },
  {
   "cell_type": "markdown",
   "id": "bcdc6fcf",
   "metadata": {},
   "source": [
    "# Chapter 15\n",
    "## Classes and objects"
   ]
  },
  {
   "cell_type": "code",
   "execution_count": 23,
   "id": "a1916365",
   "metadata": {},
   "outputs": [
    {
     "data": {
      "text/plain": [
       "<__main__.Point at 0x7f1d38c8e530>"
      ]
     },
     "execution_count": 23,
     "metadata": {},
     "output_type": "execute_result"
    }
   ],
   "source": [
    "class Point:\n",
    "    pass\n",
    "\n",
    "p = Point() # object, instance\n",
    "p"
   ]
  },
  {
   "cell_type": "code",
   "execution_count": 24,
   "id": "638c8481",
   "metadata": {},
   "outputs": [],
   "source": [
    "p.x = 3\n",
    "p.y = 4"
   ]
  },
  {
   "cell_type": "code",
   "execution_count": 26,
   "id": "3a69aa78",
   "metadata": {},
   "outputs": [
    {
     "data": {
      "text/plain": [
       "['__class__',\n",
       " '__delattr__',\n",
       " '__dict__',\n",
       " '__dir__',\n",
       " '__doc__',\n",
       " '__eq__',\n",
       " '__format__',\n",
       " '__ge__',\n",
       " '__getattribute__',\n",
       " '__gt__',\n",
       " '__hash__',\n",
       " '__init__',\n",
       " '__init_subclass__',\n",
       " '__le__',\n",
       " '__lt__',\n",
       " '__module__',\n",
       " '__ne__',\n",
       " '__new__',\n",
       " '__reduce__',\n",
       " '__reduce_ex__',\n",
       " '__repr__',\n",
       " '__setattr__',\n",
       " '__sizeof__',\n",
       " '__str__',\n",
       " '__subclasshook__',\n",
       " '__weakref__',\n",
       " 'x',\n",
       " 'y']"
      ]
     },
     "execution_count": 26,
     "metadata": {},
     "output_type": "execute_result"
    }
   ],
   "source": [
    "dir(p)"
   ]
  },
  {
   "cell_type": "code",
   "execution_count": 27,
   "id": "e85c06e1",
   "metadata": {},
   "outputs": [
    {
     "data": {
      "text/plain": [
       "1.4142135623730951"
      ]
     },
     "execution_count": 27,
     "metadata": {},
     "output_type": "execute_result"
    }
   ],
   "source": [
    "p1 = Point()\n",
    "p2 = Point()\n",
    "p1.x, p1.y = 3, 4\n",
    "p2.x, p2.y = 7, 12\n",
    "\n",
    "def distance(x1, y1, x2, y2):\n",
    "    return (abs(x1-x2)**2 + abs(y1-y2)**2)**.5\n",
    "\n",
    "distance(1,1,0,0)"
   ]
  },
  {
   "cell_type": "code",
   "execution_count": 29,
   "id": "4a66cce7",
   "metadata": {},
   "outputs": [
    {
     "data": {
      "text/plain": [
       "1.4142135623730951"
      ]
     },
     "execution_count": 29,
     "metadata": {},
     "output_type": "execute_result"
    }
   ],
   "source": [
    "p1 = Point()\n",
    "p2 = Point()\n",
    "p1.x, p1.y = 1, 1\n",
    "p2.x, p2.y = 0, 0\n",
    "\n",
    "def distance(p1, p2):\n",
    "    return (abs(p1.x-p2.x)**2 + abs(p1.y-p2.y)**2)**.5\n",
    "\n",
    "distance(p1, p2)"
   ]
  },
  {
   "cell_type": "code",
   "execution_count": 66,
   "id": "eb9c6aec",
   "metadata": {},
   "outputs": [
    {
     "name": "stdout",
     "output_type": "stream",
     "text": [
      "8\n",
      "(5,3)\n"
     ]
    }
   ],
   "source": [
    "class Rectangle:\n",
    "    \"\"\"\n",
    "    Requires its corner as well as width and height\n",
    "    \"\"\"\n",
    "    pass\n",
    "\n",
    "r = Rectangle()\n",
    "r.corner = Point()\n",
    "r.corner.x = 1\n",
    "r.corner.y = 1\n",
    "r.width = 4\n",
    "r.height = 2\n",
    "\n",
    "def area(r):\n",
    "    return r.width * r.height\n",
    "\n",
    "def get_other_corner(r):\n",
    "    p = Point()\n",
    "    p.x = r.corner.x + r.width\n",
    "    p.y = r.corner.y + r.height\n",
    "    return p\n",
    "\n",
    "def print_point(p):\n",
    "    print( f\"({p.x},{p.y})\" )\n",
    "\n",
    "print(area(r))\n",
    "p = get_other_corner(r)\n",
    "print_point(p)"
   ]
  },
  {
   "cell_type": "code",
   "execution_count": 68,
   "id": "40f8c58c",
   "metadata": {},
   "outputs": [
    {
     "name": "stdout",
     "output_type": "stream",
     "text": [
      "True\n",
      "(1,1)\n",
      "(1,1)\n"
     ]
    }
   ],
   "source": [
    "r2 = r\n",
    "print(r2 is r)\n",
    "print_point(r.corner)\n",
    "print_point(r2.corner)"
   ]
  },
  {
   "cell_type": "code",
   "execution_count": 69,
   "id": "bec2077d",
   "metadata": {},
   "outputs": [
    {
     "name": "stdout",
     "output_type": "stream",
     "text": [
      "False\n",
      "True\n",
      "139762794530992 139762794530992\n"
     ]
    }
   ],
   "source": [
    "# shallow copy\n",
    "\n",
    "import copy\n",
    "r2 = copy.copy(r)\n",
    "print(r2 is r)\n",
    "print(r2.corner is r.corner)\n",
    "print(id(r2.corner), id(r.corner))"
   ]
  },
  {
   "cell_type": "code",
   "execution_count": 70,
   "id": "5e300191",
   "metadata": {},
   "outputs": [
    {
     "name": "stdout",
     "output_type": "stream",
     "text": [
      "(1,1)\n",
      "(1,1)\n",
      "(10,1)\n",
      "(10,1)\n"
     ]
    }
   ],
   "source": [
    "print_point(r2.corner)\n",
    "print_point(r.corner)\n",
    "r2.corner.x = 10\n",
    "print_point(r2.corner)\n",
    "print_point(r.corner)"
   ]
  },
  {
   "cell_type": "code",
   "execution_count": 71,
   "id": "8f3c0fee",
   "metadata": {},
   "outputs": [
    {
     "name": "stdout",
     "output_type": "stream",
     "text": [
      "(10,1)\n",
      "(10,1)\n",
      "(100,1)\n",
      "(10,1)\n"
     ]
    }
   ],
   "source": [
    "# deep copy\n",
    "import copy\n",
    "r3 = copy.deepcopy(r)\n",
    "print_point(r3.corner)\n",
    "print_point(r.corner)\n",
    "r3.corner.x = 100\n",
    "print_point(r3.corner)\n",
    "print_point(r.corner)"
   ]
  }
 ],
 "metadata": {
  "kernelspec": {
   "display_name": ".venv",
   "language": "python",
   "name": ".venv"
  },
  "language_info": {
   "codemirror_mode": {
    "name": "ipython",
    "version": 3
   },
   "file_extension": ".py",
   "mimetype": "text/x-python",
   "name": "python",
   "nbconvert_exporter": "python",
   "pygments_lexer": "ipython3",
   "version": "3.10.8"
  }
 },
 "nbformat": 4,
 "nbformat_minor": 5
}
