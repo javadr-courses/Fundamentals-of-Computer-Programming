{
 "cells": [
  {
   "cell_type": "markdown",
   "id": "251497c3",
   "metadata": {},
   "source": [
    "# Introduction to Progamming Languages with Python \n",
    "### University of Qom\n",
    "##### Sat. 1401/10/10"
   ]
  },
  {
   "cell_type": "markdown",
   "id": "bcdc6fcf",
   "metadata": {},
   "source": [
    "# Chapter 15\n",
    "## Classes and objects"
   ]
  },
  {
   "cell_type": "code",
   "execution_count": 4,
   "id": "a1916365",
   "metadata": {},
   "outputs": [
    {
     "name": "stdout",
     "output_type": "stream",
     "text": [
      "(3,4)\n"
     ]
    }
   ],
   "source": [
    "class Point:\n",
    "    def print_point(p):\n",
    "        print( f\"({p.x},{p.y})\" )\n",
    "    \n",
    "\n",
    "p = Point() # object, instance\n",
    "p.x = 3\n",
    "p.y = 4\n",
    "p.print_point()"
   ]
  },
  {
   "cell_type": "code",
   "execution_count": 8,
   "id": "638c8481",
   "metadata": {},
   "outputs": [
    {
     "name": "stdout",
     "output_type": "stream",
     "text": [
      "(3,4)\n",
      "(3,4)\n"
     ]
    }
   ],
   "source": [
    "class Point:\n",
    "    def print_point(self):\n",
    "        print( f\"({self.x},{self.y})\" )\n",
    "    \n",
    "\n",
    "p = Point() # object, instance\n",
    "p.x = 3\n",
    "p.y = 4\n",
    "p.print_point()\n",
    "Point.print_point(p)"
   ]
  },
  {
   "cell_type": "code",
   "execution_count": 9,
   "id": "57608765",
   "metadata": {},
   "outputs": [
    {
     "name": "stdout",
     "output_type": "stream",
     "text": [
      "A new object is created!\n"
     ]
    }
   ],
   "source": [
    "class Point:\n",
    "    def __init__(self, ): #constructor\n",
    "        print('A new object is created!')\n",
    "    def print_point(self):\n",
    "        print( f\"({self.x},{self.y})\" )\n",
    "    \n",
    "\n",
    "p = Point() # object, instance"
   ]
  },
  {
   "cell_type": "code",
   "execution_count": 10,
   "id": "86795292",
   "metadata": {},
   "outputs": [
    {
     "name": "stdout",
     "output_type": "stream",
     "text": [
      "(3,4)\n"
     ]
    }
   ],
   "source": [
    "class Point:\n",
    "    def __init__(self,x, y): #constructor\n",
    "        self.x = x\n",
    "        self.y = y\n",
    "    def print_point(self):\n",
    "        print( f\"({self.x},{self.y})\" )\n",
    "    \n",
    "\n",
    "p = Point(3,4) # object, instance\n",
    "p.print_point()"
   ]
  },
  {
   "cell_type": "code",
   "execution_count": 14,
   "id": "fecadc11",
   "metadata": {},
   "outputs": [
    {
     "name": "stdout",
     "output_type": "stream",
     "text": [
      "(0,0)\n"
     ]
    }
   ],
   "source": [
    "class Point:\n",
    "    def __init__(self, x=0, y=0): #constructor\n",
    "        self.x = x\n",
    "        self.y = y\n",
    "    def print_point(self):\n",
    "        print( f\"({self.x},{self.y})\" )\n",
    "    \n",
    "\n",
    "p = Point() # object, instance\n",
    "p.print_point()"
   ]
  },
  {
   "cell_type": "code",
   "execution_count": 20,
   "id": "bd6a6d0e",
   "metadata": {},
   "outputs": [
    {
     "name": "stdout",
     "output_type": "stream",
     "text": [
      "str is called\n"
     ]
    }
   ],
   "source": [
    "class Point:\n",
    "    def __init__(self, x=0, y=0): #constructor\n",
    "        self.x = x\n",
    "        self.y = y\n",
    "    def print_point(self):\n",
    "        print( f\"({self.x},{self.y})\" )\n",
    "    def __str__(self):\n",
    "        return \"str is called\"\n",
    "\n",
    "p = Point() # object, instance\n",
    "print(p)"
   ]
  },
  {
   "cell_type": "code",
   "execution_count": 41,
   "id": "8d626111",
   "metadata": {},
   "outputs": [
    {
     "data": {
      "text/plain": [
       "(0,0)"
      ]
     },
     "execution_count": 41,
     "metadata": {},
     "output_type": "execute_result"
    }
   ],
   "source": [
    "class Point:\n",
    "    def __init__(self, x=0, y=0): #constructor\n",
    "        self.x = x\n",
    "        self.y = y\n",
    "    def print_point(self):\n",
    "        print( f\"({self.x},{self.y})\" )\n",
    "    def __str__(self):\n",
    "        return f\"({self.x},{self.y})\"\n",
    "    __repr__ = __str__\n",
    "\n",
    "p = Point() # object, instance\n",
    "p"
   ]
  },
  {
   "cell_type": "code",
   "execution_count": 27,
   "id": "dfb652fa",
   "metadata": {},
   "outputs": [
    {
     "data": {
      "text/plain": [
       "'BOOQ'"
      ]
     },
     "execution_count": 27,
     "metadata": {},
     "output_type": "execute_result"
    }
   ],
   "source": [
    "def booq():\n",
    "    return 'BOOQ'\n",
    "\n",
    "sheypoor = booq\n",
    "sheypoor()"
   ]
  },
  {
   "cell_type": "code",
   "execution_count": 33,
   "id": "4a43e730",
   "metadata": {},
   "outputs": [
    {
     "name": "stdout",
     "output_type": "stream",
     "text": [
      "'hi\\nstudents!' hi\n",
      "students!\n"
     ]
    }
   ],
   "source": [
    "s = 'hi\\nstudents!'\n",
    "\n",
    "print(repr(s), str(s))"
   ]
  },
  {
   "cell_type": "code",
   "execution_count": 42,
   "id": "dd601514",
   "metadata": {},
   "outputs": [
    {
     "data": {
      "text/plain": [
       "True"
      ]
     },
     "execution_count": 42,
     "metadata": {},
     "output_type": "execute_result"
    }
   ],
   "source": [
    "class Point:\n",
    "    def __init__(self, x=0, y=0): #constructor\n",
    "        self.x = x\n",
    "        self.y = y\n",
    "    def print_point(self):\n",
    "        print( f\"({self.x},{self.y})\" )\n",
    "    def __str__(self):\n",
    "        return f\"({self.x},{self.y})\"\n",
    "    __repr__ = __str__\n",
    "    def is_less_than(self, other):\n",
    "        return self.x<other.x and self.y<other.y\n",
    "\n",
    "p1 = Point(2,3)\n",
    "p2 = Point(12,13)\n",
    "p1.is_less_than(p2)"
   ]
  },
  {
   "cell_type": "code",
   "execution_count": 45,
   "id": "aed71ebb",
   "metadata": {},
   "outputs": [
    {
     "data": {
      "text/plain": [
       "['__class__',\n",
       " '__delattr__',\n",
       " '__dict__',\n",
       " '__dir__',\n",
       " '__doc__',\n",
       " '__eq__',\n",
       " '__format__',\n",
       " '__ge__',\n",
       " '__getattribute__',\n",
       " '__gt__',\n",
       " '__hash__',\n",
       " '__init__',\n",
       " '__init_subclass__',\n",
       " '__le__',\n",
       " '__lt__',\n",
       " '__module__',\n",
       " '__ne__',\n",
       " '__new__',\n",
       " '__reduce__',\n",
       " '__reduce_ex__',\n",
       " '__repr__',\n",
       " '__setattr__',\n",
       " '__sizeof__',\n",
       " '__str__',\n",
       " '__subclasshook__',\n",
       " '__weakref__',\n",
       " 'print_point',\n",
       " 'x',\n",
       " 'y']"
      ]
     },
     "execution_count": 45,
     "metadata": {},
     "output_type": "execute_result"
    }
   ],
   "source": [
    "dir(p)"
   ]
  },
  {
   "cell_type": "code",
   "execution_count": 49,
   "id": "93d3a0a8",
   "metadata": {},
   "outputs": [
    {
     "data": {
      "text/plain": [
       "False"
      ]
     },
     "execution_count": 49,
     "metadata": {},
     "output_type": "execute_result"
    }
   ],
   "source": [
    "class Point:\n",
    "    def __init__(self, x=0, y=0): #constructor\n",
    "        self.x = x\n",
    "        self.y = y\n",
    "    def print_point(self):\n",
    "        print( f\"({self.x},{self.y})\" )\n",
    "    def __str__(self):\n",
    "        return f\"({self.x},{self.y})\"\n",
    "    __repr__ = __str__\n",
    "    def __lt__(self, other):\n",
    "        return self.x<other.x and self.y<other.y\n",
    "    def __gt__(self, other):\n",
    "        return other<self\n",
    "    \n",
    "\n",
    "p1 = Point(2,3)\n",
    "p2 = Point(12,13)\n",
    "p1>p2"
   ]
  },
  {
   "cell_type": "code",
   "execution_count": 51,
   "id": "aea7d963",
   "metadata": {},
   "outputs": [
    {
     "data": {
      "text/plain": [
       "False"
      ]
     },
     "execution_count": 51,
     "metadata": {},
     "output_type": "execute_result"
    }
   ],
   "source": [
    "class Point:\n",
    "    def __init__(self, x=0, y=0): #constructor\n",
    "        self.x = x\n",
    "        self.y = y\n",
    "    def print_point(self):\n",
    "        print( f\"({self.x},{self.y})\" )\n",
    "    def __str__(self):\n",
    "        return f\"({self.x},{self.y})\"\n",
    "    __repr__ = __str__\n",
    "    def __lt__(self, other):\n",
    "        return self.x<other.x and self.y<other.y\n",
    "    def __gt__(self, other):\n",
    "        return other<self\n",
    "    def __le__(self, other):\n",
    "        return self.x<=other.x and self.y<=other.y\n",
    "    def __ge__(self, other):\n",
    "        return other<=self\n",
    "    \n",
    "\n",
    "p1 = Point(2,3)\n",
    "p2 = Point(12,13)\n",
    "p1>=p2"
   ]
  },
  {
   "cell_type": "code",
   "execution_count": 57,
   "id": "e85c06e1",
   "metadata": {},
   "outputs": [
    {
     "data": {
      "text/plain": [
       "(18,21)"
      ]
     },
     "execution_count": 57,
     "metadata": {},
     "output_type": "execute_result"
    }
   ],
   "source": [
    "class Point:\n",
    "    def __init__(self, x=0, y=0): #constructor\n",
    "        self.x = x\n",
    "        self.y = y\n",
    "    def print_point(self):\n",
    "        print( f\"({self.x},{self.y})\" )\n",
    "    def __str__(self):\n",
    "        return f\"({self.x},{self.y})\"\n",
    "    __repr__ = __str__\n",
    "    def __lt__(self, other):\n",
    "        return self.x<other.x and self.y<other.y\n",
    "    def __gt__(self, other):\n",
    "        return other<self\n",
    "    def __le__(self, other):\n",
    "        return self.x<=other.x and self.y<=other.y\n",
    "    def __ge__(self, other):\n",
    "        return other<=self\n",
    "    def sum(self, other):\n",
    "        return Point(self.x+other.x, self.y+other.y)\n",
    "\n",
    "p1 = Point(2,3)\n",
    "p2 = Point(12,13)\n",
    "p3 = Point(4,5)\n",
    "p1.sum(p2).sum(p3)"
   ]
  },
  {
   "cell_type": "code",
   "execution_count": 58,
   "id": "4a66cce7",
   "metadata": {},
   "outputs": [
    {
     "data": {
      "text/plain": [
       "(18,21)"
      ]
     },
     "execution_count": 58,
     "metadata": {},
     "output_type": "execute_result"
    }
   ],
   "source": [
    "class Point:\n",
    "    def __init__(self, x=0, y=0): #constructor\n",
    "        self.x = x\n",
    "        self.y = y\n",
    "    def print_point(self):\n",
    "        print( f\"({self.x},{self.y})\" )\n",
    "    def __str__(self):\n",
    "        return f\"({self.x},{self.y})\"\n",
    "    __repr__ = __str__\n",
    "    def __lt__(self, other):\n",
    "        return self.x<other.x and self.y<other.y\n",
    "    def __gt__(self, other):\n",
    "        return other<self\n",
    "    def __le__(self, other):\n",
    "        return self.x<=other.x and self.y<=other.y\n",
    "    def __ge__(self, other):\n",
    "        return other<=self\n",
    "    def __add__(self, other):\n",
    "        return Point(self.x+other.x, self.y+other.y)\n",
    "\n",
    "p1 = Point(2,3)\n",
    "p2 = Point(12,13)\n",
    "p3 = Point(4,5)\n",
    "p1+p2+p3"
   ]
  },
  {
   "cell_type": "code",
   "execution_count": 66,
   "id": "eb9c6aec",
   "metadata": {},
   "outputs": [
    {
     "name": "stdout",
     "output_type": "stream",
     "text": [
      "8\n",
      "(5,3)\n"
     ]
    }
   ],
   "source": [
    "class Point:\n",
    "    def __init__(self, x=0, y=0): #constructor\n",
    "        self.x = x\n",
    "        self.y = y\n",
    "    def print_point(self):\n",
    "        print( f\"({self.x},{self.y})\" )\n",
    "    def __str__(self):\n",
    "        return f\"({self.x},{self.y})\"\n",
    "    __repr__ = __str__\n",
    "    def __lt__(self, other):\n",
    "        return self.x<other.x and self.y<other.y\n",
    "    def __gt__(self, other):\n",
    "        return other<self\n",
    "    def __le__(self, other):\n",
    "        return self.x<=other.x and self.y<=other.y\n",
    "    def __ge__(self, other):\n",
    "        return other<=self\n",
    "    def __add__(self, other):\n",
    "        return Point(self.x+other.x, self.y+other.y)\n",
    "\n",
    "p1 = Point(2,3)\n",
    "p2 = Point(12,13)\n",
    "p3 = Point(4,5)\n",
    "p1+p2+p3"
   ]
  },
  {
   "cell_type": "code",
   "execution_count": 59,
   "id": "40f8c58c",
   "metadata": {},
   "outputs": [
    {
     "data": {
      "text/plain": [
       "(-2,-3)"
      ]
     },
     "execution_count": 59,
     "metadata": {},
     "output_type": "execute_result"
    }
   ],
   "source": [
    "class Point:\n",
    "    def __init__(self, x=0, y=0): #constructor\n",
    "        self.x = x\n",
    "        self.y = y\n",
    "    def print_point(self):\n",
    "        print( f\"({self.x},{self.y})\" )\n",
    "    def __str__(self):\n",
    "        return f\"({self.x},{self.y})\"\n",
    "    __repr__ = __str__\n",
    "    def __lt__(self, other):\n",
    "        return self.x<other.x and self.y<other.y\n",
    "    def __gt__(self, other):\n",
    "        return other<self\n",
    "    def __le__(self, other):\n",
    "        return self.x<=other.x and self.y<=other.y\n",
    "    def __ge__(self, other):\n",
    "        return other<=self\n",
    "    def __add__(self, other):\n",
    "        return Point(self.x+other.x, self.y+other.y)\n",
    "    def __neg__(self):\n",
    "        return Point(-self.x, -self.y)\n",
    "\n",
    "p1 = Point(2,3)\n",
    "p2 = Point(12,13)\n",
    "p3 = Point(4,5)\n",
    "-p1"
   ]
  },
  {
   "cell_type": "code",
   "execution_count": 61,
   "id": "bec2077d",
   "metadata": {},
   "outputs": [
    {
     "data": {
      "text/plain": [
       "(-10,-10)"
      ]
     },
     "execution_count": 61,
     "metadata": {},
     "output_type": "execute_result"
    }
   ],
   "source": [
    "class Point:\n",
    "    def __init__(self, x=0, y=0): #constructor\n",
    "        self.x = x\n",
    "        self.y = y\n",
    "    def print_point(self):\n",
    "        print( f\"({self.x},{self.y})\" )\n",
    "    def __str__(self):\n",
    "        return f\"({self.x},{self.y})\"\n",
    "    __repr__ = __str__\n",
    "    def __lt__(self, other):\n",
    "        return self.x<other.x and self.y<other.y\n",
    "    def __gt__(self, other):\n",
    "        return other<self\n",
    "    def __le__(self, other):\n",
    "        return self.x<=other.x and self.y<=other.y\n",
    "    def __ge__(self, other):\n",
    "        return other<=self\n",
    "    def __add__(self, other):\n",
    "        return Point(self.x+other.x, self.y+other.y)\n",
    "    def __neg__(self):\n",
    "        return Point(-self.x, -self.y)\n",
    "    def __sub__(self, other):\n",
    "        return self + -other\n",
    "\n",
    "p1 = Point(2,3)\n",
    "p2 = Point(12,13)\n",
    "p3 = Point(4,5)\n",
    "p1-p2\n",
    "# p1.__sub__(p2)\n",
    "# p1.__add__(p2.__neg__())\n",
    "# Point(p1.x+(-p2.x), p1.y+(-p2.y))"
   ]
  },
  {
   "cell_type": "code",
   "execution_count": 71,
   "id": "5e300191",
   "metadata": {},
   "outputs": [
    {
     "data": {
      "text/plain": [
       "(4,3)"
      ]
     },
     "execution_count": 71,
     "metadata": {},
     "output_type": "execute_result"
    }
   ],
   "source": [
    "class Point:\n",
    "    def __init__(self, x=0, y=0): #constructor\n",
    "        self.x = x\n",
    "        self.y = y\n",
    "    def print_point(self):\n",
    "        print( f\"({self.x},{self.y})\" )\n",
    "    def __str__(self):\n",
    "        return f\"({self.x},{self.y})\"\n",
    "    __repr__ = __str__\n",
    "    def __lt__(self, other):\n",
    "        return self.x<other.x and self.y<other.y\n",
    "    def __gt__(self, other):\n",
    "        return other<self\n",
    "    def __le__(self, other):\n",
    "        return self.x<=other.x and self.y<=other.y\n",
    "    def __ge__(self, other):\n",
    "        return other<=self\n",
    "    def __add__(self, other):\n",
    "        if isinstance(other, (int, float)):\n",
    "            return Point(self.x+other, self.y)\n",
    "        elif isinstance(other, Point):\n",
    "            return Point(self.x+other.x, self.y+other.y)\n",
    "        else:\n",
    "            raise ValueError(\"Type Mismatch\")\n",
    "    def __neg__(self):\n",
    "        return Point(-self.x, -self.y)\n",
    "    def __sub__(self, other):\n",
    "        return self + -other\n",
    "\n",
    "p1 = Point(2,3)\n",
    "p2 = Point(12,13)\n",
    "p3 = Point(4,5)\n",
    "p1 + 2"
   ]
  },
  {
   "cell_type": "code",
   "execution_count": 73,
   "id": "8f3c0fee",
   "metadata": {},
   "outputs": [
    {
     "ename": "TypeError",
     "evalue": "unsupported operand type(s) for +: 'int' and 'Point'",
     "output_type": "error",
     "traceback": [
      "\u001b[0;31m---------------------------------------------------------------------------\u001b[0m",
      "\u001b[0;31mTypeError\u001b[0m                                 Traceback (most recent call last)",
      "Input \u001b[0;32mIn [73]\u001b[0m, in \u001b[0;36m<cell line: 33>\u001b[0;34m()\u001b[0m\n\u001b[1;32m     31\u001b[0m p2 \u001b[38;5;241m=\u001b[39m Point(\u001b[38;5;241m12\u001b[39m,\u001b[38;5;241m13\u001b[39m)\n\u001b[1;32m     32\u001b[0m p3 \u001b[38;5;241m=\u001b[39m Point(\u001b[38;5;241m4\u001b[39m,\u001b[38;5;241m5\u001b[39m)\n\u001b[0;32m---> 33\u001b[0m \u001b[38;5;241;43m2\u001b[39;49m\u001b[43m \u001b[49m\u001b[38;5;241;43m+\u001b[39;49m\u001b[43m \u001b[49m\u001b[43mp1\u001b[49m\n",
      "\u001b[0;31mTypeError\u001b[0m: unsupported operand type(s) for +: 'int' and 'Point'"
     ]
    }
   ],
   "source": [
    "class Point:\n",
    "    def __init__(self, x=0, y=0): #constructor\n",
    "        self.x = x\n",
    "        self.y = y\n",
    "    def print_point(self):\n",
    "        print( f\"({self.x},{self.y})\" )\n",
    "    def __str__(self):\n",
    "        return f\"({self.x},{self.y})\"\n",
    "    __repr__ = __str__\n",
    "    def __lt__(self, other):\n",
    "        return self.x<other.x and self.y<other.y\n",
    "    def __gt__(self, other):\n",
    "        return other<self\n",
    "    def __le__(self, other):\n",
    "        return self.x<=other.x and self.y<=other.y\n",
    "    def __ge__(self, other):\n",
    "        return other<=self\n",
    "    def __add__(self, other):\n",
    "        if isinstance(other, (int, float)):\n",
    "            return Point(self.x+other, self.y)\n",
    "        elif isinstance(other, Point):\n",
    "            return Point(self.x+other.x, self.y+other.y)\n",
    "        else:\n",
    "            raise ValueError(\"Type Mismatch\")\n",
    "    def __neg__(self):\n",
    "        return Point(-self.x, -self.y)\n",
    "    def __sub__(self, other):\n",
    "        return self + -other\n",
    "\n",
    "p1 = Point(2,3)\n",
    "p2 = Point(12,13)\n",
    "p3 = Point(4,5)\n",
    "2 + p1"
   ]
  },
  {
   "cell_type": "code",
   "execution_count": 77,
   "id": "192cdc03",
   "metadata": {},
   "outputs": [
    {
     "data": {
      "text/plain": [
       "(19,3)"
      ]
     },
     "execution_count": 77,
     "metadata": {},
     "output_type": "execute_result"
    }
   ],
   "source": [
    "class Point:\n",
    "    def __init__(self, x=0, y=0): #constructor\n",
    "        self.x = x\n",
    "        self.y = y\n",
    "    def print_point(self):\n",
    "        print( f\"({self.x},{self.y})\" )\n",
    "    def __str__(self):\n",
    "        return f\"({self.x},{self.y})\"\n",
    "    __repr__ = __str__\n",
    "    def __lt__(self, other):\n",
    "        return self.x<other.x and self.y<other.y\n",
    "    def __gt__(self, other):\n",
    "        return other<self\n",
    "    def __le__(self, other):\n",
    "        return self.x<=other.x and self.y<=other.y\n",
    "    def __ge__(self, other):\n",
    "        return other<=self\n",
    "    def __add__(self, other):\n",
    "        if isinstance(other, (int, float)):\n",
    "            return Point(self.x+other, self.y)\n",
    "        elif isinstance(other, Point):\n",
    "            return Point(self.x+other.x, self.y+other.y)\n",
    "        else:\n",
    "            raise ValueError(\"Type Mismatch\")\n",
    "#     def __radd__(self, other):\n",
    "#         return self+other\n",
    "    __radd__ = __add__\n",
    "        \n",
    "    def __neg__(self):\n",
    "        return Point(-self.x, -self.y)\n",
    "    def __sub__(self, other):\n",
    "        return self + -other\n",
    "\n",
    "p1 = Point(2,3)\n",
    "p2 = Point(12,13)\n",
    "p3 = Point(4,5)\n",
    "12 + 2 + p1 + 3"
   ]
  },
  {
   "cell_type": "code",
   "execution_count": 80,
   "id": "bd718a9b",
   "metadata": {},
   "outputs": [
    {
     "data": {
      "text/plain": [
       "(4,3)"
      ]
     },
     "execution_count": 80,
     "metadata": {},
     "output_type": "execute_result"
    }
   ],
   "source": [
    "class Point:\n",
    "    def __init__(self, x=0, y=0): #constructor\n",
    "        self.x = x\n",
    "        self.y = y\n",
    "    def print_point(self):\n",
    "        print( f\"({self.x},{self.y})\" )\n",
    "    def __str__(self):\n",
    "        return f\"({self.x},{self.y})\"\n",
    "    __repr__ = __str__\n",
    "    def __lt__(self, other):\n",
    "        return self.x<other.x and self.y<other.y\n",
    "    def __gt__(self, other):\n",
    "        return other<self\n",
    "    def __le__(self, other):\n",
    "        return self.x<=other.x and self.y<=other.y\n",
    "    def __ge__(self, other):\n",
    "        return other<=self\n",
    "    def __add__(self, other):\n",
    "        if isinstance(other, (int, float)):\n",
    "            return Point(self.x+other, self.y)\n",
    "        elif isinstance(other, Point):\n",
    "            return Point(self.x+other.x, self.y+other.y)\n",
    "        else:\n",
    "            raise ValueError(\"Type Mismatch\")\n",
    "#     def __radd__(self, other):\n",
    "#         return self+other\n",
    "    __radd__ = __add__\n",
    "        \n",
    "    def __neg__(self):\n",
    "        return Point(-self.x, -self.y)\n",
    "    def __sub__(self, other):\n",
    "        return self + -other\n",
    "\n",
    "p1 = Point(2,3)\n",
    "p2 = Point(12,13)\n",
    "p3 = Point(4,5)\n",
    "p1 += 2\n",
    "p1"
   ]
  },
  {
   "cell_type": "code",
   "execution_count": 82,
   "id": "e145aa0b",
   "metadata": {},
   "outputs": [
    {
     "data": {
      "text/plain": [
       "(16,16)"
      ]
     },
     "execution_count": 82,
     "metadata": {},
     "output_type": "execute_result"
    }
   ],
   "source": [
    "# Polymorphism\n",
    "\n",
    "def mysum(a,b):\n",
    "    return a+b\n",
    "\n",
    "mysum(2,3)\n",
    "mysum(p1,p2)"
   ]
  }
 ],
 "metadata": {
  "kernelspec": {
   "display_name": ".venv",
   "language": "python",
   "name": ".venv"
  },
  "language_info": {
   "codemirror_mode": {
    "name": "ipython",
    "version": 3
   },
   "file_extension": ".py",
   "mimetype": "text/x-python",
   "name": "python",
   "nbconvert_exporter": "python",
   "pygments_lexer": "ipython3",
   "version": "3.10.8"
  }
 },
 "nbformat": 4,
 "nbformat_minor": 5
}
