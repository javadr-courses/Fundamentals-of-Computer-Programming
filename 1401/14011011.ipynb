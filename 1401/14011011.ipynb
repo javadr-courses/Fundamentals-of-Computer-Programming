{
 "cells": [
  {
   "cell_type": "markdown",
   "id": "251497c3",
   "metadata": {},
   "source": [
    "# Introduction to Progamming Languages with Python \n",
    "### University of Qom\n",
    "##### Sun. 1401/10/11"
   ]
  },
  {
   "cell_type": "markdown",
   "id": "bcdc6fcf",
   "metadata": {},
   "source": [
    "# Chapter 18:\n",
    "## Inheritance"
   ]
  },
  {
   "cell_type": "code",
   "execution_count": 1,
   "id": "5906d293",
   "metadata": {},
   "outputs": [
    {
     "data": {
      "text/plain": [
       "(2,3)"
      ]
     },
     "execution_count": 1,
     "metadata": {},
     "output_type": "execute_result"
    }
   ],
   "source": [
    "class Point:\n",
    "    def __init__(self, x=0, y=0): #constructor\n",
    "        self.x = x\n",
    "        self.y = y\n",
    "    def __str__(self):\n",
    "        return f\"({self.x:g},{self.y:g})\"\n",
    "    __repr__ = __str__\n",
    "    def __lt__(self, other):\n",
    "        return self.x<other.x and self.y<other.y\n",
    "    def __gt__(self, other):\n",
    "        return other<self\n",
    "    def __le__(self, other):\n",
    "        return self.x<=other.x and self.y<=other.y\n",
    "    def __ge__(self, other):\n",
    "        return other<=self\n",
    "    def __add__(self, other):\n",
    "        if isinstance(other, (int, float)):\n",
    "            return Point(self.x+other, self.y)\n",
    "        elif isinstance(other, Point):\n",
    "            return Point(self.x+other.x, self.y+other.y)\n",
    "        else:\n",
    "            raise ValueError(\"Type Mismatch\")\n",
    "    __radd__ = __add__\n",
    "        \n",
    "    def __neg__(self):\n",
    "        return Point(-self.x, -self.y)\n",
    "    def __sub__(self, other):\n",
    "        return self + -other\n",
    "\n",
    "p1 = Point(2,3)\n",
    "p1"
   ]
  },
  {
   "cell_type": "code",
   "execution_count": 2,
   "id": "5d7e5ce7",
   "metadata": {},
   "outputs": [
    {
     "data": {
      "text/plain": [
       "{'x': 2, 'y': 3}"
      ]
     },
     "execution_count": 2,
     "metadata": {},
     "output_type": "execute_result"
    }
   ],
   "source": [
    "vars(p1)"
   ]
  },
  {
   "cell_type": "code",
   "execution_count": 7,
   "id": "6c4ae39e",
   "metadata": {},
   "outputs": [
    {
     "data": {
      "text/plain": [
       "True"
      ]
     },
     "execution_count": 7,
     "metadata": {},
     "output_type": "execute_result"
    }
   ],
   "source": [
    "hasattr(p1, 'x')"
   ]
  },
  {
   "cell_type": "code",
   "execution_count": 8,
   "id": "24304b1a",
   "metadata": {},
   "outputs": [
    {
     "data": {
      "text/plain": [
       "2"
      ]
     },
     "execution_count": 8,
     "metadata": {},
     "output_type": "execute_result"
    }
   ],
   "source": [
    "getattr(p1,'x')"
   ]
  },
  {
   "cell_type": "code",
   "execution_count": 18,
   "id": "76e970df",
   "metadata": {},
   "outputs": [
    {
     "name": "stdout",
     "output_type": "stream",
     "text": [
      "A class\n",
      "B class\n"
     ]
    },
    {
     "data": {
      "text/plain": [
       "(18, 12)"
      ]
     },
     "execution_count": 18,
     "metadata": {},
     "output_type": "execute_result"
    }
   ],
   "source": [
    "class A:\n",
    "    a = 12\n",
    "    def __init__(self,):\n",
    "        self.a = 18\n",
    "        print('A class')\n",
    "\n",
    "class B(A):\n",
    "    def __init__(self,):\n",
    "        self.b = 14\n",
    "        print('B class')\n",
    "\n",
    "a = A()\n",
    "b = B()\n",
    "a.a, b.a"
   ]
  },
  {
   "cell_type": "code",
   "execution_count": 33,
   "id": "6a7504d2",
   "metadata": {},
   "outputs": [
    {
     "name": "stdout",
     "output_type": "stream",
     "text": [
      "B class\n",
      "function f\n"
     ]
    }
   ],
   "source": [
    "class A:\n",
    "    a = 12\n",
    "    def __init__(self,):\n",
    "        self.a = 18\n",
    "        print('A class')\n",
    "    def f(self,):\n",
    "        print('function f')\n",
    "\n",
    "class B(A):\n",
    "    def __init__(self,):\n",
    "        self.b = 14\n",
    "        print('B class')\n",
    "\n",
    "b = B()\n",
    "b.f()"
   ]
  },
  {
   "cell_type": "code",
   "execution_count": 29,
   "id": "024339f3",
   "metadata": {},
   "outputs": [
    {
     "name": "stdout",
     "output_type": "stream",
     "text": [
      "A class\n",
      "B class\n"
     ]
    },
    {
     "data": {
      "text/plain": [
       "{'a': 2, 'b': 14}"
      ]
     },
     "execution_count": 29,
     "metadata": {},
     "output_type": "execute_result"
    }
   ],
   "source": [
    "class A:\n",
    "    def __init__(self, a=0):\n",
    "        self.a = a\n",
    "        print('A class')\n",
    "\n",
    "class B(A):\n",
    "    def __init__(self,b=0):\n",
    "        super().__init__()\n",
    "        self.a += 2\n",
    "        self.b = b\n",
    "        print('B class')\n",
    "\n",
    "b = B(14)\n",
    "vars(b)"
   ]
  },
  {
   "cell_type": "code",
   "execution_count": 32,
   "id": "995ebd0f",
   "metadata": {},
   "outputs": [
    {
     "data": {
      "text/plain": [
       "jack brown [male] (32)"
      ]
     },
     "execution_count": 32,
     "metadata": {},
     "output_type": "execute_result"
    }
   ],
   "source": [
    "class Person:\n",
    "    def __init__(self, name='', family='', age=0, gender=None,):\n",
    "        self.name = name\n",
    "        self.family = family\n",
    "        self.age = age\n",
    "        self.gender = gender\n",
    "    def get_name(self,):\n",
    "        return f\"{self.name} {self.family}\"\n",
    "    def get_age(self,):\n",
    "        return self.age\n",
    "    def get_gender(self,):\n",
    "        return self.gender\n",
    "    def __str__(self,):\n",
    "        return f\"{self.name} {self.family} [{self.gender}] ({self.age})\"\n",
    "    __repr__ = __str__\n",
    "    \n",
    "    \n",
    "p = Person('jack', 'brown', 32, 'male')\n",
    "p"
   ]
  },
  {
   "cell_type": "code",
   "execution_count": 46,
   "id": "75c8e537",
   "metadata": {},
   "outputs": [
    {
     "data": {
      "text/plain": [
       "jack brown [male] (32)(stnum: 4011011010, major: CS)"
      ]
     },
     "execution_count": 46,
     "metadata": {},
     "output_type": "execute_result"
    }
   ],
   "source": [
    "class Student(Person):\n",
    "    def __init__(self, name, family, age, gender,\n",
    "                 st_num, major, avg=0, dorm=False):\n",
    "        super().__init__(name, family, age, gender)\n",
    "        self.st_num = st_num\n",
    "        self.major = major\n",
    "        self.avg = avg\n",
    "        self.dorm = dorm\n",
    "    \n",
    "    def __str__(self,):\n",
    "        return super().__str__()+\\\n",
    "            f\"(stnum: {self.st_num}, major: {self.major})\"\n",
    "    __repr__ = __str__\n",
    "        \n",
    "s = Student('jack', 'brown', 32, 'male', 4011011010, 'CS')\n",
    "s\n",
    "        \n",
    "        "
   ]
  },
  {
   "cell_type": "code",
   "execution_count": 58,
   "id": "c041372f",
   "metadata": {},
   "outputs": [
    {
     "name": "stdout",
     "output_type": "stream",
     "text": [
      "C class\n",
      "D class\n"
     ]
    },
    {
     "data": {
      "text/plain": [
       "(__main__.D, __main__.C, __main__.B, __main__.A, object)"
      ]
     },
     "execution_count": 58,
     "metadata": {},
     "output_type": "execute_result"
    }
   ],
   "source": [
    "class A:\n",
    "    def __init__(self):\n",
    "        self.a = 1\n",
    "        print('A class')\n",
    "        \n",
    "class B(A):\n",
    "    def __init__(self):\n",
    "        self.b = 2\n",
    "        print('B class')        \n",
    "        \n",
    "class C(A):\n",
    "    def __init__(self):\n",
    "        self.c = 3\n",
    "        print('C class')        \n",
    "        \n",
    "class D(C, B):\n",
    "    def __init__(self):\n",
    "        self.d = 1\n",
    "        super().__init__()\n",
    "        print('D class')\n",
    "        \n",
    "o = D()\n",
    "D.__mro__"
   ]
  },
  {
   "cell_type": "code",
   "execution_count": 69,
   "id": "1cb0368e",
   "metadata": {},
   "outputs": [
    {
     "data": {
      "text/plain": [
       "1"
      ]
     },
     "execution_count": 69,
     "metadata": {},
     "output_type": "execute_result"
    }
   ],
   "source": [
    "# private attribute/method\n",
    "\n",
    "class A:\n",
    "    def __init__(self):\n",
    "        self.__a = 1\n",
    "    def get_a(self,):\n",
    "        return self.__a\n",
    "        \n",
    "obj = A()\n",
    "# obj.__a\n",
    "obj.get_a()"
   ]
  },
  {
   "cell_type": "code",
   "execution_count": 72,
   "id": "fc7e19d9",
   "metadata": {},
   "outputs": [
    {
     "ename": "AttributeError",
     "evalue": "'B' object has no attribute '__a'",
     "output_type": "error",
     "traceback": [
      "\u001b[0;31m---------------------------------------------------------------------------\u001b[0m",
      "\u001b[0;31mAttributeError\u001b[0m                            Traceback (most recent call last)",
      "Input \u001b[0;32mIn [72]\u001b[0m, in \u001b[0;36m<cell line: 14>\u001b[0;34m()\u001b[0m\n\u001b[1;32m     10\u001b[0m         \u001b[38;5;28mself\u001b[39m\u001b[38;5;241m.\u001b[39mb \u001b[38;5;241m=\u001b[39m \u001b[38;5;241m2\u001b[39m\n\u001b[1;32m     13\u001b[0m b \u001b[38;5;241m=\u001b[39m B()\n\u001b[0;32m---> 14\u001b[0m \u001b[43mb\u001b[49m\u001b[38;5;241;43m.\u001b[39;49m\u001b[43m__a\u001b[49m\n",
      "\u001b[0;31mAttributeError\u001b[0m: 'B' object has no attribute '__a'"
     ]
    }
   ],
   "source": [
    "class A:\n",
    "    def __init__(self):\n",
    "        self.__a = 1\n",
    "    def get_a(self,):\n",
    "        return self.__a\n",
    "        \n",
    "class B(A):\n",
    "    def __init__(self):\n",
    "        super().__init__()\n",
    "        self.b = 2\n",
    "     \n",
    "\n",
    "b = B()\n",
    "b.__a\n",
    "# b.get_a()"
   ]
  },
  {
   "cell_type": "code",
   "execution_count": 73,
   "id": "edfcb8f0",
   "metadata": {},
   "outputs": [
    {
     "data": {
      "text/plain": [
       "{'_A__a': 1, 'b': 2}"
      ]
     },
     "execution_count": 73,
     "metadata": {},
     "output_type": "execute_result"
    }
   ],
   "source": [
    "vars(b)"
   ]
  },
  {
   "cell_type": "code",
   "execution_count": 74,
   "id": "da419872",
   "metadata": {},
   "outputs": [
    {
     "data": {
      "text/plain": [
       "1"
      ]
     },
     "execution_count": 74,
     "metadata": {},
     "output_type": "execute_result"
    }
   ],
   "source": [
    "b._A__a"
   ]
  },
  {
   "cell_type": "code",
   "execution_count": 76,
   "id": "cd4fae7e",
   "metadata": {},
   "outputs": [],
   "source": [
    "# conditional expression\n",
    "\n",
    "season = 'winter'\n",
    "if season == 'winter':\n",
    "    start_hour=13\n",
    "else:# season == 'summer':\n",
    "    start_hour=12\n",
    "    \n",
    "start_hour = 12 if season=='summer' else 13"
   ]
  },
  {
   "cell_type": "code",
   "execution_count": 77,
   "id": "125413b4",
   "metadata": {},
   "outputs": [
    {
     "data": {
      "text/plain": [
       "nan"
      ]
     },
     "execution_count": 77,
     "metadata": {},
     "output_type": "execute_result"
    }
   ],
   "source": [
    "float('nan')"
   ]
  },
  {
   "cell_type": "code",
   "execution_count": 82,
   "id": "754ad0a4",
   "metadata": {},
   "outputs": [
    {
     "data": {
      "text/plain": [
       "True"
      ]
     },
     "execution_count": 82,
     "metadata": {},
     "output_type": "execute_result"
    }
   ],
   "source": [
    "# infinity\n",
    "\n",
    "float('inf') > 10**100"
   ]
  },
  {
   "cell_type": "code",
   "execution_count": 83,
   "id": "2f28431b",
   "metadata": {},
   "outputs": [
    {
     "data": {
      "text/plain": [
       "(120, 120)"
      ]
     },
     "execution_count": 83,
     "metadata": {},
     "output_type": "execute_result"
    }
   ],
   "source": [
    "def factorial(n):\n",
    "    if n == 0:\n",
    "        return 1\n",
    "    else:\n",
    "        return n * factorial(n-1)\n",
    "    \n",
    "def fact(n): return 1 if n==0 else n*fact(n-1)\n",
    "\n",
    "factorial(5), fact(5)"
   ]
  },
  {
   "cell_type": "code",
   "execution_count": 92,
   "id": "4832a736",
   "metadata": {},
   "outputs": [
    {
     "name": "stdout",
     "output_type": "stream",
     "text": [
      "[1, 4, 9, 16, 25, 36, 49, 64, 81, 100]\n",
      "[4, 16, 36, 64, 100]\n",
      "[1, 4, 27, 16, 125, 36, 343, 64, 729, 100]\n"
     ]
    }
   ],
   "source": [
    "l = list(range(1, 11))\n",
    "# newl = []\n",
    "# for i in l:\n",
    "#     newl.append(i**2)\n",
    "    \n",
    "print([i**2 for i in l],\n",
    "[i**2 for i in l if i%2==0],\n",
    "[i**2 if i%2==0 else i**3 for i in l], sep='\\n')"
   ]
  },
  {
   "cell_type": "code",
   "execution_count": 94,
   "id": "4f4f5365",
   "metadata": {},
   "outputs": [
    {
     "data": {
      "text/plain": [
       "{1: 1, 2: 4, 3: 9, 4: 16, 5: 25, 6: 36, 7: 49, 8: 64, 9: 81, 10: 100}"
      ]
     },
     "execution_count": 94,
     "metadata": {},
     "output_type": "execute_result"
    }
   ],
   "source": [
    "l = list(range(1, 11))\n",
    "\n",
    "{i:i**2 for i in l}"
   ]
  },
  {
   "cell_type": "code",
   "execution_count": 95,
   "id": "b5517a1e",
   "metadata": {},
   "outputs": [
    {
     "data": {
      "text/plain": [
       "True"
      ]
     },
     "execution_count": 95,
     "metadata": {},
     "output_type": "execute_result"
    }
   ],
   "source": [
    "any([False, False, True])"
   ]
  },
  {
   "cell_type": "code",
   "execution_count": 96,
   "id": "007f62f6",
   "metadata": {},
   "outputs": [
    {
     "data": {
      "text/plain": [
       "False"
      ]
     },
     "execution_count": 96,
     "metadata": {},
     "output_type": "execute_result"
    }
   ],
   "source": [
    "all([False, False, True])"
   ]
  },
  {
   "cell_type": "code",
   "execution_count": 99,
   "id": "9808edf4",
   "metadata": {},
   "outputs": [
    {
     "data": {
      "text/plain": [
       "{1, 2, 3}"
      ]
     },
     "execution_count": 99,
     "metadata": {},
     "output_type": "execute_result"
    }
   ],
   "source": [
    "s = set()\n",
    "for i in [1,2,3]*3:\n",
    "    s.add(i)\n",
    "s"
   ]
  },
  {
   "cell_type": "code",
   "execution_count": 102,
   "id": "8b300502",
   "metadata": {},
   "outputs": [
    {
     "data": {
      "text/plain": [
       "dict"
      ]
     },
     "execution_count": 102,
     "metadata": {},
     "output_type": "execute_result"
    }
   ],
   "source": [
    "a = {}\n",
    "type(a)"
   ]
  },
  {
   "cell_type": "code",
   "execution_count": 109,
   "id": "3d5b127a",
   "metadata": {},
   "outputs": [
    {
     "name": "stdout",
     "output_type": "stream",
     "text": [
      "{8, 3, 5}\n",
      "{0, 1, 2, 3, 5, 8, 9}\n",
      "{1, 2}\n",
      "False\n",
      "False\n",
      "False\n",
      "{0, 1, 2, 9}\n"
     ]
    }
   ],
   "source": [
    "s1 = {1,2,3,5,8}\n",
    "s2 = {9,0,3,5,8}\n",
    "\n",
    "print(s1.intersection(s2), s1.union(s2), s1.difference(s2), \n",
    "      s1.issubset(s2), s1.issuperset(s2), s1.isdisjoint(s2), \n",
    "      s1.symmetric_difference(s2), sep='\\n')"
   ]
  },
  {
   "cell_type": "code",
   "execution_count": 116,
   "id": "75700204",
   "metadata": {},
   "outputs": [
    {
     "name": "stdout",
     "output_type": "stream",
     "text": [
      "{1, 2} {0, 1, 2, 3, 5, 8, 9} {8, 3, 5} {0, 1, 2, 9}\n"
     ]
    }
   ],
   "source": [
    "print(s1-s2,#difference\n",
    "      s1|s2,#union\n",
    "      s1&s2,#intersection\n",
    "      s1^s2 #symmetric_difference\n",
    "     )"
   ]
  },
  {
   "cell_type": "code",
   "execution_count": 120,
   "id": "ba9824a8",
   "metadata": {},
   "outputs": [
    {
     "name": "stdout",
     "output_type": "stream",
     "text": [
      "1\n",
      "2\n",
      "3\n",
      "(4, 5)\n",
      "5\n",
      "8\n",
      "hi\n"
     ]
    }
   ],
   "source": [
    "s = {1,2,3,5,8, 'hi', True, (4,5)}\n",
    "for i in range(len(s)):\n",
    "    print(s.pop())\n",
    "    "
   ]
  },
  {
   "cell_type": "code",
   "execution_count": 124,
   "id": "a473bef7",
   "metadata": {},
   "outputs": [
    {
     "data": {
      "text/plain": [
       "{1, 2, frozenset({(4, 5), 1, 2, 3, 5, 8, 'hi'})}"
      ]
     },
     "execution_count": 124,
     "metadata": {},
     "output_type": "execute_result"
    }
   ],
   "source": [
    "s = frozenset( {1,2,3,5,8, 'hi', True, (4,5)})\n",
    "{1,2,s}"
   ]
  },
  {
   "cell_type": "code",
   "execution_count": 126,
   "id": "5cae52eb",
   "metadata": {},
   "outputs": [
    {
     "data": {
      "text/plain": [
       "Counter({3: 2, 4: 2, 2: 2, 5: 1, 6: 2, 7: 2, 0: 1})"
      ]
     },
     "execution_count": 126,
     "metadata": {},
     "output_type": "execute_result"
    }
   ],
   "source": [
    "from collections import Counter\n",
    "\n",
    "Counter('hello worlds!')\n",
    "Counter([3,4,2,2,3,4,5,6,6,7,7,0])"
   ]
  },
  {
   "cell_type": "code",
   "execution_count": 131,
   "id": "77d007b2",
   "metadata": {},
   "outputs": [
    {
     "data": {
      "text/plain": [
       "{3: [0, 4], 4: [1, 5], 2: [2, 3], 5: [6], 6: [7, 8], 7: [9, 10], 0: [11]}"
      ]
     },
     "execution_count": 131,
     "metadata": {},
     "output_type": "execute_result"
    }
   ],
   "source": [
    "l = [3,4,2,2,3,4,5,6,6,7,7,0]\n",
    "\n",
    "d = {}\n",
    "for i, item in enumerate(l):\n",
    "    if item in d:\n",
    "        d[item].append(i)\n",
    "    else:\n",
    "        d[item] = [i]\n",
    "d"
   ]
  },
  {
   "cell_type": "code",
   "execution_count": 134,
   "id": "52d31264",
   "metadata": {},
   "outputs": [
    {
     "data": {
      "text/plain": [
       "defaultdict(list,\n",
       "            {3: [0, 4],\n",
       "             4: [1, 5],\n",
       "             2: [2, 3],\n",
       "             5: [6],\n",
       "             6: [7, 8],\n",
       "             7: [9, 10],\n",
       "             0: [11]})"
      ]
     },
     "execution_count": 134,
     "metadata": {},
     "output_type": "execute_result"
    }
   ],
   "source": [
    "from collections import defaultdict\n",
    "l = [3,4,2,2,3,4,5,6,6,7,7,0]\n",
    "\n",
    "d = defaultdict(list)\n",
    "\n",
    "for i, item in enumerate(l):\n",
    "    d[item].append(i)\n",
    "d"
   ]
  },
  {
   "cell_type": "code",
   "execution_count": 135,
   "id": "5d8a5015",
   "metadata": {},
   "outputs": [
    {
     "data": {
      "text/plain": [
       "Point(x=3, y=4)"
      ]
     },
     "execution_count": 135,
     "metadata": {},
     "output_type": "execute_result"
    }
   ],
   "source": [
    "from collections import namedtuple\n",
    "\n",
    "Point = namedtuple(\"Point\", ['x', 'y'])\n",
    "\n",
    "p = Point(3,4)\n",
    "p"
   ]
  },
  {
   "cell_type": "code",
   "execution_count": 140,
   "id": "4f983111",
   "metadata": {},
   "outputs": [
    {
     "name": "stdout",
     "output_type": "stream",
     "text": [
      "boooq\n"
     ]
    }
   ],
   "source": [
    "from collections import namedtuple\n",
    "\n",
    "Point = namedtuple(\"Point\", ['x', 'y'])\n",
    "\n",
    "\n",
    "class MyPoint(Point):\n",
    "    def booq(self,):\n",
    "        print('boooq')\n",
    "        \n",
    "p = MyPoint(3,4)\n",
    "p.booq()"
   ]
  },
  {
   "cell_type": "code",
   "execution_count": null,
   "id": "b1f4597e",
   "metadata": {},
   "outputs": [],
   "source": []
  }
 ],
 "metadata": {
  "kernelspec": {
   "display_name": ".venv",
   "language": "python",
   "name": ".venv"
  },
  "language_info": {
   "codemirror_mode": {
    "name": "ipython",
    "version": 3
   },
   "file_extension": ".py",
   "mimetype": "text/x-python",
   "name": "python",
   "nbconvert_exporter": "python",
   "pygments_lexer": "ipython3",
   "version": "3.10.8"
  }
 },
 "nbformat": 4,
 "nbformat_minor": 5
}
