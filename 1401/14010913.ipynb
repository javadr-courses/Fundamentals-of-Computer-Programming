{
 "cells": [
  {
   "cell_type": "markdown",
   "id": "251497c3",
   "metadata": {},
   "source": [
    "# Introduction to Progamming Languages with Python \n",
    "### University of Qom\n",
    "##### Sun. 1401/09/13"
   ]
  },
  {
   "cell_type": "markdown",
   "id": "b98a74b8",
   "metadata": {},
   "source": [
    "# Chapter 10 : Lists"
   ]
  },
  {
   "cell_type": "code",
   "execution_count": 3,
   "id": "6defe0f4",
   "metadata": {},
   "outputs": [
    {
     "name": "stdout",
     "output_type": "stream",
     "text": [
      "[1, 4, 9, 16, 25, 36, 49]\n"
     ]
    }
   ],
   "source": [
    "def x2(x):\n",
    "    return x*x\n",
    "\n",
    "l = [1,2,3,4,5,6,7]\n",
    "\n",
    "# for i in map(x2, l):\n",
    "#     print(i)\n",
    "\n",
    "print(list(map(x2, l)))"
   ]
  },
  {
   "cell_type": "code",
   "execution_count": 4,
   "id": "93d8dbc9",
   "metadata": {},
   "outputs": [
    {
     "data": {
      "text/plain": [
       "[1, 4, 9, 16, 25, 36, 49]"
      ]
     },
     "execution_count": 4,
     "metadata": {},
     "output_type": "execute_result"
    }
   ],
   "source": [
    "# Mapping نگاشت\n",
    "l = [1,2,3,4,5,6,7]\n",
    "newl = []\n",
    "\n",
    "for item in l:\n",
    "    newl.append(item**2)\n",
    "\n",
    "newl"
   ]
  },
  {
   "cell_type": "code",
   "execution_count": 13,
   "id": "162ea658",
   "metadata": {},
   "outputs": [
    {
     "name": "stdout",
     "output_type": "stream",
     "text": [
      "1, 4, 9, 16, 25, 36, 49, []\n"
     ]
    }
   ],
   "source": [
    "m = map(x2, l)\n",
    "for i in m:\n",
    "    print(i, end=', ')\n",
    "    \n",
    "print(list(m))"
   ]
  },
  {
   "cell_type": "code",
   "execution_count": 14,
   "id": "617c3b7e",
   "metadata": {},
   "outputs": [
    {
     "name": "stdout",
     "output_type": "stream",
     "text": [
      "CPU times: user 0 ns, sys: 5 µs, total: 5 µs\n",
      "Wall time: 6.91 µs\n"
     ]
    },
    {
     "data": {
      "text/plain": [
       "range(0, 100000000)"
      ]
     },
     "execution_count": 14,
     "metadata": {},
     "output_type": "execute_result"
    }
   ],
   "source": [
    "%%time\n",
    "range(100_000_000)"
   ]
  },
  {
   "cell_type": "code",
   "execution_count": 3,
   "id": "3d920c04",
   "metadata": {},
   "outputs": [
    {
     "name": "stdout",
     "output_type": "stream",
     "text": [
      "CPU times: user 3 µs, sys: 0 ns, total: 3 µs\n",
      "Wall time: 5.25 µs\n"
     ]
    }
   ],
   "source": [
    "%%time\n",
    "# list(range(10_000_000))"
   ]
  },
  {
   "cell_type": "code",
   "execution_count": 5,
   "id": "feed6b3c",
   "metadata": {},
   "outputs": [
    {
     "name": "stdout",
     "output_type": "stream",
     "text": [
      "CPU times: user 88 µs, sys: 0 ns, total: 88 µs\n",
      "Wall time: 97.8 µs\n"
     ]
    },
    {
     "data": {
      "text/plain": [
       "<map at 0x7fa9e6ea0640>"
      ]
     },
     "execution_count": 5,
     "metadata": {},
     "output_type": "execute_result"
    }
   ],
   "source": [
    "%%time\n",
    "def f(x):\n",
    "    return x**2\n",
    "\n",
    "map(f, range(10_000_000_000))"
   ]
  },
  {
   "cell_type": "code",
   "execution_count": 9,
   "id": "9aaa9b1d",
   "metadata": {},
   "outputs": [
    {
     "data": {
      "text/plain": [
       "[0, 2, 4, 6, 8]"
      ]
     },
     "execution_count": 9,
     "metadata": {},
     "output_type": "execute_result"
    }
   ],
   "source": [
    "# filtering \n",
    "\n",
    "l = list(range(10))\n",
    "even = []\n",
    "for i in l:\n",
    "    if i%2==0:\n",
    "#         even.append(i)\n",
    "#         even = even + [i]\n",
    "        even += [i]\n",
    "even"
   ]
  },
  {
   "cell_type": "code",
   "execution_count": 11,
   "id": "2acc2511",
   "metadata": {},
   "outputs": [
    {
     "data": {
      "text/plain": [
       "5050"
      ]
     },
     "execution_count": 11,
     "metadata": {},
     "output_type": "execute_result"
    }
   ],
   "source": [
    "# reduction\n",
    "\n",
    "l = list(range(1,101))\n",
    "summation = 0\n",
    "for i in l:\n",
    "    summation += i\n",
    "summation"
   ]
  },
  {
   "cell_type": "code",
   "execution_count": 13,
   "id": "5102f141",
   "metadata": {},
   "outputs": [
    {
     "data": {
      "text/plain": [
       "(5050, 1, 100)"
      ]
     },
     "execution_count": 13,
     "metadata": {},
     "output_type": "execute_result"
    }
   ],
   "source": [
    "l = list(range(1,101))\n",
    "sum(l), min(l), max(l)"
   ]
  },
  {
   "cell_type": "code",
   "execution_count": 16,
   "id": "63ba8c3e",
   "metadata": {},
   "outputs": [
    {
     "name": "stdout",
     "output_type": "stream",
     "text": [
      "[134, 45, 34, 36, 6, 7] 8\n"
     ]
    }
   ],
   "source": [
    "l = [134,45,34,36,6,7,8]\n",
    "last = l.pop()\n",
    "print(l, last)"
   ]
  },
  {
   "cell_type": "code",
   "execution_count": 19,
   "id": "bcb9d6f4",
   "metadata": {},
   "outputs": [
    {
     "name": "stdout",
     "output_type": "stream",
     "text": [
      "8, 7, 6, 36, 34, 45, 134, []\n"
     ]
    }
   ],
   "source": [
    "l = [134,45,34,36,6,7,8]\n",
    "for _ in range(len(l)):\n",
    "    print(l.pop(), end=', ')\n",
    "print(l)"
   ]
  },
  {
   "cell_type": "code",
   "execution_count": 20,
   "id": "30c297ef",
   "metadata": {},
   "outputs": [
    {
     "name": "stdout",
     "output_type": "stream",
     "text": [
      "6\n",
      "[134, 45, 34, 36, 7, 8]\n"
     ]
    }
   ],
   "source": [
    "l = [134,45,34,36,6,7,8]\n",
    "print(l.pop(4))\n",
    "print(l)"
   ]
  },
  {
   "cell_type": "code",
   "execution_count": 22,
   "id": "ffb03af9",
   "metadata": {},
   "outputs": [
    {
     "data": {
      "text/plain": [
       "[134, 45, 34, 123, 36, 6, 7, 8]"
      ]
     },
     "execution_count": 22,
     "metadata": {},
     "output_type": "execute_result"
    }
   ],
   "source": [
    "l = [134,45,34,36,6,7,8]\n",
    "l.insert(3, 123)\n",
    "l"
   ]
  },
  {
   "cell_type": "code",
   "execution_count": 25,
   "id": "f18a89a1",
   "metadata": {},
   "outputs": [
    {
     "data": {
      "text/plain": [
       "[134, 45, 34, [1, 2, 3], 36, 6, 7, 8]"
      ]
     },
     "execution_count": 25,
     "metadata": {},
     "output_type": "execute_result"
    }
   ],
   "source": [
    "l = [134,45,34,36,6,7,8]\n",
    "l.insert(3, [1,2,3])\n",
    "l"
   ]
  },
  {
   "cell_type": "code",
   "execution_count": 24,
   "id": "9f9a6150",
   "metadata": {},
   "outputs": [
    {
     "data": {
      "text/plain": [
       "[134, 45, 34, 123, 36, 6, 7, 8]"
      ]
     },
     "execution_count": 24,
     "metadata": {},
     "output_type": "execute_result"
    }
   ],
   "source": [
    "l = [134,45,34,36,6,7,8]\n",
    "l[3:3] = [123]\n",
    "l"
   ]
  },
  {
   "cell_type": "code",
   "execution_count": 26,
   "id": "411bd02c",
   "metadata": {},
   "outputs": [
    {
     "data": {
      "text/plain": [
       "[134, 45, 34, 1, 2, 3, 36, 6, 7, 8]"
      ]
     },
     "execution_count": 26,
     "metadata": {},
     "output_type": "execute_result"
    }
   ],
   "source": [
    "l = [134,45,34,36,6,7,8]\n",
    "l[3:3] = [1,2,3]\n",
    "l"
   ]
  },
  {
   "cell_type": "code",
   "execution_count": 28,
   "id": "d9689bff",
   "metadata": {},
   "outputs": [
    {
     "data": {
      "text/plain": [
       "[134, 34, 36, 6, 7, 8, 6]"
      ]
     },
     "execution_count": 28,
     "metadata": {},
     "output_type": "execute_result"
    }
   ],
   "source": [
    "l = [134,6,34,36,6,7,8,6]\n",
    "\n",
    "l.remove(6)\n",
    "\n",
    "ll = [134,45,34,36,6,7,8]\n",
    "l[3:4] = []\n",
    "l"
   ]
  },
  {
   "cell_type": "code",
   "execution_count": 29,
   "id": "c8b1f53c",
   "metadata": {},
   "outputs": [
    {
     "data": {
      "text/plain": [
       "[134, 45, 34, 6, 7, 8]"
      ]
     },
     "execution_count": 29,
     "metadata": {},
     "output_type": "execute_result"
    }
   ],
   "source": [
    "l = [134,45,34,36,6,7,8]\n",
    "l[3:4] = []\n",
    "l"
   ]
  },
  {
   "cell_type": "code",
   "execution_count": 31,
   "id": "1eb621b1",
   "metadata": {},
   "outputs": [
    {
     "data": {
      "text/plain": [
       "[134, 'hi', 34, 'hello', 6, 'hallu', 8]"
      ]
     },
     "execution_count": 31,
     "metadata": {},
     "output_type": "execute_result"
    }
   ],
   "source": [
    "l = [134,45,34,36,6,7,8]\n",
    "l[1:7:2] = ['hi', 'hello', 'hallu']\n",
    "l"
   ]
  },
  {
   "cell_type": "code",
   "execution_count": 32,
   "id": "e06fd47a",
   "metadata": {},
   "outputs": [
    {
     "data": {
      "text/plain": [
       "[134, 45, 34]"
      ]
     },
     "execution_count": 32,
     "metadata": {},
     "output_type": "execute_result"
    }
   ],
   "source": [
    "l = [134,45,34,36,6,7,8]\n",
    "l[3:7] = []\n",
    "l"
   ]
  },
  {
   "cell_type": "code",
   "execution_count": 34,
   "id": "5bcf6869",
   "metadata": {},
   "outputs": [
    {
     "data": {
      "text/plain": [
       "[134, 45, 34, 3]"
      ]
     },
     "execution_count": 34,
     "metadata": {},
     "output_type": "execute_result"
    }
   ],
   "source": [
    "l = [134,45,34,36,6,7,8]\n",
    "l[3:7] = [3]\n",
    "l"
   ]
  },
  {
   "cell_type": "code",
   "execution_count": 35,
   "id": "67c22d22",
   "metadata": {},
   "outputs": [
    {
     "data": {
      "text/plain": [
       "[134, 45, 34, [], 6, 7, 8]"
      ]
     },
     "execution_count": 35,
     "metadata": {},
     "output_type": "execute_result"
    }
   ],
   "source": [
    "l = [134,45,34,36,6,7,8]\n",
    "l[3] = []\n",
    "l"
   ]
  },
  {
   "cell_type": "code",
   "execution_count": 36,
   "id": "101f5fb2",
   "metadata": {},
   "outputs": [
    {
     "data": {
      "text/plain": [
       "[134, 45, 34, 36, 7, 8]"
      ]
     },
     "execution_count": 36,
     "metadata": {},
     "output_type": "execute_result"
    }
   ],
   "source": [
    "l = [134,45,34,36,6,7,8]\n",
    "del l[4]\n",
    "l"
   ]
  },
  {
   "cell_type": "code",
   "execution_count": 37,
   "id": "9ea2a520",
   "metadata": {},
   "outputs": [
    {
     "data": {
      "text/plain": [
       "([134, 45, 34, 36, 7, 8], 6)"
      ]
     },
     "execution_count": 37,
     "metadata": {},
     "output_type": "execute_result"
    }
   ],
   "source": [
    "l = [134,45,34,36,6,7,8]\n",
    "n = l.pop(4)\n",
    "l, n"
   ]
  },
  {
   "cell_type": "code",
   "execution_count": 38,
   "id": "08f30138",
   "metadata": {},
   "outputs": [
    {
     "ename": "SyntaxError",
     "evalue": "invalid syntax (3083374666.py, line 2)",
     "output_type": "error",
     "traceback": [
      "\u001b[0;36m  Input \u001b[0;32mIn [38]\u001b[0;36m\u001b[0m\n\u001b[0;31m    n = del l[4]\u001b[0m\n\u001b[0m        ^\u001b[0m\n\u001b[0;31mSyntaxError\u001b[0m\u001b[0;31m:\u001b[0m invalid syntax\n"
     ]
    }
   ],
   "source": [
    "l = [134,45,34,36,6,7,8]\n",
    "n = del l[4]\n",
    "l, n"
   ]
  },
  {
   "cell_type": "code",
   "execution_count": 52,
   "id": "f350b0a1",
   "metadata": {},
   "outputs": [
    {
     "name": "stdout",
     "output_type": "stream",
     "text": [
      "140366534560720\n"
     ]
    }
   ],
   "source": [
    "n = 2987987987\n",
    "print(id(n))"
   ]
  },
  {
   "cell_type": "code",
   "execution_count": 53,
   "id": "4e806783",
   "metadata": {},
   "outputs": [
    {
     "name": "stdout",
     "output_type": "stream",
     "text": [
      "140366539781632\n",
      "140366539781632\n"
     ]
    }
   ],
   "source": [
    "l = [134,45,34,36,6,7,8]\n",
    "print(id(l))\n",
    "del l[4]\n",
    "print(id(l))"
   ]
  },
  {
   "cell_type": "code",
   "execution_count": 54,
   "id": "5399e17e",
   "metadata": {},
   "outputs": [
    {
     "name": "stdout",
     "output_type": "stream",
     "text": [
      "140366548002112\n",
      "140366548002112\n"
     ]
    }
   ],
   "source": [
    "l = [134,45,34,36,6,7,8]\n",
    "print(id(l))\n",
    "l[4:4] = []\n",
    "print(id(l))"
   ]
  },
  {
   "cell_type": "code",
   "execution_count": 55,
   "id": "8b0cf469",
   "metadata": {},
   "outputs": [
    {
     "name": "stdout",
     "output_type": "stream",
     "text": [
      "140366540109568\n",
      "140366540109568\n"
     ]
    }
   ],
   "source": [
    "l = [134,45,34,36,6,7,8]\n",
    "print(id(l))\n",
    "l.pop()\n",
    "print(id(l))"
   ]
  },
  {
   "cell_type": "code",
   "execution_count": 58,
   "id": "8263a5ce",
   "metadata": {},
   "outputs": [
    {
     "name": "stdout",
     "output_type": "stream",
     "text": [
      "140367791246192\n",
      "140367791246192\n",
      "140367791246192\n",
      "140367705895088\n"
     ]
    }
   ],
   "source": [
    "a = 'hi'\n",
    "b = 'hi'\n",
    "\n",
    "print(id(a), id(b), sep='\\n')\n",
    "\n",
    "b = 'hello'\n",
    "print(id(a), id(b), sep='\\n')"
   ]
  },
  {
   "cell_type": "code",
   "execution_count": 59,
   "id": "f1533703",
   "metadata": {},
   "outputs": [
    {
     "name": "stdout",
     "output_type": "stream",
     "text": [
      "140366538942528\n",
      "140366538810944\n",
      "140366538942528\n",
      "140366538810944\n"
     ]
    }
   ],
   "source": [
    "a = [1,2]\n",
    "b = [1,2]\n",
    "\n",
    "print(id(a), id(b), sep='\\n')\n",
    "\n",
    "b[0] = 4\n",
    "print(id(a), id(b), sep='\\n')"
   ]
  },
  {
   "cell_type": "code",
   "execution_count": 60,
   "id": "a4ffd517",
   "metadata": {},
   "outputs": [
    {
     "name": "stdout",
     "output_type": "stream",
     "text": [
      "140366534561680\n",
      "140366537857696\n"
     ]
    }
   ],
   "source": [
    "n = 8798798798\n",
    "print(id(n))\n",
    "n = n + 1 \n",
    "print(id(n))"
   ]
  },
  {
   "cell_type": "code",
   "execution_count": 61,
   "id": "fdd599e7",
   "metadata": {},
   "outputs": [
    {
     "name": "stdout",
     "output_type": "stream",
     "text": [
      "140366534561808\n",
      "140366537857696\n"
     ]
    }
   ],
   "source": [
    "n = 8798798798\n",
    "print(id(n))\n",
    "n += 1 \n",
    "print(id(n))"
   ]
  },
  {
   "cell_type": "code",
   "execution_count": 62,
   "id": "63628bed",
   "metadata": {},
   "outputs": [
    {
     "name": "stdout",
     "output_type": "stream",
     "text": [
      "140366540153728\n",
      "140366538923136\n"
     ]
    }
   ],
   "source": [
    "n = [1,2]\n",
    "print(id(n))\n",
    "n = n + [3] \n",
    "print(id(n))"
   ]
  },
  {
   "cell_type": "code",
   "execution_count": 63,
   "id": "c65fde65",
   "metadata": {},
   "outputs": [
    {
     "name": "stdout",
     "output_type": "stream",
     "text": [
      "140366539980928\n",
      "140366539980928\n"
     ]
    }
   ],
   "source": [
    "n = [1,2]\n",
    "print(id(n))\n",
    "n += [3] \n",
    "print(id(n))"
   ]
  },
  {
   "cell_type": "code",
   "execution_count": 64,
   "id": "29cb0984",
   "metadata": {},
   "outputs": [
    {
     "name": "stdout",
     "output_type": "stream",
     "text": [
      "cooler\n",
      "heater\n",
      "cooler\n",
      "cooler\n"
     ]
    }
   ],
   "source": [
    "#https://quera.org/course/assignments/47926/problems/160762\n",
    "\n",
    "line1 = '4'\n",
    "line2 = '47 -11 26 15'\n",
    "\n",
    "for i in map(int, line2.split()):\n",
    "    if i<15: \n",
    "        print('heater')\n",
    "    else:\n",
    "        print('cooler')"
   ]
  },
  {
   "cell_type": "code",
   "execution_count": null,
   "id": "44c5245b",
   "metadata": {},
   "outputs": [],
   "source": [
    "#https://quera.org/course/assignments/47926/problems/160762\n",
    "\n",
    "line1 = '4'\n",
    "line2 = '47 -11 26 15'\n",
    "\n",
    "for i in line2.split():\n",
    "    i = int(i)\n",
    "    if i<15: \n",
    "        print('heater')\n",
    "    else:\n",
    "        print('cooler')"
   ]
  },
  {
   "cell_type": "code",
   "execution_count": 65,
   "id": "db9e5477",
   "metadata": {},
   "outputs": [
    {
     "data": {
      "text/plain": [
       "True"
      ]
     },
     "execution_count": 65,
     "metadata": {},
     "output_type": "execute_result"
    }
   ],
   "source": [
    "'ali' < 'zahra'"
   ]
  },
  {
   "cell_type": "code",
   "execution_count": 67,
   "id": "bc36b0fd",
   "metadata": {},
   "outputs": [
    {
     "data": {
      "text/plain": [
       "False"
      ]
     },
     "execution_count": 67,
     "metadata": {},
     "output_type": "execute_result"
    }
   ],
   "source": [
    "'ali' < 'Zahra'"
   ]
  },
  {
   "cell_type": "code",
   "execution_count": 68,
   "id": "038f9522",
   "metadata": {},
   "outputs": [
    {
     "data": {
      "text/plain": [
       "True"
      ]
     },
     "execution_count": 68,
     "metadata": {},
     "output_type": "execute_result"
    }
   ],
   "source": [
    "'25' < '5'"
   ]
  },
  {
   "cell_type": "code",
   "execution_count": 83,
   "id": "7ae3113b",
   "metadata": {},
   "outputs": [
    {
     "data": {
      "text/plain": [
       "2740"
      ]
     },
     "execution_count": 83,
     "metadata": {},
     "output_type": "execute_result"
    }
   ],
   "source": [
    "def onsify(n):\n",
    "    if n%2==0 or n%5==0:\n",
    "        return -1\n",
    "    if n==1: return 1\n",
    "    \n",
    "    ones = 11\n",
    "    while ones%n!=0:\n",
    "        ones = ones*10 + 1\n",
    "    \n",
    "    return ones//n\n",
    "\n",
    "len(str(onsify(16479)))\n",
    "# onsify(2)"
   ]
  },
  {
   "cell_type": "code",
   "execution_count": 86,
   "id": "03b77344",
   "metadata": {},
   "outputs": [
    {
     "name": "stdout",
     "output_type": "stream",
     "text": [
      "0 (0, 0, 0, 0, 0, 0)\n",
      "1 (1, 1, 1, 1, 1, 1)\n",
      "2 (2, 4, 8, 16, 32, 64)\n",
      "3 (3, 9, 27, 81, 243, 729)\n",
      "4 (4, 16, 64, 256, 1024, 4096)\n",
      "5 (5, 25, 125, 625, 3125, 15625)\n",
      "6 (6, 36, 216, 1296, 7776, 46656)\n",
      "7 (7, 49, 343, 2401, 16807, 117649)\n",
      "8 (8, 64, 512, 4096, 32768, 262144)\n",
      "9 (9, 81, 729, 6561, 59049, 531441)\n"
     ]
    }
   ],
   "source": [
    "def f(n):\n",
    "    return n, n**2, n**3, n**4, n**5, n**6\n",
    "\n",
    "for i in range(10):\n",
    "    print(i, f(i))"
   ]
  },
  {
   "cell_type": "code",
   "execution_count": 87,
   "id": "d044b67d",
   "metadata": {},
   "outputs": [
    {
     "name": "stdout",
     "output_type": "stream",
     "text": [
      "5 25\n",
      "6 36\n",
      "25 625\n",
      "76 5776\n",
      "376 141376\n",
      "625 390625\n",
      "9376 87909376\n",
      "90625 8212890625\n",
      "109376 11963109376\n",
      "890625 793212890625\n"
     ]
    }
   ],
   "source": [
    "for i in range(1000000):\n",
    "    if i%10 in [5,6]:\n",
    "        if str(i**2).endswith(str(i)):\n",
    "            print(i, i**2)\n",
    "    "
   ]
  }
 ],
 "metadata": {
  "kernelspec": {
   "display_name": ".venv",
   "language": "python",
   "name": ".venv"
  },
  "language_info": {
   "codemirror_mode": {
    "name": "ipython",
    "version": 3
   },
   "file_extension": ".py",
   "mimetype": "text/x-python",
   "name": "python",
   "nbconvert_exporter": "python",
   "pygments_lexer": "ipython3",
   "version": "3.10.8"
  }
 },
 "nbformat": 4,
 "nbformat_minor": 5
}
