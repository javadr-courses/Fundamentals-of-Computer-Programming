{
 "cells": [
  {
   "cell_type": "markdown",
   "id": "251497c3",
   "metadata": {},
   "source": [
    "# Introduction to Progamming Languages with Python \n",
    "### University of Qom\n",
    "##### Sat. 1401/09/26"
   ]
  },
  {
   "cell_type": "markdown",
   "id": "4a0d9aea",
   "metadata": {},
   "source": [
    "# Chapter 13"
   ]
  },
  {
   "cell_type": "code",
   "execution_count": 2,
   "id": "054fbad3",
   "metadata": {},
   "outputs": [],
   "source": [
    "import random"
   ]
  },
  {
   "cell_type": "code",
   "execution_count": 3,
   "id": "c754e5e2",
   "metadata": {},
   "outputs": [
    {
     "name": "stdout",
     "output_type": "stream",
     "text": [
      "0.3360224158801901\n",
      "0.3139963337272986\n",
      "0.07386452560281631\n",
      "0.5598896121699719\n",
      "0.9618787905230932\n",
      "0.31162856674816364\n",
      "0.8775475077217287\n",
      "0.7849465037462643\n",
      "0.30830853541044445\n",
      "0.5355315609273898\n"
     ]
    }
   ],
   "source": [
    "for i in range(10):\n",
    "    print(random.random())"
   ]
  },
  {
   "cell_type": "code",
   "execution_count": null,
   "id": "e9bd2a20",
   "metadata": {},
   "outputs": [],
   "source": []
  },
  {
   "cell_type": "code",
   "execution_count": 5,
   "id": "db2dea8d",
   "metadata": {},
   "outputs": [
    {
     "name": "stdout",
     "output_type": "stream",
     "text": [
      "9\n",
      "2\n",
      "6\n",
      "0\n",
      "4\n",
      "6\n",
      "7\n",
      "2\n",
      "3\n",
      "9\n"
     ]
    }
   ],
   "source": [
    "for i in range(10):\n",
    "    print(int(random.random()*10))"
   ]
  },
  {
   "cell_type": "code",
   "execution_count": 16,
   "id": "84db9919",
   "metadata": {},
   "outputs": [
    {
     "data": {
      "text/plain": [
       "[100285, 100335, 99940, 100048, 99779, 100340, 99373, 99955, 99797, 100148]"
      ]
     },
     "execution_count": 16,
     "metadata": {},
     "output_type": "execute_result"
    }
   ],
   "source": [
    "import random \n",
    "from matplotlib import pyplot as plt\n",
    "\n",
    "l = [0]*10\n",
    "for i in range(10**6):\n",
    "    idx = int(random.random()*10)\n",
    "    l[idx] += 1\n",
    "\n",
    "l\n",
    "    "
   ]
  },
  {
   "cell_type": "code",
   "execution_count": 17,
   "id": "6e6fbd32",
   "metadata": {},
   "outputs": [
    {
     "data": {
      "text/plain": [
       "(array([100549.,  99835.,  99680., 100104.,  99984., 100037., 100284.,\n",
       "        100071.,  99938.,  99518.]),\n",
       " array([1.76263413e-06, 1.00001530e-01, 2.00001298e-01, 3.00001066e-01,\n",
       "        4.00000834e-01, 5.00000602e-01, 6.00000369e-01, 7.00000137e-01,\n",
       "        7.99999905e-01, 8.99999673e-01, 9.99999440e-01]),\n",
       " <BarContainer object of 10 artists>)"
      ]
     },
     "execution_count": 17,
     "metadata": {},
     "output_type": "execute_result"
    },
    {
     "data": {
      "image/png": "[encoded data removed]",
      "text/plain": [
       "<Figure size 432x288 with 1 Axes>"
      ]
     },
     "metadata": {
      "needs_background": "light"
     },
     "output_type": "display_data"
    }
   ],
   "source": [
    "import random \n",
    "from matplotlib import pyplot as plt\n",
    "\n",
    "l = []\n",
    "for i in range(10**6):\n",
    "    l.append(random.random())\n",
    "\n",
    "plt.hist(l, bins=10)\n",
    "    "
   ]
  },
  {
   "cell_type": "code",
   "execution_count": 19,
   "id": "98b82a2c",
   "metadata": {},
   "outputs": [
    {
     "name": "stdout",
     "output_type": "stream",
     "text": [
      "3\n",
      "1\n",
      "6\n",
      "3\n",
      "6\n",
      "2\n",
      "5\n",
      "3\n",
      "3\n",
      "4\n"
     ]
    }
   ],
   "source": [
    "def rand_range(a,b):\n",
    "    return int((b-a)*random.random()) + a\n",
    "\n",
    "for i in range(10):\n",
    "    print(rand_range(1,6+1))"
   ]
  },
  {
   "cell_type": "code",
   "execution_count": 23,
   "id": "736e735b",
   "metadata": {},
   "outputs": [
    {
     "data": {
      "text/plain": [
       "(array([200144., 199897., 200617.,  99766.,  99511., 200065.]),\n",
       " array([0., 1., 2., 3., 4., 5., 6.]),\n",
       " <BarContainer object of 6 artists>)"
      ]
     },
     "execution_count": 23,
     "metadata": {},
     "output_type": "execute_result"
    },
    {
     "data": {
      "image/png": "[encoded data removed]",
      "text/plain": [
       "<Figure size 432x288 with 1 Axes>"
      ]
     },
     "metadata": {
      "needs_background": "light"
     },
     "output_type": "display_data"
    }
   ],
   "source": [
    "from matplotlib import pyplot as plt\n",
    "\n",
    "def abed_range():\n",
    "    return int(10*random.random())%7\n",
    "\n",
    "l = []\n",
    "for i in range(10**6):\n",
    "    l.append(abed_range())\n",
    "\n",
    "plt.hist(l, bins=6)"
   ]
  },
  {
   "cell_type": "code",
   "execution_count": 25,
   "id": "597466ec",
   "metadata": {},
   "outputs": [
    {
     "name": "stdout",
     "output_type": "stream",
     "text": [
      "7\n",
      "3\n",
      "1\n",
      "7\n",
      "4\n",
      "6\n",
      "5\n",
      "1\n",
      "1\n",
      "5\n"
     ]
    }
   ],
   "source": [
    "for i in range(10):\n",
    "    print(random.randint(1,7))"
   ]
  },
  {
   "cell_type": "code",
   "execution_count": 27,
   "id": "82dec14c",
   "metadata": {},
   "outputs": [
    {
     "name": "stdout",
     "output_type": "stream",
     "text": [
      "hosein\n",
      "hassan\n",
      "amir\n",
      "javad\n",
      "javad\n",
      "hosein\n",
      "javad\n",
      "amir\n",
      "hassan\n",
      "javad\n"
     ]
    }
   ],
   "source": [
    "names = ['ali', 'javad', 'hassan', 'alireza', 'hosein', 'amir']\n",
    "\n",
    "for i in range(10):\n",
    "    print(random.choice(names))"
   ]
  },
  {
   "cell_type": "code",
   "execution_count": 37,
   "id": "c2b92d66",
   "metadata": {},
   "outputs": [
    {
     "name": "stdout",
     "output_type": "stream",
     "text": [
      "hosein\n",
      "ali\n",
      "hassan\n",
      "hassan\n",
      "hosein\n",
      "hosein\n",
      "ali\n",
      "hosein\n",
      "hosein\n",
      "hosein\n"
     ]
    }
   ],
   "source": [
    "dict = {'ali':'javad', 'hassan':'alireza', 'hosein':'amir'}\n",
    "\n",
    "for i in range(10):\n",
    "    print(random.choice(tuple(dict.keys())))"
   ]
  },
  {
   "cell_type": "code",
   "execution_count": 43,
   "id": "a26b11f2",
   "metadata": {},
   "outputs": [
    {
     "data": {
      "text/plain": [
       "[<matplotlib.lines.Line2D at 0x7ff128c5c070>]"
      ]
     },
     "execution_count": 43,
     "metadata": {},
     "output_type": "execute_result"
    },
    {
     "data": {
      "image/png": "[encoded data removed]",
      "text/plain": [
       "<Figure size 432x288 with 1 Axes>"
      ]
     },
     "metadata": {
      "needs_background": "light"
     },
     "output_type": "display_data"
    }
   ],
   "source": [
    "from matplotlib import pyplot as plt\n",
    "\n",
    "words = open('words.txt').read().replace('\\n','')\n",
    "dict = {}\n",
    "for char in words:\n",
    "    dict[char] = dict.get(char, 0)+1\n",
    "\n",
    "freq = sorted(dict.items())\n",
    "letters, frequencies = [], []\n",
    "for l, f in freq:\n",
    "    letters.append(l)\n",
    "    frequencies.append(f)\n",
    "    \n",
    "plt.plot(letters, frequencies)\n"
   ]
  },
  {
   "cell_type": "code",
   "execution_count": 47,
   "id": "ee3eee9e",
   "metadata": {},
   "outputs": [
    {
     "data": {
      "text/plain": [
       "[<matplotlib.lines.Line2D at 0x7ff127c316f0>]"
      ]
     },
     "execution_count": 47,
     "metadata": {},
     "output_type": "execute_result"
    },
    {
     "data": {
      "image/png": "[encoded data removed]",
      "text/plain": [
       "<Figure size 432x288 with 1 Axes>"
      ]
     },
     "metadata": {
      "needs_background": "light"
     },
     "output_type": "display_data"
    }
   ],
   "source": [
    "from matplotlib import pyplot as plt\n",
    "import string\n",
    "\n",
    "\n",
    "words = open('words.txt').read().replace('\\n','')\n",
    "dict = {}\n",
    "for char in words:\n",
    "    dict[char] = dict.get(char, 0)+1\n",
    "\n",
    "freq = sorted(dict.items())\n",
    "frequencies = []\n",
    "for l, f in freq:\n",
    "    frequencies.append(f)\n",
    "    \n",
    "plt.plot(list(string.ascii_uppercase), frequencies)"
   ]
  },
  {
   "cell_type": "code",
   "execution_count": 52,
   "id": "ab0c1471",
   "metadata": {},
   "outputs": [
    {
     "name": "stdout",
     "output_type": "stream",
     "text": [
      "15\n",
      "12\n",
      "8\n",
      "18\n",
      "27\n",
      "27\n"
     ]
    }
   ],
   "source": [
    "def test(a, b=2, c=4):\n",
    "    print(a*b*c)\n",
    "    \n",
    "test(1,3,5)\n",
    "test(1,3)\n",
    "test(1)\n",
    "test(1, c=9)\n",
    "test(1, c=9, b=3)\n",
    "test(c=9, b=3, a=1)"
   ]
  },
  {
   "cell_type": "code",
   "execution_count": 63,
   "id": "6bc151d8",
   "metadata": {},
   "outputs": [
    {
     "name": "stderr",
     "output_type": "stream",
     "text": [
      "\u001b[33m\u001b[2mSource path:... \u001b[22m/tmp/ipykernel_6421/4270845729.py\u001b[0m\n",
      "\u001b[32m\u001b[2mStarting var:.. \u001b[22ml = [1, 2, 3, [4, 5, [7, 8, [10, 11, 12], 9]], 10]\u001b[0m\n",
      "\u001b[2m11:21:32.771199 call         6\u001b[0m SOURCE IS UNAVAILABLE\n",
      "\u001b[2m11:21:32.771878 line         8\u001b[0m SOURCE IS UNAVAILABLE\n",
      "\u001b[32m\u001b[2mNew var:....... \u001b[22ms = 0\u001b[0m\n",
      "\u001b[2m11:21:32.772009 line         9\u001b[0m SOURCE IS UNAVAILABLE\n",
      "\u001b[32m\u001b[2mNew var:....... \u001b[22mitem = 1\u001b[0m\n",
      "\u001b[2m11:21:32.772149 line        10\u001b[0m SOURCE IS UNAVAILABLE\n",
      "\u001b[2m11:21:32.772284 line        11\u001b[0m SOURCE IS UNAVAILABLE\n",
      "\u001b[32m\u001b[2mModified var:.. \u001b[22ms = 1\u001b[0m\n",
      "\u001b[2m11:21:32.772383 line         9\u001b[0m SOURCE IS UNAVAILABLE\n",
      "\u001b[32m\u001b[2mModified var:.. \u001b[22mitem = 2\u001b[0m\n",
      "\u001b[2m11:21:32.772514 line        10\u001b[0m SOURCE IS UNAVAILABLE\n",
      "\u001b[2m11:21:32.772647 line        11\u001b[0m SOURCE IS UNAVAILABLE\n",
      "\u001b[32m\u001b[2mModified var:.. \u001b[22ms = 3\u001b[0m\n",
      "\u001b[2m11:21:32.772741 line         9\u001b[0m SOURCE IS UNAVAILABLE\n",
      "\u001b[32m\u001b[2mModified var:.. \u001b[22mitem = 3\u001b[0m\n",
      "\u001b[2m11:21:32.772870 line        10\u001b[0m SOURCE IS UNAVAILABLE\n",
      "\u001b[2m11:21:32.773002 line        11\u001b[0m SOURCE IS UNAVAILABLE\n",
      "\u001b[32m\u001b[2mModified var:.. \u001b[22ms = 6\u001b[0m\n",
      "\u001b[2m11:21:32.773105 line         9\u001b[0m SOURCE IS UNAVAILABLE\n",
      "\u001b[32m\u001b[2mModified var:.. \u001b[22mitem = [4, 5, [7, 8, [10, 11, 12], 9]]\u001b[0m\n",
      "\u001b[2m11:21:32.773228 line        10\u001b[0m SOURCE IS UNAVAILABLE\n",
      "\u001b[2m11:21:32.773358 line        13\u001b[0m SOURCE IS UNAVAILABLE\n",
      "    \u001b[32m\u001b[2mStarting var:.. \u001b[22ml = [4, 5, [7, 8, [10, 11, 12], 9]]\u001b[0m\n",
      "    \u001b[2m11:21:32.773506 call         6\u001b[0m SOURCE IS UNAVAILABLE\n",
      "    \u001b[2m11:21:32.773629 line         8\u001b[0m SOURCE IS UNAVAILABLE\n",
      "    \u001b[32m\u001b[2mNew var:....... \u001b[22ms = 0\u001b[0m\n",
      "    \u001b[2m11:21:32.773726 line         9\u001b[0m SOURCE IS UNAVAILABLE\n",
      "    \u001b[32m\u001b[2mNew var:....... \u001b[22mitem = 4\u001b[0m\n",
      "    \u001b[2m11:21:32.773851 line        10\u001b[0m SOURCE IS UNAVAILABLE\n",
      "    \u001b[2m11:21:32.773983 line        11\u001b[0m SOURCE IS UNAVAILABLE\n",
      "    \u001b[32m\u001b[2mModified var:.. \u001b[22ms = 4\u001b[0m\n",
      "    \u001b[2m11:21:32.774079 line         9\u001b[0m SOURCE IS UNAVAILABLE\n",
      "    \u001b[32m\u001b[2mModified var:.. \u001b[22mitem = 5\u001b[0m\n",
      "    \u001b[2m11:21:32.774204 line        10\u001b[0m SOURCE IS UNAVAILABLE\n",
      "    \u001b[2m11:21:32.774328 line        11\u001b[0m SOURCE IS UNAVAILABLE\n",
      "    \u001b[32m\u001b[2mModified var:.. \u001b[22ms = 9\u001b[0m\n",
      "    \u001b[2m11:21:32.774422 line         9\u001b[0m SOURCE IS UNAVAILABLE\n",
      "    \u001b[32m\u001b[2mModified var:.. \u001b[22mitem = [7, 8, [10, 11, 12], 9]\u001b[0m\n",
      "    \u001b[2m11:21:32.774681 line        10\u001b[0m SOURCE IS UNAVAILABLE\n",
      "    \u001b[2m11:21:32.774826 line        13\u001b[0m SOURCE IS UNAVAILABLE\n",
      "        \u001b[32m\u001b[2mStarting var:.. \u001b[22ml = [7, 8, [10, 11, 12], 9]\u001b[0m\n",
      "        \u001b[2m11:21:32.774961 call         6\u001b[0m SOURCE IS UNAVAILABLE\n",
      "        \u001b[2m11:21:32.775066 line         8\u001b[0m SOURCE IS UNAVAILABLE\n",
      "        \u001b[32m\u001b[2mNew var:....... \u001b[22ms = 0\u001b[0m\n",
      "        \u001b[2m11:21:32.775137 line         9\u001b[0m SOURCE IS UNAVAILABLE\n",
      "        \u001b[32m\u001b[2mNew var:....... \u001b[22mitem = 7\u001b[0m\n",
      "        \u001b[2m11:21:32.775232 line        10\u001b[0m SOURCE IS UNAVAILABLE\n",
      "        \u001b[2m11:21:32.775335 line        11\u001b[0m SOURCE IS UNAVAILABLE\n",
      "        \u001b[32m\u001b[2mModified var:.. \u001b[22ms = 7\u001b[0m\n",
      "        \u001b[2m11:21:32.775413 line         9\u001b[0m SOURCE IS UNAVAILABLE\n",
      "        \u001b[32m\u001b[2mModified var:.. \u001b[22mitem = 8\u001b[0m\n",
      "        \u001b[2m11:21:32.775512 line        10\u001b[0m SOURCE IS UNAVAILABLE\n",
      "        \u001b[2m11:21:32.775599 line        11\u001b[0m SOURCE IS UNAVAILABLE\n",
      "        \u001b[32m\u001b[2mModified var:.. \u001b[22ms = 15\u001b[0m\n",
      "        \u001b[2m11:21:32.775663 line         9\u001b[0m SOURCE IS UNAVAILABLE\n",
      "        \u001b[32m\u001b[2mModified var:.. \u001b[22mitem = [10, 11, 12]\u001b[0m\n",
      "        \u001b[2m11:21:32.775755 line        10\u001b[0m SOURCE IS UNAVAILABLE\n",
      "        \u001b[2m11:21:32.775858 line        13\u001b[0m SOURCE IS UNAVAILABLE\n",
      "            \u001b[32m\u001b[2mStarting var:.. \u001b[22ml = [10, 11, 12]\u001b[0m\n",
      "            \u001b[2m11:21:32.775966 call         6\u001b[0m SOURCE IS UNAVAILABLE\n",
      "            \u001b[2m11:21:32.778748 line         8\u001b[0m SOURCE IS UNAVAILABLE\n",
      "            \u001b[32m\u001b[2mNew var:....... \u001b[22ms = 0\u001b[0m\n",
      "            \u001b[2m11:21:32.778871 line         9\u001b[0m SOURCE IS UNAVAILABLE\n",
      "            \u001b[32m\u001b[2mNew var:....... \u001b[22mitem = 10\u001b[0m\n",
      "            \u001b[2m11:21:32.778991 line        10\u001b[0m SOURCE IS UNAVAILABLE\n",
      "            \u001b[2m11:21:32.779084 line        11\u001b[0m SOURCE IS UNAVAILABLE\n",
      "            \u001b[32m\u001b[2mModified var:.. \u001b[22ms = 10\u001b[0m\n",
      "            \u001b[2m11:21:32.779164 line         9\u001b[0m SOURCE IS UNAVAILABLE\n",
      "            \u001b[32m\u001b[2mModified var:.. \u001b[22mitem = 11\u001b[0m\n",
      "            \u001b[2m11:21:32.779272 line        10\u001b[0m SOURCE IS UNAVAILABLE\n",
      "            \u001b[2m11:21:32.779351 line        11\u001b[0m SOURCE IS UNAVAILABLE\n",
      "            \u001b[32m\u001b[2mModified var:.. \u001b[22ms = 21\u001b[0m\n",
      "            \u001b[2m11:21:32.779401 line         9\u001b[0m SOURCE IS UNAVAILABLE\n",
      "            \u001b[32m\u001b[2mModified var:.. \u001b[22mitem = 12\u001b[0m\n",
      "            \u001b[2m11:21:32.779471 line        10\u001b[0m SOURCE IS UNAVAILABLE\n",
      "            \u001b[2m11:21:32.779575 line        11\u001b[0m SOURCE IS UNAVAILABLE\n",
      "            \u001b[32m\u001b[2mModified var:.. \u001b[22ms = 33\u001b[0m\n",
      "            \u001b[2m11:21:32.779657 line         9\u001b[0m SOURCE IS UNAVAILABLE\n",
      "            \u001b[2m11:21:32.779793 line        15\u001b[0m SOURCE IS UNAVAILABLE\n",
      "            \u001b[2m11:21:32.779869 return      15\u001b[0m SOURCE IS UNAVAILABLE\n",
      "            \u001b[36m\u001b[2mReturn value:.. \u001b[22m33\u001b[0m\n",
      "            \u001b[33m\u001b[2mElapsed time: \u001b[22m00:00:00.004048\u001b[0m\n",
      "        \u001b[32m\u001b[2mModified var:.. \u001b[22ms = 48\u001b[0m\n",
      "        \u001b[2m11:21:32.780132 line         9\u001b[0m SOURCE IS UNAVAILABLE\n",
      "        \u001b[32m\u001b[2mModified var:.. \u001b[22mitem = 9\u001b[0m\n",
      "        \u001b[2m11:21:32.780263 line        10\u001b[0m SOURCE IS UNAVAILABLE\n",
      "        \u001b[2m11:21:32.780348 line        11\u001b[0m SOURCE IS UNAVAILABLE\n",
      "        \u001b[32m\u001b[2mModified var:.. \u001b[22ms = 57\u001b[0m\n",
      "        \u001b[2m11:21:32.780402 line         9\u001b[0m SOURCE IS UNAVAILABLE\n",
      "        \u001b[2m11:21:32.780472 line        15\u001b[0m SOURCE IS UNAVAILABLE\n",
      "        \u001b[2m11:21:32.780548 return      15\u001b[0m SOURCE IS UNAVAILABLE\n",
      "        \u001b[36m\u001b[2mReturn value:.. \u001b[22m57\u001b[0m\n",
      "        \u001b[33m\u001b[2mElapsed time: \u001b[22m00:00:00.005733\u001b[0m\n",
      "    \u001b[32m\u001b[2mModified var:.. \u001b[22ms = 66\u001b[0m\n",
      "    \u001b[2m11:21:32.780779 line         9\u001b[0m SOURCE IS UNAVAILABLE\n",
      "    \u001b[2m11:21:32.780899 line        15\u001b[0m SOURCE IS UNAVAILABLE\n",
      "    \u001b[2m11:21:32.780964 return      15\u001b[0m SOURCE IS UNAVAILABLE\n",
      "    \u001b[36m\u001b[2mReturn value:.. \u001b[22m66\u001b[0m\n",
      "    \u001b[33m\u001b[2mElapsed time: \u001b[22m00:00:00.007593\u001b[0m\n",
      "\u001b[32m\u001b[2mModified var:.. \u001b[22ms = 72\u001b[0m\n",
      "\u001b[2m11:21:32.781179 line         9\u001b[0m SOURCE IS UNAVAILABLE\n",
      "\u001b[32m\u001b[2mModified var:.. \u001b[22mitem = 10\u001b[0m\n",
      "\u001b[2m11:21:32.781313 line        10\u001b[0m SOURCE IS UNAVAILABLE\n",
      "\u001b[2m11:21:32.781411 line        11\u001b[0m SOURCE IS UNAVAILABLE\n",
      "\u001b[32m\u001b[2mModified var:.. \u001b[22ms = 82\u001b[0m\n",
      "\u001b[2m11:21:32.781488 line         9\u001b[0m SOURCE IS UNAVAILABLE\n",
      "\u001b[2m11:21:32.781597 line        15\u001b[0m SOURCE IS UNAVAILABLE\n",
      "\u001b[2m11:21:32.781677 return      15\u001b[0m SOURCE IS UNAVAILABLE\n",
      "\u001b[36m\u001b[2mReturn value:.. \u001b[22m82\u001b[0m\n",
      "\u001b[33m\u001b[2mElapsed time: \u001b[22m00:00:00.010625\u001b[0m\n"
     ]
    },
    {
     "data": {
      "text/plain": [
       "82"
      ]
     },
     "execution_count": 63,
     "metadata": {},
     "output_type": "execute_result"
    }
   ],
   "source": [
    "import pysnooper\n",
    "\n",
    "\n",
    "l = [1,2,3, [4,5, [7,8, [10, 11, 12], 9]], 10]\n",
    "\n",
    "@pysnooper.snoop()\n",
    "def rec_sum(l):\n",
    "    s = 0\n",
    "    for item in l:\n",
    "        if isinstance(item, (int, float)):\n",
    "            s += item \n",
    "        else:\n",
    "            s += rec_sum(item)\n",
    "#         print(s, l)\n",
    "    return s\n",
    "\n",
    "rec_sum(l)\n",
    "        "
   ]
  },
  {
   "cell_type": "code",
   "execution_count": 67,
   "id": "53184192",
   "metadata": {},
   "outputs": [
    {
     "name": "stdout",
     "output_type": "stream",
     "text": [
      "127 3\n",
      "11201\n"
     ]
    }
   ],
   "source": [
    "from math import log\n",
    "\n",
    "digits = '0123456789ABCDEF'\n",
    "ten2base = lambda n, base: (digits[n%base]+''.join([digits[(n:=n//base)%base] for _ in range(int(log(n,base)))]))[::-1]\n",
    "\n",
    "print(ten2base(*map(int, input().split())))"
   ]
  },
  {
   "cell_type": "code",
   "execution_count": 73,
   "id": "7e3938d7",
   "metadata": {},
   "outputs": [
    {
     "data": {
      "text/plain": [
       "'3'"
      ]
     },
     "execution_count": 73,
     "metadata": {},
     "output_type": "execute_result"
    }
   ],
   "source": [
    "digits = '0123456789ABCDEFGHIJKLMNOPQRSTUVWXYZ'\n",
    "n = 3\n",
    "b = 5\n",
    "new = ''\n",
    "while n!=0:\n",
    "    n, r = n//b, n%b\n",
    "    new = digits[r] + new\n",
    "\n",
    "new"
   ]
  },
  {
   "cell_type": "code",
   "execution_count": null,
   "id": "59e31598",
   "metadata": {},
   "outputs": [],
   "source": []
  }
 ],
 "metadata": {
  "kernelspec": {
   "display_name": ".venv",
   "language": "python",
   "name": ".venv"
  },
  "language_info": {
   "codemirror_mode": {
    "name": "ipython",
    "version": 3
   },
   "file_extension": ".py",
   "mimetype": "text/x-python",
   "name": "python",
   "nbconvert_exporter": "python",
   "pygments_lexer": "ipython3",
   "version": "3.10.8"
  }
 },
 "nbformat": 4,
 "nbformat_minor": 5
}
