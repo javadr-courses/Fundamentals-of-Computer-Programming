{
 "cells": [
  {
   "cell_type": "markdown",
   "id": "251497c3",
   "metadata": {},
   "source": [
    "# Introduction to Progamming Languages with Python \n",
    "### University of Qom\n",
    "##### Sat. 1401/10/03"
   ]
  },
  {
   "cell_type": "markdown",
   "id": "7bfabfa4",
   "metadata": {},
   "source": [
    "# Chapter 14: Files"
   ]
  },
  {
   "cell_type": "code",
   "execution_count": 2,
   "id": "ce0da762",
   "metadata": {},
   "outputs": [
    {
     "name": "stdout",
     "output_type": "stream",
     "text": [
      "egrep: warning: egrep is obsolescent; using grep -E\n",
      "14010801.html   14010815.py     14010905.ipynb  14010920.py\n",
      "14010801.ipynb  14010821.html   14010905.py     14010926.html\n",
      "14010801.py     14010821.ipynb  14010906.html   14010926.ipynb\n",
      "14010807.html   14010821.py     14010906.ipynb  14010926.py\n",
      "14010807.ipynb  14010822.html   14010906.py     14010927.html\n",
      "14010807.py     14010822.ipynb  14010912.zip    14010927.ipynb\n",
      "14010808.html   14010822.py     14010913.html   14010927.py\n",
      "14010808.ipynb  14010828.html   14010913.ipynb  14011003.ipynb\n",
      "14010808.py     14010828.ipynb  14010913.py     koch.py\n",
      "14010814.html   14010828.py     14010919.html   out\n",
      "14010814.ipynb  14010829.html   14010919.ipynb  test.py\n",
      "14010814.py     14010829.ipynb  14010919.py     turtle-by-pourqorban.py\n",
      "14010815.html   14010829.py     14010920.html   words.txt\n",
      "14010815.ipynb  14010905.html   14010920.ipynb\n"
     ]
    }
   ],
   "source": [
    "ls"
   ]
  },
  {
   "cell_type": "code",
   "execution_count": 3,
   "id": "b0a336ed",
   "metadata": {},
   "outputs": [
    {
     "data": {
      "text/plain": [
       "<_io.TextIOWrapper name='test.txt' mode='w' encoding='UTF-8'>"
      ]
     },
     "execution_count": 3,
     "metadata": {},
     "output_type": "execute_result"
    }
   ],
   "source": [
    "# file descriptor or handle\n",
    "fout = open('test.txt', 'w')\n",
    "fout"
   ]
  },
  {
   "cell_type": "code",
   "execution_count": 5,
   "id": "118de3bc",
   "metadata": {},
   "outputs": [
    {
     "name": "stdout",
     "output_type": "stream",
     "text": [
      "egrep: warning: egrep is obsolescent; using grep -E\n",
      "-rw-r--r-- 1 javad javad 0 Dec 24 10:23 test.txt\n"
     ]
    }
   ],
   "source": [
    "!ls -lh test.txt"
   ]
  },
  {
   "cell_type": "code",
   "execution_count": 7,
   "id": "33d5bda8",
   "metadata": {},
   "outputs": [
    {
     "data": {
      "text/plain": [
       "13"
      ]
     },
     "execution_count": 7,
     "metadata": {},
     "output_type": "execute_result"
    }
   ],
   "source": [
    "fout.write(\"hello worlds!\")"
   ]
  },
  {
   "cell_type": "code",
   "execution_count": 8,
   "id": "d6808d02",
   "metadata": {},
   "outputs": [
    {
     "name": "stdout",
     "output_type": "stream",
     "text": [
      "egrep: warning: egrep is obsolescent; using grep -E\n",
      "-rw-r--r-- 1 javad javad 0 Dec 24 10:23 test.txt\n"
     ]
    }
   ],
   "source": [
    "!ls -lh test.txt"
   ]
  },
  {
   "cell_type": "code",
   "execution_count": 9,
   "id": "d1d8c46b",
   "metadata": {},
   "outputs": [],
   "source": [
    "fout.close()"
   ]
  },
  {
   "cell_type": "code",
   "execution_count": 10,
   "id": "1c54b434",
   "metadata": {},
   "outputs": [
    {
     "name": "stdout",
     "output_type": "stream",
     "text": [
      "egrep: warning: egrep is obsolescent; using grep -E\n",
      "-rw-r--r-- 1 javad javad 13 Dec 24 10:27 test.txt\n"
     ]
    }
   ],
   "source": [
    "!ls -lh test.txt"
   ]
  },
  {
   "cell_type": "code",
   "execution_count": 13,
   "id": "6c9bc75d",
   "metadata": {},
   "outputs": [
    {
     "name": "stdout",
     "output_type": "stream",
     "text": [
      "egrep: warning: egrep is obsolescent; using grep -E\n",
      "hello worlds!"
     ]
    }
   ],
   "source": [
    "!command cat test.txt"
   ]
  },
  {
   "cell_type": "code",
   "execution_count": 14,
   "id": "e4a24873",
   "metadata": {},
   "outputs": [
    {
     "name": "stdout",
     "output_type": "stream",
     "text": [
      "egrep: warning: egrep is obsolescent; using grep -E\n",
      "-rw-r--r-- 1 javad javad 17 Dec 24 10:29 test.txt\n"
     ]
    }
   ],
   "source": [
    "fout = open('test.txt', 'w')\n",
    "fout.write('سلام دنیا')\n",
    "fout.close()\n",
    "\n",
    "!ls -lh test.txt"
   ]
  },
  {
   "cell_type": "code",
   "execution_count": 15,
   "id": "61e1ccc5",
   "metadata": {},
   "outputs": [
    {
     "data": {
      "text/plain": [
       "9"
      ]
     },
     "execution_count": 15,
     "metadata": {},
     "output_type": "execute_result"
    }
   ],
   "source": [
    "len('سلام دنیا')"
   ]
  },
  {
   "cell_type": "code",
   "execution_count": 16,
   "id": "141402b3",
   "metadata": {},
   "outputs": [
    {
     "name": "stdout",
     "output_type": "stream",
     "text": [
      "egrep: warning: egrep is obsolescent; using grep -E\n",
      "-rw-r--r-- 1 javad javad 31 Dec 24 10:31 test.txt\n"
     ]
    }
   ],
   "source": [
    "fout = open('test.txt', 'a')\n",
    "fout.write('\\nanother line!')\n",
    "fout.close()\n",
    "\n",
    "!ls -lh test.txt"
   ]
  },
  {
   "cell_type": "code",
   "execution_count": 17,
   "id": "eea2c681",
   "metadata": {},
   "outputs": [],
   "source": [
    "n = 12\n",
    "w = 'students of IP class'\n",
    "x = 12.1\n",
    "\n",
    "fout = open('test.txt', 'a')\n",
    "#fout.write(str(n)+str(w)+str(x))\n",
    "fout.write(\"\\n%d %s %f\" % (n,w,x)) #python 2\n",
    "fout.write(\"\\n{} {} {}\".format(n,w,x)) #python 3\n",
    "fout.write(f\"\\n{n} {w} {x}\") #python >3.6\n",
    "fout.close()\n"
   ]
  },
  {
   "cell_type": "code",
   "execution_count": 18,
   "id": "6332b585",
   "metadata": {},
   "outputs": [
    {
     "data": {
      "text/plain": [
       "'12.1'"
      ]
     },
     "execution_count": 18,
     "metadata": {},
     "output_type": "execute_result"
    }
   ],
   "source": [
    "n = 12.1\n",
    "f\"{n}\""
   ]
  },
  {
   "cell_type": "code",
   "execution_count": 19,
   "id": "43cf9318",
   "metadata": {},
   "outputs": [
    {
     "data": {
      "text/plain": [
       "'12.100000'"
      ]
     },
     "execution_count": 19,
     "metadata": {},
     "output_type": "execute_result"
    }
   ],
   "source": [
    "n = 12.1\n",
    "f\"{n:f}\""
   ]
  },
  {
   "cell_type": "code",
   "execution_count": 20,
   "id": "ceefe1af",
   "metadata": {},
   "outputs": [
    {
     "data": {
      "text/plain": [
       "'12.12'"
      ]
     },
     "execution_count": 20,
     "metadata": {},
     "output_type": "execute_result"
    }
   ],
   "source": [
    "n = 12.123456789\n",
    "f\"{n:.2f}\""
   ]
  },
  {
   "cell_type": "code",
   "execution_count": 21,
   "id": "8ba55426",
   "metadata": {},
   "outputs": [
    {
     "data": {
      "text/plain": [
       "'12.13'"
      ]
     },
     "execution_count": 21,
     "metadata": {},
     "output_type": "execute_result"
    }
   ],
   "source": [
    "n = 12.128456789\n",
    "f\"{n:.2f}\""
   ]
  },
  {
   "cell_type": "code",
   "execution_count": 24,
   "id": "a0c37099",
   "metadata": {},
   "outputs": [
    {
     "data": {
      "text/plain": [
       "'12.12'"
      ]
     },
     "execution_count": 24,
     "metadata": {},
     "output_type": "execute_result"
    }
   ],
   "source": [
    "n = 12.128456789\n",
    "f\"{int(n*100)/100:.2f}\""
   ]
  },
  {
   "cell_type": "code",
   "execution_count": 25,
   "id": "b30f5b7e",
   "metadata": {},
   "outputs": [
    {
     "data": {
      "text/plain": [
       "'12.1285'"
      ]
     },
     "execution_count": 25,
     "metadata": {},
     "output_type": "execute_result"
    }
   ],
   "source": [
    "n = 12.128456789\n",
    "f\"{n:g}\""
   ]
  },
  {
   "cell_type": "code",
   "execution_count": 26,
   "id": "c726a29f",
   "metadata": {},
   "outputs": [
    {
     "data": {
      "text/plain": [
       "'1.98799e+09'"
      ]
     },
     "execution_count": 26,
     "metadata": {},
     "output_type": "execute_result"
    }
   ],
   "source": [
    "n = 1987987982.128456789898779\n",
    "f\"{n:g}\""
   ]
  },
  {
   "cell_type": "code",
   "execution_count": 31,
   "id": "7c90ac9b",
   "metadata": {},
   "outputs": [
    {
     "data": {
      "text/plain": [
       "'     12.13'"
      ]
     },
     "execution_count": 31,
     "metadata": {},
     "output_type": "execute_result"
    }
   ],
   "source": [
    "n = 12.128456789898779\n",
    "f\"{n:10.2f}\""
   ]
  },
  {
   "cell_type": "code",
   "execution_count": 32,
   "id": "296c7dec",
   "metadata": {},
   "outputs": [
    {
     "data": {
      "text/plain": [
       "'    +12.13'"
      ]
     },
     "execution_count": 32,
     "metadata": {},
     "output_type": "execute_result"
    }
   ],
   "source": [
    "n = 12.128456789898779\n",
    "f\"{n:+10.2f}\""
   ]
  },
  {
   "cell_type": "code",
   "execution_count": 35,
   "id": "13888a00",
   "metadata": {},
   "outputs": [
    {
     "data": {
      "text/plain": [
       "'+12.13    '"
      ]
     },
     "execution_count": 35,
     "metadata": {},
     "output_type": "execute_result"
    }
   ],
   "source": [
    "n = 12.128456789898779\n",
    "f\"{n:<+10.2f}\""
   ]
  },
  {
   "cell_type": "code",
   "execution_count": 37,
   "id": "d14617ea",
   "metadata": {},
   "outputs": [
    {
     "data": {
      "text/plain": [
       "'     12.13'"
      ]
     },
     "execution_count": 37,
     "metadata": {},
     "output_type": "execute_result"
    }
   ],
   "source": [
    "n = 12.128456789898779\n",
    "f\"{n:>10.2f}\""
   ]
  },
  {
   "cell_type": "code",
   "execution_count": 38,
   "id": "7ab51d06",
   "metadata": {},
   "outputs": [
    {
     "data": {
      "text/plain": [
       "10"
      ]
     },
     "execution_count": 38,
     "metadata": {},
     "output_type": "execute_result"
    }
   ],
   "source": [
    "len('     12.13')"
   ]
  },
  {
   "cell_type": "code",
   "execution_count": 40,
   "id": "4ac07284",
   "metadata": {},
   "outputs": [
    {
     "data": {
      "text/plain": [
       "'       ali'"
      ]
     },
     "execution_count": 40,
     "metadata": {},
     "output_type": "execute_result"
    }
   ],
   "source": [
    "name = 'ali'\n",
    "f\"{name:>10s}\""
   ]
  },
  {
   "cell_type": "code",
   "execution_count": 51,
   "id": "889ed8de",
   "metadata": {},
   "outputs": [
    {
     "name": "stdout",
     "output_type": "stream",
     "text": [
      "3 6 9 12 15 18 21 24 27 30 "
     ]
    }
   ],
   "source": [
    "def row(i, n):\n",
    "    for j in range(1, n+1):\n",
    "        print(j*i, end=' ')\n",
    "        \n",
    "row(3, 10)"
   ]
  },
  {
   "cell_type": "code",
   "execution_count": 54,
   "id": "66833af5",
   "metadata": {},
   "outputs": [
    {
     "name": "stdout",
     "output_type": "stream",
     "text": [
      "1 2 3 4 5 6 7 8 9 10 \n",
      "2 4 6 8 10 12 14 16 18 20 \n",
      "3 6 9 12 15 18 21 24 27 30 \n",
      "4 8 12 16 20 24 28 32 36 40 \n",
      "5 10 15 20 25 30 35 40 45 50 \n",
      "6 12 18 24 30 36 42 48 54 60 \n",
      "7 14 21 28 35 42 49 56 63 70 \n",
      "8 16 24 32 40 48 56 64 72 80 \n",
      "9 18 27 36 45 54 63 72 81 90 \n",
      "10 20 30 40 50 60 70 80 90 100 \n"
     ]
    }
   ],
   "source": [
    "def multi_table(n):\n",
    "    for i in range(1, n+1):\n",
    "        row(i, n)\n",
    "        print()\n",
    "        \n",
    "multi_table(10)"
   ]
  },
  {
   "cell_type": "code",
   "execution_count": 55,
   "id": "2b52e1bf",
   "metadata": {},
   "outputs": [
    {
     "name": "stdout",
     "output_type": "stream",
     "text": [
      "1 2 3 4 5 6 7 8 9 10 \n",
      "2 4 6 8 10 12 14 16 18 20 \n",
      "3 6 9 12 15 18 21 24 27 30 \n",
      "4 8 12 16 20 24 28 32 36 40 \n",
      "5 10 15 20 25 30 35 40 45 50 \n",
      "6 12 18 24 30 36 42 48 54 60 \n",
      "7 14 21 28 35 42 49 56 63 70 \n",
      "8 16 24 32 40 48 56 64 72 80 \n",
      "9 18 27 36 45 54 63 72 81 90 \n",
      "10 20 30 40 50 60 70 80 90 100 \n"
     ]
    }
   ],
   "source": [
    "def multi_table(n):\n",
    "    for i in range(1, n+1):\n",
    "        for j in range(1, n+1):\n",
    "            print(i*j, end=' ')\n",
    "        print()\n",
    "        \n",
    "multi_table(10)"
   ]
  },
  {
   "cell_type": "code",
   "execution_count": 66,
   "id": "58b9970f",
   "metadata": {},
   "outputs": [
    {
     "name": "stdout",
     "output_type": "stream",
     "text": [
      "  1   2   3   4   5   6   7   8   9  10 \n",
      "  2   4   6   8  10  12  14  16  18  20 \n",
      "  3   6   9  12  15  18  21  24  27  30 \n",
      "  4   8  12  16  20  24  28  32  36  40 \n",
      "  5  10  15  20  25  30  35  40  45  50 \n",
      "  6  12  18  24  30  36  42  48  54  60 \n",
      "  7  14  21  28  35  42  49  56  63  70 \n",
      "  8  16  24  32  40  48  56  64  72  80 \n",
      "  9  18  27  36  45  54  63  72  81  90 \n",
      " 10  20  30  40  50  60  70  80  90 100 \n"
     ]
    }
   ],
   "source": [
    "def multi_table(n):\n",
    "    w = len(str(n**2))\n",
    "    for i in range(1, n+1):\n",
    "        for j in range(1, n+1):\n",
    "            print(f\"{i*j:{w}}\", end=' ')\n",
    "        print()\n",
    "        \n",
    "multi_table(10)"
   ]
  },
  {
   "cell_type": "code",
   "execution_count": 71,
   "id": "008a921c",
   "metadata": {},
   "outputs": [],
   "source": [
    "fout = open('mt.txt', 'w')\n",
    "\n",
    "def multi_table(n):\n",
    "    w = len(str(n**2))\n",
    "    for i in range(1, n+1):\n",
    "        for j in range(1, n+1):\n",
    "            fout.write(f\"{i*j:{w}} \")\n",
    "        fout.write('\\n')\n",
    "        \n",
    "multi_table(10)\n",
    "fout.close()"
   ]
  },
  {
   "cell_type": "code",
   "execution_count": 67,
   "id": "bcf7d20d",
   "metadata": {},
   "outputs": [
    {
     "data": {
      "text/plain": [
       "'[1, 2, 3]'"
      ]
     },
     "execution_count": 67,
     "metadata": {},
     "output_type": "execute_result"
    }
   ],
   "source": [
    "str([1,2,3])"
   ]
  },
  {
   "cell_type": "code",
   "execution_count": 72,
   "id": "837beb8b",
   "metadata": {},
   "outputs": [
    {
     "data": {
      "text/plain": [
       "'/home/javad/Videos/OBS/Univ Courses/IP/handout/1401'"
      ]
     },
     "execution_count": 72,
     "metadata": {},
     "output_type": "execute_result"
    }
   ],
   "source": [
    "import os\n",
    "os.getcwd()"
   ]
  },
  {
   "cell_type": "code",
   "execution_count": 73,
   "id": "a4ad079d",
   "metadata": {},
   "outputs": [
    {
     "name": "stdout",
     "output_type": "stream",
     "text": [
      "egrep: warning: egrep is obsolescent; using grep -E\n",
      "\u001b[0m\u001b[01;34m1399\u001b[0m/  \u001b[01;34m1400\u001b[0m/  \u001b[01;34m1401\u001b[0m/\n"
     ]
    }
   ],
   "source": [
    "ls .."
   ]
  },
  {
   "cell_type": "code",
   "execution_count": 75,
   "id": "d3bcf58d",
   "metadata": {},
   "outputs": [
    {
     "name": "stdout",
     "output_type": "stream",
     "text": [
      "egrep: warning: egrep is obsolescent; using grep -E\n",
      "14000801.html   14000829.html   14000913.pdf    14000920.xopp   14001011.ipynb\n",
      "14000801.ipynb  14000829.ipynb  14000913.xopp   14000927.html   14001011.pdf\n",
      "14000808.html   14000829.pdf    14000918.html   14000927.ipynb  14001011.xopp\n",
      "14000808.ipynb  14000829.xopp   14000918.ipynb  14000927.pdf    frog.pond\n",
      "14000815.html   14000906.ipynb  14000918.pdf    14000927.xopp   frog.py\n",
      "14000815.ipynb  14000906.pdf    14000918.xopp   14001004.html   harmeh.py\n",
      "14000822.html   14000906.xopp   14000920.html   14001004.ipynb  in\n",
      "14000822.ipynb  14000913.html   14000920.ipynb  14001004.pdf\n",
      "14000822.pdf    14000913.ipynb  14000920.pdf    14001004.xopp\n"
     ]
    }
   ],
   "source": [
    "ls ../1400/cs"
   ]
  },
  {
   "cell_type": "code",
   "execution_count": 76,
   "id": "c26c41aa",
   "metadata": {},
   "outputs": [
    {
     "data": {
      "text/plain": [
       "<module 'posixpath' from '/usr/lib/python3.10/posixpath.py'>"
      ]
     },
     "execution_count": 76,
     "metadata": {},
     "output_type": "execute_result"
    }
   ],
   "source": [
    "os.path"
   ]
  },
  {
   "cell_type": "code",
   "execution_count": 78,
   "id": "d90aee8e",
   "metadata": {},
   "outputs": [
    {
     "data": {
      "text/plain": [
       "'/home/javad/Videos/OBS/Univ Courses/IP/handout/1401/mt.txt'"
      ]
     },
     "execution_count": 78,
     "metadata": {},
     "output_type": "execute_result"
    }
   ],
   "source": [
    "os.path.abspath('mt.txt')"
   ]
  },
  {
   "cell_type": "code",
   "execution_count": 81,
   "id": "cedc2425",
   "metadata": {},
   "outputs": [
    {
     "data": {
      "text/plain": [
       "True"
      ]
     },
     "execution_count": 81,
     "metadata": {},
     "output_type": "execute_result"
    }
   ],
   "source": [
    "os.path.isdir('/home')"
   ]
  },
  {
   "cell_type": "code",
   "execution_count": 84,
   "id": "c2247508",
   "metadata": {},
   "outputs": [
    {
     "data": {
      "text/plain": [
       "PosixPath('..')"
      ]
     },
     "execution_count": 84,
     "metadata": {},
     "output_type": "execute_result"
    }
   ],
   "source": [
    "import pathlib \n",
    "f = pathlib.Path('..')\n",
    "f\n"
   ]
  },
  {
   "cell_type": "code",
   "execution_count": 85,
   "id": "52222b39",
   "metadata": {},
   "outputs": [
    {
     "data": {
      "text/plain": [
       "PosixPath('/home/javad/Videos/OBS/Univ Courses/IP/handout/1401/..')"
      ]
     },
     "execution_count": 85,
     "metadata": {},
     "output_type": "execute_result"
    }
   ],
   "source": [
    "f.absolute()"
   ]
  },
  {
   "cell_type": "code",
   "execution_count": 86,
   "id": "c0cce9ef",
   "metadata": {},
   "outputs": [
    {
     "data": {
      "text/plain": [
       "PosixPath('../mt.txt')"
      ]
     },
     "execution_count": 86,
     "metadata": {},
     "output_type": "execute_result"
    }
   ],
   "source": [
    "f/'mt.txt'"
   ]
  },
  {
   "cell_type": "code",
   "execution_count": null,
   "id": "0e9aebc1",
   "metadata": {},
   "outputs": [],
   "source": []
  }
 ],
 "metadata": {
  "kernelspec": {
   "display_name": ".venv",
   "language": "python",
   "name": ".venv"
  },
  "language_info": {
   "codemirror_mode": {
    "name": "ipython",
    "version": 3
   },
   "file_extension": ".py",
   "mimetype": "text/x-python",
   "name": "python",
   "nbconvert_exporter": "python",
   "pygments_lexer": "ipython3",
   "version": "3.10.8"
  }
 },
 "nbformat": 4,
 "nbformat_minor": 5
}
