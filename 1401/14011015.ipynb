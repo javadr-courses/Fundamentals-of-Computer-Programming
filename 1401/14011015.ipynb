{
 "cells": [
  {
   "cell_type": "markdown",
   "id": "251497c3",
   "metadata": {},
   "source": [
    "# Introduction to Progamming Languages with Python \n",
    "### University of Qom\n",
    "##### Thu. 1401/10/15"
   ]
  },
  {
   "cell_type": "markdown",
   "id": "2e072def",
   "metadata": {},
   "source": [
    "## Extra Session\n",
    "### Assignments Solving #1"
   ]
  },
  {
   "cell_type": "code",
   "execution_count": 13,
   "id": "5e9a1c9c",
   "metadata": {},
   "outputs": [
    {
     "name": "stdout",
     "output_type": "stream",
     "text": [
      "########.......########\n",
      "#ghorfe1.......ghorfe2#\n",
      "########.......########\n",
      "#ghorfe3.......ghorfe4#\n",
      "########.......########\n",
      "#ghorfe5.......ghorfe6#\n",
      "########.......########\n",
      "#.....................#\n",
      "#######################\n"
     ]
    }
   ],
   "source": [
    "def get_row(full):\n",
    "    if full:\n",
    "        return '#ghorfe{}.......ghorfe{}#'\n",
    "    else: #half\n",
    "        return '#ghorfe{}..............#'\n",
    "    \n",
    "def virtual_exhibition(n):\n",
    "    title = '########.......########'\n",
    "    end = '#######################'\n",
    "    empty = '#.....................#'\n",
    "    r = n\n",
    "    for  i in range(4):\n",
    "        print(title)\n",
    "        if r>0:\n",
    "            print(get_row(r//2).format((i*2)+1,(i*2)+2))\n",
    "        else: \n",
    "            print(empty)\n",
    "        r -= 2\n",
    "    print(end)\n",
    "\n",
    "virtual_exhibition(6)"
   ]
  },
  {
   "cell_type": "code",
   "execution_count": 24,
   "id": "fea6328f",
   "metadata": {},
   "outputs": [
    {
     "name": "stdout",
     "output_type": "stream",
     "text": [
      "01100001\n",
      "01100001\n",
      "00001010\n",
      "01100001\n",
      "01100001\n",
      "01101000\n",
      "00001010\n",
      "01100001\n"
     ]
    }
   ],
   "source": [
    "with open('words.txt') as f:\n",
    "    data = f.read()\n",
    "    \n",
    "for i in data[0:8]:\n",
    "    print(f\"{bin(ord(i))[2:]:0>8}\")"
   ]
  },
  {
   "cell_type": "code",
   "execution_count": null,
   "id": "8bcf323a",
   "metadata": {},
   "outputs": [],
   "source": []
  },
  {
   "cell_type": "code",
   "execution_count": 25,
   "id": "5378cce0",
   "metadata": {},
   "outputs": [
    {
     "data": {
      "text/plain": [
       "'Ã'"
      ]
     },
     "execution_count": 25,
     "metadata": {},
     "output_type": "execute_result"
    }
   ],
   "source": [
    "chr(int('11000011', 2))"
   ]
  },
  {
   "cell_type": "code",
   "execution_count": 30,
   "id": "42fb341c",
   "metadata": {},
   "outputs": [
    {
     "name": "stdout",
     "output_type": "stream",
     "text": [
      "proj.py\r\n",
      "words.txt\r\n",
      "comp\r\n"
     ]
    }
   ],
   "source": [
    "with open('proj.py', 'w') as f:\n",
    "    f.write(\"\"\"import sys\n",
    "    \n",
    "for item in sys.argv:\n",
    "    print(item)\n",
    "    \"\"\")\n",
    "    \n",
    "!python proj.py words.txt comp"
   ]
  }
 ],
 "metadata": {
  "kernelspec": {
   "display_name": ".venv",
   "language": "python",
   "name": ".venv"
  },
  "language_info": {
   "codemirror_mode": {
    "name": "ipython",
    "version": 3
   },
   "file_extension": ".py",
   "mimetype": "text/x-python",
   "name": "python",
   "nbconvert_exporter": "python",
   "pygments_lexer": "ipython3",
   "version": "3.10.8"
  }
 },
 "nbformat": 4,
 "nbformat_minor": 5
}
