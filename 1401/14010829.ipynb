{
 "cells": [
  {
   "cell_type": "markdown",
   "id": "251497c3",
   "metadata": {},
   "source": [
    "# Introduction to Progamming Languages with Python \n",
    "### University of Qom\n",
    "##### Sun. 1401/08/29"
   ]
  },
  {
   "cell_type": "markdown",
   "id": "6027a544",
   "metadata": {},
   "source": [
    "### "
   ]
  },
  {
   "cell_type": "code",
   "execution_count": 1,
   "id": "b69246e3",
   "metadata": {},
   "outputs": [
    {
     "name": "stdout",
     "output_type": "stream",
     "text": [
      "Help on built-in function ord in module builtins:\n",
      "\n",
      "ord(c, /)\n",
      "    Return the Unicode code point for a one-character string.\n",
      "\n"
     ]
    }
   ],
   "source": [
    "help(ord)"
   ]
  },
  {
   "cell_type": "code",
   "execution_count": 2,
   "id": "e76fc43e",
   "metadata": {},
   "outputs": [
    {
     "data": {
      "text/plain": [
       "97"
      ]
     },
     "execution_count": 2,
     "metadata": {},
     "output_type": "execute_result"
    }
   ],
   "source": [
    "ord('a')"
   ]
  },
  {
   "cell_type": "code",
   "execution_count": 7,
   "id": "4a383ea5",
   "metadata": {},
   "outputs": [
    {
     "data": {
      "text/plain": [
       "('0x633', 1587)"
      ]
     },
     "execution_count": 7,
     "metadata": {},
     "output_type": "execute_result"
    }
   ],
   "source": [
    "hex(ord('س')), ord('س')"
   ]
  },
  {
   "cell_type": "code",
   "execution_count": 5,
   "id": "c3f96780",
   "metadata": {},
   "outputs": [
    {
     "name": "stdout",
     "output_type": "stream",
     "text": [
      "Help on built-in function chr in module builtins:\n",
      "\n",
      "chr(i, /)\n",
      "    Return a Unicode string of one character with ordinal i; 0 <= i <= 0x10ffff.\n",
      "\n"
     ]
    }
   ],
   "source": [
    "help(chr)"
   ]
  },
  {
   "cell_type": "code",
   "execution_count": 6,
   "id": "8d51b541",
   "metadata": {},
   "outputs": [
    {
     "data": {
      "text/plain": [
       "1114111"
      ]
     },
     "execution_count": 6,
     "metadata": {},
     "output_type": "execute_result"
    }
   ],
   "source": [
    "x = 0x10ffff\n",
    "x"
   ]
  },
  {
   "cell_type": "code",
   "execution_count": 8,
   "id": "10aae619",
   "metadata": {},
   "outputs": [
    {
     "data": {
      "text/plain": [
       "'س'"
      ]
     },
     "execution_count": 8,
     "metadata": {},
     "output_type": "execute_result"
    }
   ],
   "source": [
    "chr(1587)"
   ]
  },
  {
   "cell_type": "code",
   "execution_count": 11,
   "id": "05ef7e17",
   "metadata": {},
   "outputs": [
    {
     "name": "stdout",
     "output_type": "stream",
     "text": [
      "0b1000010111001111100001010001000000\n",
      "0o102717412100\n",
      "0x2173e1440\n"
     ]
    }
   ],
   "source": [
    "n = 8979878976\n",
    "print(bin(n), oct(n), hex(n), sep='\\n')"
   ]
  },
  {
   "cell_type": "code",
   "execution_count": 13,
   "id": "446b08b1",
   "metadata": {},
   "outputs": [
    {
     "name": "stdout",
     "output_type": "stream",
     "text": [
      "32  \t33 !\t34 \"\t35 #\t36 $\t37 %\t38 &\t39 '\t40 (\t41 )\t42 *\t43 +\t44 ,\t45 -\t46 .\t47 /\t48 0\t49 1\t50 2\t51 3\t52 4\t53 5\t54 6\t55 7\t56 8\t57 9\t58 :\t59 ;\t60 <\t61 =\t62 >\t63 ?\t64 @\t65 A\t66 B\t67 C\t68 D\t69 E\t70 F\t71 G\t72 H\t73 I\t74 J\t75 K\t76 L\t77 M\t78 N\t79 O\t80 P\t81 Q\t82 R\t83 S\t84 T\t85 U\t86 V\t87 W\t88 X\t89 Y\t90 Z\t91 [\t92 \\\t93 ]\t94 ^\t95 _\t96 `\t97 a\t98 b\t99 c\t100 d\t101 e\t102 f\t103 g\t104 h\t105 i\t106 j\t107 k\t108 l\t109 m\t110 n\t111 o\t112 p\t113 q\t114 r\t115 s\t116 t\t117 u\t118 v\t119 w\t120 x\t121 y\t122 z\t123 {\t124 |\t125 }\t126 ~\t127 \t"
     ]
    }
   ],
   "source": [
    "for i in range(32, 128):\n",
    "    print(i, chr(i), end='\\t')"
   ]
  },
  {
   "cell_type": "code",
   "execution_count": 14,
   "id": "4cc3500f",
   "metadata": {},
   "outputs": [
    {
     "name": "stdout",
     "output_type": "stream",
     "text": [
      "0 \u0000\t1 \u0001\t2 \u0002\t3 \u0003\t4 \u0004\t5 \u0005\t6 \u0006\t7 \u0007\t8 \b\t9 \t\t10 \n",
      "\t11 \u000b",
      "\t12 \f",
      "\t13 \r",
      "\t14 \u000e\t15 \u000f\t16 \u0010\t17 \u0011\t18 \u0012\t19 \u0013\t20 \u0014\t21 \u0015\t22 \u0016\t23 \u0017\t24 \u0018\t25 \u0019\t26 \u001a\t27 \u001b\t28 \u001c",
      "\t29 \u001d",
      "\t30 \u001e",
      "\t31 \u001f\t"
     ]
    }
   ],
   "source": [
    "for i in range(0, 32):\n",
    "    print(i, chr(i), end='\\t')"
   ]
  },
  {
   "cell_type": "code",
   "execution_count": 20,
   "id": "f5c41281",
   "metadata": {},
   "outputs": [
    {
     "name": "stdout",
     "output_type": "stream",
     "text": [
      "hello\b\bworlds!\n"
     ]
    }
   ],
   "source": [
    "print('hello', chr(8), chr(8), 'worlds!', sep='')"
   ]
  },
  {
   "cell_type": "code",
   "execution_count": 21,
   "id": "6712441b",
   "metadata": {},
   "outputs": [
    {
     "data": {
      "text/plain": [
       "1"
      ]
     },
     "execution_count": 21,
     "metadata": {},
     "output_type": "execute_result"
    }
   ],
   "source": [
    "len(chr(8))"
   ]
  },
  {
   "cell_type": "code",
   "execution_count": 22,
   "id": "34cb7a22",
   "metadata": {},
   "outputs": [
    {
     "data": {
      "text/plain": [
       "1"
      ]
     },
     "execution_count": 22,
     "metadata": {},
     "output_type": "execute_result"
    }
   ],
   "source": [
    "len('\\t')"
   ]
  },
  {
   "cell_type": "code",
   "execution_count": 26,
   "id": "c4ab8898",
   "metadata": {},
   "outputs": [
    {
     "data": {
      "text/plain": [
       "5.1"
      ]
     },
     "execution_count": 26,
     "metadata": {},
     "output_type": "execute_result"
    }
   ],
   "source": [
    "def f(x):\n",
    "    return x**2 - 2\n",
    "\n",
    "def fp(x):\n",
    "    return 2*x\n",
    "\n",
    "\n",
    "x = 10\n",
    "xp = x - f(x)/fp(x)\n",
    "xp\n",
    "    \n",
    "    "
   ]
  },
  {
   "cell_type": "code",
   "execution_count": 27,
   "id": "8bb34927",
   "metadata": {},
   "outputs": [
    {
     "data": {
      "text/plain": [
       "2.7460784313725486"
      ]
     },
     "execution_count": 27,
     "metadata": {},
     "output_type": "execute_result"
    }
   ],
   "source": [
    "x = 5.1\n",
    "xp = x - f(x)/fp(x)\n",
    "xp"
   ]
  },
  {
   "cell_type": "code",
   "execution_count": 28,
   "id": "a4bef023",
   "metadata": {},
   "outputs": [
    {
     "data": {
      "text/plain": [
       "1.7203703703703703"
      ]
     },
     "execution_count": 28,
     "metadata": {},
     "output_type": "execute_result"
    }
   ],
   "source": [
    "x = 2.7\n",
    "xp = x - f(x)/fp(x)\n",
    "xp"
   ]
  },
  {
   "cell_type": "code",
   "execution_count": 29,
   "id": "11907c96",
   "metadata": {},
   "outputs": [
    {
     "data": {
      "text/plain": [
       "1.438235294117647"
      ]
     },
     "execution_count": 29,
     "metadata": {},
     "output_type": "execute_result"
    }
   ],
   "source": [
    "x = 1.7\n",
    "xp = x - f(x)/fp(x)\n",
    "xp"
   ]
  },
  {
   "cell_type": "code",
   "execution_count": 45,
   "id": "d3b6d88d",
   "metadata": {},
   "outputs": [
    {
     "data": {
      "text/plain": [
       "1.4142135623730951"
      ]
     },
     "execution_count": 45,
     "metadata": {},
     "output_type": "execute_result"
    }
   ],
   "source": [
    "def f(x):\n",
    "    return x**2 - 2\n",
    "\n",
    "def fp(x):\n",
    "    return 2*x\n",
    "\n",
    "def root(x, precision=8):\n",
    "    x0 = 10\n",
    "    \n",
    "    while True:\n",
    "        x0 = x - f(x)/fp(x)\n",
    "        if abs(x-x0)<=10**-precision:\n",
    "            break\n",
    "        x = x0\n",
    "    \n",
    "    return x\n",
    "\n",
    "# root(2, 14)**2\n",
    "root(2)"
   ]
  },
  {
   "cell_type": "code",
   "execution_count": 34,
   "id": "1d34a198",
   "metadata": {},
   "outputs": [
    {
     "name": "stdout",
     "output_type": "stream",
     "text": [
      "0.0001324\n"
     ]
    }
   ],
   "source": [
    "print(1.324e-4)"
   ]
  },
  {
   "cell_type": "code",
   "execution_count": 36,
   "id": "e06ff46a",
   "metadata": {},
   "outputs": [
    {
     "ename": "NameError",
     "evalue": "name 'local_variable' is not defined",
     "output_type": "error",
     "traceback": [
      "\u001b[0;31m---------------------------------------------------------------------------\u001b[0m",
      "\u001b[0;31mNameError\u001b[0m                                 Traceback (most recent call last)",
      "Input \u001b[0;32mIn [36]\u001b[0m, in \u001b[0;36m<cell line: 6>\u001b[0;34m()\u001b[0m\n\u001b[1;32m      2\u001b[0m     local_variable \u001b[38;5;241m=\u001b[39m \u001b[38;5;241m2\u001b[39m\n\u001b[1;32m      5\u001b[0m test()\n\u001b[0;32m----> 6\u001b[0m \u001b[38;5;28mprint\u001b[39m(\u001b[43mlocal_variable\u001b[49m)\n",
      "\u001b[0;31mNameError\u001b[0m: name 'local_variable' is not defined"
     ]
    }
   ],
   "source": [
    "def test():\n",
    "    local_variable = 2\n",
    "    \n",
    "    \n",
    "test()\n",
    "print(local_variable)"
   ]
  },
  {
   "cell_type": "code",
   "execution_count": 49,
   "id": "d2183544",
   "metadata": {},
   "outputs": [
    {
     "data": {
      "text/plain": [
       "4.000000000000051"
      ]
     },
     "execution_count": 49,
     "metadata": {},
     "output_type": "execute_result"
    }
   ],
   "source": [
    "\n",
    "def root(n, precision=8):\n",
    "\n",
    "    def f(x, n):\n",
    "        return x**2 - n\n",
    "    def fp(x):\n",
    "        return 2*x\n",
    "    \n",
    "    x0 = 10\n",
    "    x = n\n",
    "    while True:\n",
    "        x0 = x - f(x, n)/fp(x)\n",
    "        if abs(x-x0)<=10**-precision:\n",
    "            break\n",
    "        x = x0\n",
    "    \n",
    "    return x\n",
    "\n",
    "root(16)"
   ]
  },
  {
   "cell_type": "code",
   "execution_count": 52,
   "id": "01bba525",
   "metadata": {},
   "outputs": [
    {
     "data": {
      "text/plain": [
       "2.000000000137015"
      ]
     },
     "execution_count": 52,
     "metadata": {},
     "output_type": "execute_result"
    }
   ],
   "source": [
    "def root(n, r=2, precision=8):\n",
    "\n",
    "    def f(x, n, r):\n",
    "        return x**r - n\n",
    "    def fp(x, r):\n",
    "        return r*x**(r-1)\n",
    "    \n",
    "    x0 = 10\n",
    "    x = n\n",
    "    while True:\n",
    "        x0 = x - f(x, n,r)/fp(x, r)\n",
    "        if abs(x-x0)<=10**-precision:\n",
    "            break\n",
    "        x = x0\n",
    "    \n",
    "    return x\n",
    "\n",
    "root(16, 4)"
   ]
  },
  {
   "cell_type": "code",
   "execution_count": 56,
   "id": "58ba2810",
   "metadata": {},
   "outputs": [
    {
     "name": "stdout",
     "output_type": "stream",
     "text": [
      "**********\n",
      "*        *\n",
      "*        *\n",
      "*        *\n",
      "*        *\n",
      "*        *\n",
      "*        *\n",
      "*        *\n",
      "*        *\n",
      "**********\n"
     ]
    }
   ],
   "source": [
    "def square(n):\n",
    "    full_row = n*'*'\n",
    "    hallow_row = '*' + (n-2)*' ' + '*\\n'\n",
    "    print(full_row + '\\n' + (n-2)*hallow_row + full_row)\n",
    "    \n",
    "square(10)"
   ]
  },
  {
   "cell_type": "code",
   "execution_count": null,
   "id": "3702f377",
   "metadata": {},
   "outputs": [],
   "source": []
  }
 ],
 "metadata": {
  "kernelspec": {
   "display_name": ".venv",
   "language": "python",
   "name": ".venv"
  },
  "language_info": {
   "codemirror_mode": {
    "name": "ipython",
    "version": 3
   },
   "file_extension": ".py",
   "mimetype": "text/x-python",
   "name": "python",
   "nbconvert_exporter": "python",
   "pygments_lexer": "ipython3",
   "version": "3.10.8"
  }
 },
 "nbformat": 4,
 "nbformat_minor": 5
}
