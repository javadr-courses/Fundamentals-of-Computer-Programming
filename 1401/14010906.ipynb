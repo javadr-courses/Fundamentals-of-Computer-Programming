{
 "cells": [
  {
   "cell_type": "markdown",
   "id": "251497c3",
   "metadata": {},
   "source": [
    "# Introduction to Progamming Languages with Python \n",
    "### University of Qom\n",
    "##### Sun. 1401/09/06"
   ]
  },
  {
   "cell_type": "markdown",
   "id": "6027a544",
   "metadata": {},
   "source": [
    "### Problem Solving"
   ]
  },
  {
   "cell_type": "code",
   "execution_count": 13,
   "id": "4ffcdc64",
   "metadata": {},
   "outputs": [
    {
     "name": "stdout",
     "output_type": "stream",
     "text": [
      "3.1415925535897915\n",
      "3.141592653589793\n"
     ]
    }
   ],
   "source": [
    "import math\n",
    "\n",
    "def pi(n):\n",
    "    p = 0\n",
    "    sign = 1\n",
    "    for i in range(n):\n",
    "        p = p + sign * 1/(2*i+1)\n",
    "        sign = sign * -1\n",
    "        \n",
    "    return p*4\n",
    "\n",
    "print(pi(10000000), math.pi, sep='\\n')"
   ]
  },
  {
   "cell_type": "code",
   "execution_count": 14,
   "id": "622036fe",
   "metadata": {},
   "outputs": [
    {
     "data": {
      "text/plain": [
       "0.30000000000000004"
      ]
     },
     "execution_count": 14,
     "metadata": {},
     "output_type": "execute_result"
    }
   ],
   "source": [
    ".1+.1+.1"
   ]
  },
  {
   "cell_type": "code",
   "execution_count": 15,
   "id": "7bd9367d",
   "metadata": {},
   "outputs": [
    {
     "data": {
      "text/plain": [
       "False"
      ]
     },
     "execution_count": 15,
     "metadata": {},
     "output_type": "execute_result"
    }
   ],
   "source": [
    ".1+.1+.1==.3"
   ]
  },
  {
   "cell_type": "code",
   "execution_count": 17,
   "id": "7ad68cdf",
   "metadata": {},
   "outputs": [
    {
     "data": {
      "text/plain": [
       "True"
      ]
     },
     "execution_count": 17,
     "metadata": {},
     "output_type": "execute_result"
    }
   ],
   "source": [
    "(.1+.1+.1 -.3)<.0000001"
   ]
  },
  {
   "cell_type": "code",
   "execution_count": 18,
   "id": "4416e5e6",
   "metadata": {},
   "outputs": [
    {
     "data": {
      "text/plain": [
       "True"
      ]
     },
     "execution_count": 18,
     "metadata": {},
     "output_type": "execute_result"
    }
   ],
   "source": [
    ".1+.1+.1 == 0.30000000000000004"
   ]
  },
  {
   "cell_type": "code",
   "execution_count": 21,
   "id": "c57cc25e",
   "metadata": {},
   "outputs": [
    {
     "data": {
      "text/plain": [
       "False"
      ]
     },
     "execution_count": 21,
     "metadata": {},
     "output_type": "execute_result"
    }
   ],
   "source": [
    "3e-1 == 1e-1 + 1e-1 + 1e-1"
   ]
  },
  {
   "cell_type": "code",
   "execution_count": 22,
   "id": "430a797a",
   "metadata": {},
   "outputs": [
    {
     "data": {
      "text/plain": [
       "113"
      ]
     },
     "execution_count": 22,
     "metadata": {},
     "output_type": "execute_result"
    }
   ],
   "source": [
    "def sum_digit(n):\n",
    "    s = 0\n",
    "    while n!=0:\n",
    "        s = s + n%10\n",
    "        n = n//10\n",
    "    return s\n",
    "\n",
    "sum_digit(8768768768768768)\n",
    "        "
   ]
  },
  {
   "cell_type": "code",
   "execution_count": 41,
   "id": "e56dd4cd",
   "metadata": {},
   "outputs": [
    {
     "name": "stdout",
     "output_type": "stream",
     "text": [
      "CPU times: user 56.8 ms, sys: 3.28 ms, total: 60.1 ms\n",
      "Wall time: 58.5 ms\n"
     ]
    },
    {
     "data": {
      "text/plain": [
       "9"
      ]
     },
     "execution_count": 41,
     "metadata": {},
     "output_type": "execute_result"
    }
   ],
   "source": [
    "%%time\n",
    "\n",
    "def one_digitizer(n):\n",
    "    while n>=10:\n",
    "        n = sum_digit(n)\n",
    "    return n\n",
    "\n",
    "one_digitizer(9**9999)"
   ]
  },
  {
   "cell_type": "code",
   "execution_count": 42,
   "id": "a492639e",
   "metadata": {},
   "outputs": [
    {
     "name": "stdout",
     "output_type": "stream",
     "text": [
      "CPU times: user 45.2 ms, sys: 138 µs, total: 45.4 ms\n",
      "Wall time: 46.2 ms\n"
     ]
    },
    {
     "data": {
      "text/plain": [
       "9"
      ]
     },
     "execution_count": 42,
     "metadata": {},
     "output_type": "execute_result"
    }
   ],
   "source": [
    "%%time\n",
    "\n",
    "def mehrpooya(n):\n",
    "    while n >= 10:\n",
    "        n = (n % 10) + (n // 10)\n",
    "    return n\n",
    "\n",
    "mehrpooya(9**9999)"
   ]
  },
  {
   "cell_type": "code",
   "execution_count": 43,
   "id": "3636ae06",
   "metadata": {},
   "outputs": [
    {
     "data": {
      "text/plain": [
       "32131532657878"
      ]
     },
     "execution_count": 43,
     "metadata": {},
     "output_type": "execute_result"
    }
   ],
   "source": [
    "def rev_num(n):\n",
    "    new_num = 0\n",
    "    i = 0\n",
    "    while n!=0:\n",
    "        new_num = new_num*10 + n%10\n",
    "        n = n//10\n",
    "    return new_num\n",
    "\n",
    "rev_num(87875623513123)"
   ]
  }
 ],
 "metadata": {
  "kernelspec": {
   "display_name": ".venv",
   "language": "python",
   "name": ".venv"
  },
  "language_info": {
   "codemirror_mode": {
    "name": "ipython",
    "version": 3
   },
   "file_extension": ".py",
   "mimetype": "text/x-python",
   "name": "python",
   "nbconvert_exporter": "python",
   "pygments_lexer": "ipython3",
   "version": "3.10.8"
  }
 },
 "nbformat": 4,
 "nbformat_minor": 5
}
