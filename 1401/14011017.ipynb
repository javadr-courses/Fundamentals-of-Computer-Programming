{
 "cells": [
  {
   "cell_type": "markdown",
   "id": "251497c3",
   "metadata": {},
   "source": [
    "# Introduction to Progamming Languages with Python \n",
    "### University of Qom\n",
    "##### Sun. 1401/10/18"
   ]
  },
  {
   "cell_type": "markdown",
   "id": "2e072def",
   "metadata": {},
   "source": [
    "## Extra Session\n",
    "### Assignments Solving #2"
   ]
  },
  {
   "cell_type": "code",
   "execution_count": 1,
   "id": "26711566",
   "metadata": {},
   "outputs": [
    {
     "data": {
      "text/plain": [
       "3"
      ]
     },
     "execution_count": 1,
     "metadata": {},
     "output_type": "execute_result"
    }
   ],
   "source": [
    "4 and 3"
   ]
  },
  {
   "cell_type": "markdown",
   "id": "d04b7097",
   "metadata": {},
   "source": [
    "Bitwise Operators"
   ]
  },
  {
   "cell_type": "code",
   "execution_count": 2,
   "id": "826985df",
   "metadata": {},
   "outputs": [
    {
     "data": {
      "text/plain": [
       "0"
      ]
     },
     "execution_count": 2,
     "metadata": {},
     "output_type": "execute_result"
    }
   ],
   "source": [
    "# and\n",
    "3 & 4"
   ]
  },
  {
   "cell_type": "code",
   "execution_count": 3,
   "id": "c4d5f74b",
   "metadata": {},
   "outputs": [
    {
     "data": {
      "text/plain": [
       "7"
      ]
     },
     "execution_count": 3,
     "metadata": {},
     "output_type": "execute_result"
    }
   ],
   "source": [
    "# or\n",
    "3 | 4"
   ]
  },
  {
   "cell_type": "code",
   "execution_count": 4,
   "id": "4f68ef7e",
   "metadata": {},
   "outputs": [
    {
     "data": {
      "text/plain": [
       "7"
      ]
     },
     "execution_count": 4,
     "metadata": {},
     "output_type": "execute_result"
    }
   ],
   "source": [
    "# xor\n",
    "3 ^ 4"
   ]
  },
  {
   "cell_type": "code",
   "execution_count": 5,
   "id": "678bc534",
   "metadata": {},
   "outputs": [
    {
     "data": {
      "text/plain": [
       "-4"
      ]
     },
     "execution_count": 5,
     "metadata": {},
     "output_type": "execute_result"
    }
   ],
   "source": [
    "# not\n",
    "~3"
   ]
  },
  {
   "cell_type": "code",
   "execution_count": 6,
   "id": "27153a43",
   "metadata": {},
   "outputs": [
    {
     "data": {
      "text/plain": [
       "252"
      ]
     },
     "execution_count": 6,
     "metadata": {},
     "output_type": "execute_result"
    }
   ],
   "source": [
    "int('11111100',2)"
   ]
  },
  {
   "cell_type": "code",
   "execution_count": 8,
   "id": "52c99be2",
   "metadata": {},
   "outputs": [
    {
     "data": {
      "text/plain": [
       "0"
      ]
     },
     "execution_count": 8,
     "metadata": {},
     "output_type": "execute_result"
    }
   ],
   "source": [
    "3 + (~3+1)"
   ]
  },
  {
   "cell_type": "code",
   "execution_count": 11,
   "id": "d762c7fa",
   "metadata": {},
   "outputs": [
    {
     "data": {
      "text/plain": [
       "96"
      ]
     },
     "execution_count": 11,
     "metadata": {},
     "output_type": "execute_result"
    }
   ],
   "source": [
    "# n << d == n * 2**d \n",
    "n = 12\n",
    "n << 3"
   ]
  },
  {
   "cell_type": "code",
   "execution_count": 13,
   "id": "bba244ad",
   "metadata": {},
   "outputs": [
    {
     "data": {
      "text/plain": [
       "1"
      ]
     },
     "execution_count": 13,
     "metadata": {},
     "output_type": "execute_result"
    }
   ],
   "source": [
    "# n >> d == n // 2**d\n",
    "n = 12\n",
    "n >> 3"
   ]
  },
  {
   "cell_type": "code",
   "execution_count": 27,
   "id": "409b305e",
   "metadata": {},
   "outputs": [
    {
     "data": {
      "text/plain": [
       "1"
      ]
     },
     "execution_count": 27,
     "metadata": {},
     "output_type": "execute_result"
    }
   ],
   "source": [
    "def get_ith_bit(n, i):\n",
    "    return [0, 1][1<<(i-1) & n > 0]\n",
    "\n",
    "get_ith_bit(7,1)"
   ]
  },
  {
   "cell_type": "code",
   "execution_count": 28,
   "id": "dde1a9c4",
   "metadata": {},
   "outputs": [
    {
     "data": {
      "text/plain": [
       "2"
      ]
     },
     "execution_count": 28,
     "metadata": {},
     "output_type": "execute_result"
    }
   ],
   "source": [
    "a = [1,2]\n",
    "a[True]"
   ]
  },
  {
   "cell_type": "code",
   "execution_count": 53,
   "id": "2ec1d8f4",
   "metadata": {},
   "outputs": [
    {
     "name": "stdout",
     "output_type": "stream",
     "text": [
      "188 µs ± 8.79 µs per loop (mean ± std. dev. of 7 runs, 1,000 loops each)\n"
     ]
    }
   ],
   "source": [
    "%%timeit\n",
    "def mybin(n):\n",
    "    s = ''\n",
    "    while n>0:\n",
    "        s = f\"{n%2}{s}\"\n",
    "        n //= 2\n",
    "    return s\n",
    "\n",
    "# mybin(7)\n",
    "n = 2**500\n",
    "mybin(n)   "
   ]
  },
  {
   "cell_type": "code",
   "execution_count": 51,
   "id": "591cee79",
   "metadata": {},
   "outputs": [
    {
     "name": "stdout",
     "output_type": "stream",
     "text": [
      "168 µs ± 4.63 µs per loop (mean ± std. dev. of 7 runs, 10,000 loops each)\n"
     ]
    }
   ],
   "source": [
    "%%timeit\n",
    "def get_ith_bit(n, i):\n",
    "    return [0, 1][1<<(i-1) & n > 0]\n",
    "\n",
    "def mybin2(n, length):\n",
    "    s = ''\n",
    "    for i in range(length, 0, -1):\n",
    "        s += str(get_ith_bit(n,i))\n",
    "    return s\n",
    "        \n",
    "n = 2**500\n",
    "mybin2(n, 501)"
   ]
  },
  {
   "cell_type": "code",
   "execution_count": 61,
   "id": "8cac286f",
   "metadata": {},
   "outputs": [
    {
     "name": "stdout",
     "output_type": "stream",
     "text": [
      "True\n",
      "False\n"
     ]
    }
   ],
   "source": [
    "n = 2\n",
    "m = n\n",
    "print(n is m)\n",
    "n = 3\n",
    "print(n is m)"
   ]
  },
  {
   "cell_type": "code",
   "execution_count": 62,
   "id": "6d730858",
   "metadata": {},
   "outputs": [
    {
     "data": {
      "text/plain": [
       "'aali'"
      ]
     },
     "execution_count": 62,
     "metadata": {},
     "output_type": "execute_result"
    }
   ],
   "source": [
    "min(['ali', 'aali', 'alia'])"
   ]
  }
 ],
 "metadata": {
  "kernelspec": {
   "display_name": ".venv",
   "language": "python",
   "name": ".venv"
  },
  "language_info": {
   "codemirror_mode": {
    "name": "ipython",
    "version": 3
   },
   "file_extension": ".py",
   "mimetype": "text/x-python",
   "name": "python",
   "nbconvert_exporter": "python",
   "pygments_lexer": "ipython3",
   "version": "3.10.8"
  }
 },
 "nbformat": 4,
 "nbformat_minor": 5
}
