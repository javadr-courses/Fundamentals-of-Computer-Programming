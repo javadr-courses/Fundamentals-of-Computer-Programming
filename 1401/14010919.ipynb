{
 "cells": [
  {
   "cell_type": "markdown",
   "id": "251497c3",
   "metadata": {},
   "source": [
    "# Introduction to Progamming Languages with Python \n",
    "### University of Qom\n",
    "##### Sat. 1401/09/19"
   ]
  },
  {
   "cell_type": "markdown",
   "id": "b98a74b8",
   "metadata": {},
   "source": [
    "# Chapter 11 : Dictionaries"
   ]
  },
  {
   "cell_type": "code",
   "execution_count": 2,
   "id": "c8e0fc4e",
   "metadata": {},
   "outputs": [
    {
     "data": {
      "text/plain": [
       "{}"
      ]
     },
     "execution_count": 2,
     "metadata": {},
     "output_type": "execute_result"
    }
   ],
   "source": [
    "mydict = dict()\n",
    "\n",
    "mydict"
   ]
  },
  {
   "cell_type": "code",
   "execution_count": 3,
   "id": "b64d13a0",
   "metadata": {},
   "outputs": [
    {
     "data": {
      "text/plain": [
       "{}"
      ]
     },
     "execution_count": 3,
     "metadata": {},
     "output_type": "execute_result"
    }
   ],
   "source": [
    "mydict = {}\n",
    "\n",
    "mydict"
   ]
  },
  {
   "cell_type": "code",
   "execution_count": 4,
   "id": "b6efd126",
   "metadata": {},
   "outputs": [
    {
     "data": {
      "text/plain": [
       "{'name': 'ali', 'family': 'alavi', 'age': 19, 12: 754}"
      ]
     },
     "execution_count": 4,
     "metadata": {},
     "output_type": "execute_result"
    }
   ],
   "source": [
    "mydict = {}\n",
    "\n",
    "mydict['name'] = 'ali'\n",
    "mydict['family'] = 'alavi'\n",
    "mydict['age'] = 19\n",
    "mydict[12] = 754\n",
    "\n",
    "mydict"
   ]
  },
  {
   "cell_type": "code",
   "execution_count": 5,
   "id": "a3440684",
   "metadata": {},
   "outputs": [
    {
     "ename": "TypeError",
     "evalue": "unhashable type: 'list'",
     "output_type": "error",
     "traceback": [
      "\u001b[0;31m---------------------------------------------------------------------------\u001b[0m",
      "\u001b[0;31mTypeError\u001b[0m                                 Traceback (most recent call last)",
      "Input \u001b[0;32mIn [5]\u001b[0m, in \u001b[0;36m<cell line: 1>\u001b[0;34m()\u001b[0m\n\u001b[0;32m----> 1\u001b[0m mydict[[\u001b[38;5;241m1\u001b[39m,\u001b[38;5;241m2\u001b[39m]] \u001b[38;5;241m=\u001b[39m \u001b[38;5;124m'\u001b[39m\u001b[38;5;124myes\u001b[39m\u001b[38;5;124m'\u001b[39m\n",
      "\u001b[0;31mTypeError\u001b[0m: unhashable type: 'list'"
     ]
    }
   ],
   "source": [
    "mydict[[1,2]] = 'yes'"
   ]
  },
  {
   "cell_type": "code",
   "execution_count": 7,
   "id": "1565d5db",
   "metadata": {},
   "outputs": [
    {
     "data": {
      "text/plain": [
       "{'name': 'ali', 'family': 'alavi', 'age': 19, 12: 754, 12.2: 'hi'}"
      ]
     },
     "execution_count": 7,
     "metadata": {},
     "output_type": "execute_result"
    }
   ],
   "source": [
    "mydict[12.2] = 'hi'\n",
    "mydict"
   ]
  },
  {
   "cell_type": "code",
   "execution_count": 9,
   "id": "3c5b3b21",
   "metadata": {},
   "outputs": [
    {
     "data": {
      "text/plain": [
       "{1: 12.2, 'name': 'ali', 'age': 12}"
      ]
     },
     "execution_count": 9,
     "metadata": {},
     "output_type": "execute_result"
    }
   ],
   "source": [
    "mydict = {1:12.2, 'name':'ali', 'age':12}\n",
    "mydict"
   ]
  },
  {
   "cell_type": "code",
   "execution_count": 10,
   "id": "3e02f8d9",
   "metadata": {},
   "outputs": [
    {
     "ename": "KeyError",
     "evalue": "12421.0",
     "output_type": "error",
     "traceback": [
      "\u001b[0;31m---------------------------------------------------------------------------\u001b[0m",
      "\u001b[0;31mKeyError\u001b[0m                                  Traceback (most recent call last)",
      "Input \u001b[0;32mIn [10]\u001b[0m, in \u001b[0;36m<cell line: 1>\u001b[0;34m()\u001b[0m\n\u001b[0;32m----> 1\u001b[0m \u001b[43mmydict\u001b[49m\u001b[43m[\u001b[49m\u001b[38;5;241;43m12421.0\u001b[39;49m\u001b[43m]\u001b[49m\n",
      "\u001b[0;31mKeyError\u001b[0m: 12421.0"
     ]
    }
   ],
   "source": [
    "mydict[12421.0]"
   ]
  },
  {
   "cell_type": "code",
   "execution_count": 15,
   "id": "3f99966b",
   "metadata": {},
   "outputs": [
    {
     "name": "stdout",
     "output_type": "stream",
     "text": [
      "{1: 12.2, 'name': 'ali', 'age': 12}\n",
      "False\n",
      "True\n"
     ]
    }
   ],
   "source": [
    "print(mydict, 'ali' in mydict, 1 in mydict, sep='\\n')"
   ]
  },
  {
   "cell_type": "code",
   "execution_count": 16,
   "id": "e6a76790",
   "metadata": {},
   "outputs": [
    {
     "data": {
      "text/plain": [
       "dict_keys([1, 'name', 'age'])"
      ]
     },
     "execution_count": 16,
     "metadata": {},
     "output_type": "execute_result"
    }
   ],
   "source": [
    "mydict.keys()"
   ]
  },
  {
   "cell_type": "code",
   "execution_count": 17,
   "id": "d946c9ec",
   "metadata": {},
   "outputs": [
    {
     "data": {
      "text/plain": [
       "dict_values([12.2, 'ali', 12])"
      ]
     },
     "execution_count": 17,
     "metadata": {},
     "output_type": "execute_result"
    }
   ],
   "source": [
    "mydict.values()"
   ]
  },
  {
   "cell_type": "code",
   "execution_count": 19,
   "id": "edef5503",
   "metadata": {},
   "outputs": [
    {
     "data": {
      "text/plain": [
       "[(1, 12.2), ('name', 'ali'), ('age', 12)]"
      ]
     },
     "execution_count": 19,
     "metadata": {},
     "output_type": "execute_result"
    }
   ],
   "source": [
    "list(mydict.items())"
   ]
  },
  {
   "cell_type": "code",
   "execution_count": 22,
   "id": "f64724a3",
   "metadata": {},
   "outputs": [
    {
     "data": {
      "text/plain": [
       "{'h': 1,\n",
       " 'e': 1,\n",
       " 'l': 3,\n",
       " 'o': 2,\n",
       " ' ': 1,\n",
       " 'w': 1,\n",
       " 'r': 1,\n",
       " 'd': 1,\n",
       " 's': 1,\n",
       " '!': 1}"
      ]
     },
     "execution_count": 22,
     "metadata": {},
     "output_type": "execute_result"
    }
   ],
   "source": [
    "def hist_sent(s):\n",
    "    d = dict()\n",
    "    \n",
    "    for char in s:\n",
    "        if char not in d:\n",
    "            d[char] = 1\n",
    "        else:\n",
    "            d[char] += 1\n",
    "#         print(d)\n",
    "    return d\n",
    "\n",
    "hist_sent('hello worlds!')\n",
    "            "
   ]
  },
  {
   "cell_type": "code",
   "execution_count": 23,
   "id": "fabacbe6",
   "metadata": {},
   "outputs": [
    {
     "data": {
      "text/plain": [
       "{'h': 1,\n",
       " 'e': 1,\n",
       " 'l': 3,\n",
       " 'o': 2,\n",
       " ' ': 1,\n",
       " 'w': 1,\n",
       " 'r': 1,\n",
       " 'd': 1,\n",
       " 's': 1,\n",
       " '!': 1}"
      ]
     },
     "execution_count": 23,
     "metadata": {},
     "output_type": "execute_result"
    }
   ],
   "source": [
    "def hist_sent(s):\n",
    "    d = dict()\n",
    "    \n",
    "    for char in s:\n",
    "        d[char] = d.get(char, 0) + 1\n",
    "    return d\n",
    "\n",
    "hist_sent('hello worlds!')"
   ]
  },
  {
   "cell_type": "code",
   "execution_count": 28,
   "id": "2b9ab17e",
   "metadata": {},
   "outputs": [],
   "source": [
    "fin = open('words.txt')\n",
    "data = fin.read()\n",
    "# print(data)\n",
    "fin.close()"
   ]
  },
  {
   "cell_type": "code",
   "execution_count": 29,
   "id": "bcc77436",
   "metadata": {},
   "outputs": [
    {
     "name": "stdout",
     "output_type": "stream",
     "text": [
      "{'a': 68574, '\\n': 113783, 'h': 20186, 'e': 106752, 'd': 34548, 'i': 77392, 'n': 60505, 'g': 27832, 's': 86526, 'l': 47003, 'r': 64963, 'v': 9186, 'k': 9366, 'w': 8533, 'o': 54538, 'f': 12706, 'b': 17794, 'c': 34281, 'u': 31151, 't': 57029, 'm': 24739, 'p': 25789, 'y': 13473, 'x': 2700, 'j': 1780, 'z': 3750, 'q': 1632}\n"
     ]
    }
   ],
   "source": [
    "fin = open('words.txt')\n",
    "data = fin.read()\n",
    "fin.close()\n",
    "\n",
    "alph_dict = {}\n",
    "for char in data:\n",
    "    alph_dict[char] = alph_dict.get(char, 0)+1\n",
    "print(alph_dict)"
   ]
  },
  {
   "cell_type": "code",
   "execution_count": 37,
   "id": "291cf5f0",
   "metadata": {},
   "outputs": [
    {
     "data": {
      "text/plain": [
       "[['a', 7.5963080795101074],\n",
       " ['b', 1.971136377735043],\n",
       " ['c', 3.7974893877225475],\n",
       " ['d', 3.827066403169061],\n",
       " ['e', 11.825488962345247],\n",
       " ['f', 1.4075114541700269],\n",
       " ['g', 3.0830992281174394],\n",
       " ['h', 2.2361109880274013],\n",
       " ['i', 8.5731250166163],\n",
       " ['j', 0.19718010297675492],\n",
       " ['k', 1.0375218227417338],\n",
       " ['l', 5.20677324731259],\n",
       " ['m', 2.74047110536064],\n",
       " ['n', 6.702461871128403],\n",
       " ['o', 6.041465424801269],\n",
       " ['p', 2.8567852110491754],\n",
       " ['q', 0.180785352841609],\n",
       " ['r', 7.196298331280297],\n",
       " ['s', 9.584946960767805],\n",
       " ['t', 6.317406793629974],\n",
       " ['u', 3.4507625774319615],\n",
       " ['v', 1.0175822617665566],\n",
       " ['w', 0.9452459655621627],\n",
       " ['x', 0.2990934146276619],\n",
       " ['y', 1.4924761389920331],\n",
       " ['z', 0.4154075203161971]]"
      ]
     },
     "execution_count": 37,
     "metadata": {},
     "output_type": "execute_result"
    }
   ],
   "source": [
    "total = sum(alph_dict.values()) - alph_dict['\\n']\n",
    "freq = []\n",
    "for key in alph_dict:\n",
    "    if key=='\\n': continue\n",
    "#     print(key, \"{:.2f}%\".format(alph_dict[key]/total * 100))\n",
    "    freq.append([key, alph_dict[key]/total * 100])\n",
    "sorted(freq)"
   ]
  },
  {
   "cell_type": "code",
   "execution_count": 46,
   "id": "a51020a9",
   "metadata": {},
   "outputs": [
    {
     "data": {
      "text/plain": [
       "[['e', 11.83],\n",
       " ['s', 9.58],\n",
       " ['i', 8.57],\n",
       " ['a', 7.6],\n",
       " ['r', 7.2],\n",
       " ['n', 6.7],\n",
       " ['t', 6.32],\n",
       " ['o', 6.04],\n",
       " ['l', 5.21],\n",
       " ['d', 3.83],\n",
       " ['c', 3.8],\n",
       " ['u', 3.45],\n",
       " ['g', 3.08],\n",
       " ['p', 2.86],\n",
       " ['m', 2.74],\n",
       " ['h', 2.24],\n",
       " ['b', 1.97],\n",
       " ['y', 1.49],\n",
       " ['f', 1.41],\n",
       " ['k', 1.04],\n",
       " ['v', 1.02],\n",
       " ['w', 0.95],\n",
       " ['z', 0.42],\n",
       " ['x', 0.3],\n",
       " ['j', 0.2],\n",
       " ['q', 0.18]]"
      ]
     },
     "execution_count": 46,
     "metadata": {},
     "output_type": "execute_result"
    }
   ],
   "source": [
    "total = sum(alph_dict.values()) - alph_dict['\\n']\n",
    "freq = []\n",
    "for key in alph_dict:\n",
    "    if key=='\\n': continue\n",
    "#     print(key, \"{:.2f}%\".format(alph_dict[key]/total * 100))\n",
    "    freq.append([key, round(alph_dict[key]/total * 100, 2)][::-1])\n",
    "newl = []\n",
    "for item in sorted(freq, reverse=True):\n",
    "    newl.append([item[1], item[0]])\n",
    "    \n",
    "newl"
   ]
  },
  {
   "cell_type": "code",
   "execution_count": 48,
   "id": "adf68f4a",
   "metadata": {},
   "outputs": [
    {
     "data": {
      "text/plain": [
       "{'name': 'ali', 'age': 12}"
      ]
     },
     "execution_count": 48,
     "metadata": {},
     "output_type": "execute_result"
    }
   ],
   "source": [
    "mydict = {1: 12.2, 'name': 'ali', 'age': 12}\n",
    "del mydict[1]\n",
    "mydict"
   ]
  },
  {
   "cell_type": "code",
   "execution_count": 50,
   "id": "e75fd306",
   "metadata": {},
   "outputs": [
    {
     "name": "stdout",
     "output_type": "stream",
     "text": [
      "{'name': 'ali', 'age': 12}\n",
      "12.2\n"
     ]
    }
   ],
   "source": [
    "mydict = {1: 12.2, 'name': 'ali', 'age': 12}\n",
    "value = mydict.pop(1)\n",
    "print(mydict, value, sep='\\n')"
   ]
  },
  {
   "cell_type": "code",
   "execution_count": 51,
   "id": "c3e17b19",
   "metadata": {},
   "outputs": [
    {
     "data": {
      "text/plain": [
       "{}"
      ]
     },
     "execution_count": 51,
     "metadata": {},
     "output_type": "execute_result"
    }
   ],
   "source": [
    "mydict = {1: 12.2, 'name': 'ali', 'age': 12}\n",
    "mydict.clear()\n",
    "mydict"
   ]
  },
  {
   "cell_type": "code",
   "execution_count": 52,
   "id": "0e9b0b71",
   "metadata": {},
   "outputs": [
    {
     "data": {
      "text/plain": [
       "{1: 14, 'name': 'ali', 'age': 12}"
      ]
     },
     "execution_count": 52,
     "metadata": {},
     "output_type": "execute_result"
    }
   ],
   "source": [
    "a = {1: 12.2, 'name': 'ali', 'age': 12}\n",
    "b = a\n",
    "b[1] = 14\n",
    "a"
   ]
  },
  {
   "cell_type": "code",
   "execution_count": 55,
   "id": "5e397971",
   "metadata": {},
   "outputs": [
    {
     "name": "stdout",
     "output_type": "stream",
     "text": [
      "{1: 12.2, 'name': 'ali', 'age': 12}\n",
      "{1: 14, 'name': 'ali', 'age': 12}\n"
     ]
    }
   ],
   "source": [
    "a = {1: 12.2, 'name': 'ali', 'age': 12}\n",
    "b = a.copy()\n",
    "b[1] = 14\n",
    "print(a, b, sep='\\n')"
   ]
  },
  {
   "cell_type": "code",
   "execution_count": 60,
   "id": "1b668a10",
   "metadata": {},
   "outputs": [
    {
     "name": "stdout",
     "output_type": "stream",
     "text": [
      "CPU times: user 221 ms, sys: 3.26 ms, total: 224 ms\n",
      "Wall time: 222 ms\n"
     ]
    },
    {
     "data": {
      "text/plain": [
       "1346269"
      ]
     },
     "execution_count": 60,
     "metadata": {},
     "output_type": "execute_result"
    }
   ],
   "source": [
    "%%time\n",
    "\n",
    "def fib(n):\n",
    "    if n<= 1:\n",
    "        return 1\n",
    "    return fib(n-1)+fib(n-2)\n",
    "\n",
    "fib(30)"
   ]
  },
  {
   "cell_type": "code",
   "execution_count": 60,
   "id": "43913b26",
   "metadata": {},
   "outputs": [
    {
     "name": "stdout",
     "output_type": "stream",
     "text": [
      "CPU times: user 221 ms, sys: 3.26 ms, total: 224 ms\n",
      "Wall time: 222 ms\n"
     ]
    },
    {
     "data": {
      "text/plain": [
       "1346269"
      ]
     },
     "execution_count": 60,
     "metadata": {},
     "output_type": "execute_result"
    }
   ],
   "source": [
    "%%time\n",
    "\n",
    "def fib(n):\n",
    "    if n<= 1:\n",
    "        return 1\n",
    "    return fib(n-1)+fib(n-2)\n",
    "\n",
    "fib(30)"
   ]
  },
  {
   "cell_type": "code",
   "execution_count": 65,
   "id": "5301e773",
   "metadata": {},
   "outputs": [
    {
     "name": "stdout",
     "output_type": "stream",
     "text": [
      "CPU times: user 211 µs, sys: 0 ns, total: 211 µs\n",
      "Wall time: 213 µs\n"
     ]
    },
    {
     "data": {
      "text/plain": [
       "664390460366960072280217847866028384244163512452783259405579765542621214161219257396449810982999820391132226802809465132446349331994409434926019045342723749188530316994678473551320635101099619382973181622585687336939784373527897555489486841726131733814340129175622450421605101025897173235990662770203756438786517530547101123748849140252686120104032647025145598956675902135010566909783124959436469825558314289701354227151784602865710780624675107056569822820542846660321813838896275819753281371491809004412219124856375121694811728724213667814577326618521478357661859018967313354840178403197559969056510791709859144173304364898001"
      ]
     },
     "execution_count": 65,
     "metadata": {},
     "output_type": "execute_result"
    }
   ],
   "source": [
    "%%time\n",
    "\n",
    "def fib(n):\n",
    "    f0 = 1\n",
    "    f1 = 1\n",
    "    for i in range(n-1):\n",
    "        f2 = f1 + f0\n",
    "        f0 = f1\n",
    "        f1 = f2\n",
    "    return f2\n",
    "\n",
    "fib(3000)"
   ]
  },
  {
   "cell_type": "code",
   "execution_count": 67,
   "id": "b2a1ac89",
   "metadata": {},
   "outputs": [
    {
     "name": "stdout",
     "output_type": "stream",
     "text": [
      " fib(5)+fib(4)\n",
      "   fib(4)+fib(3)\n",
      "     fib(3)+fib(2)\n",
      "       fib(2)+fib(1)\n",
      "         fib(1)+fib(0)\n",
      "       fib(1)+fib(0)\n",
      "     fib(2)+fib(1)\n",
      "       fib(1)+fib(0)\n",
      "   fib(3)+fib(2)\n",
      "     fib(2)+fib(1)\n",
      "       fib(1)+fib(0)\n",
      "     fib(1)+fib(0)\n"
     ]
    },
    {
     "data": {
      "text/plain": [
       "13"
      ]
     },
     "execution_count": 67,
     "metadata": {},
     "output_type": "execute_result"
    }
   ],
   "source": [
    "def fib(n, depth=0):\n",
    "    if n<= 1:\n",
    "        return 1\n",
    "    print('  '*depth, 'fib({})+fib({})'.format(n-1, n-2))\n",
    "    return fib(n-1, depth+1)+fib(n-2, depth+1)\n",
    "\n",
    "fib(6)"
   ]
  },
  {
   "cell_type": "code",
   "execution_count": 75,
   "id": "4e00fe7b",
   "metadata": {},
   "outputs": [
    {
     "name": "stdout",
     "output_type": "stream",
     "text": [
      "CPU times: user 1.33 ms, sys: 0 ns, total: 1.33 ms\n",
      "Wall time: 1.35 ms\n"
     ]
    },
    {
     "data": {
      "text/plain": [
       "43466557686937456435688527675040625802564660517371780402481729089536555417949051890403879840079255169295922593080322634775209689623239873322471161642996440906533187938298969649928516003704476137795166849228875"
      ]
     },
     "execution_count": 75,
     "metadata": {},
     "output_type": "execute_result"
    }
   ],
   "source": [
    "%%time\n",
    "\n",
    "# Memorization \n",
    "\n",
    "fib_dict = {1:1, 2:1}\n",
    "\n",
    "def fib_RM(n):\n",
    "    if n in fib_dict:\n",
    "        return fib_dict[n]\n",
    "    fib_dict[n] = fib_RM(n-1) + fib_RM(n-2)\n",
    "    return fib_dict[n]\n",
    "\n",
    "fib_RM(1000)"
   ]
  },
  {
   "cell_type": "code",
   "execution_count": 77,
   "id": "0efb64c7",
   "metadata": {},
   "outputs": [
    {
     "data": {
      "text/plain": [
       "0"
      ]
     },
     "execution_count": 77,
     "metadata": {},
     "output_type": "execute_result"
    }
   ],
   "source": [
    "a = 0\n",
    "\n",
    "def test():\n",
    "    a = 1 # local variable\n",
    "    \n",
    "test()\n",
    "a"
   ]
  },
  {
   "cell_type": "code",
   "execution_count": 79,
   "id": "6925a9e8",
   "metadata": {},
   "outputs": [
    {
     "data": {
      "text/plain": [
       "1"
      ]
     },
     "execution_count": 79,
     "metadata": {},
     "output_type": "execute_result"
    }
   ],
   "source": [
    "a = 0\n",
    "\n",
    "def test():\n",
    "    global a # global variable\n",
    "    a = 1\n",
    "    \n",
    "test()\n",
    "a"
   ]
  },
  {
   "cell_type": "code",
   "execution_count": 80,
   "id": "88fa3f21",
   "metadata": {},
   "outputs": [
    {
     "data": {
      "text/plain": [
       "[1, 2, 3]"
      ]
     },
     "execution_count": 80,
     "metadata": {},
     "output_type": "execute_result"
    }
   ],
   "source": [
    "a = [1,2]\n",
    "\n",
    "def test():\n",
    "    a.append(3)\n",
    "    \n",
    "test()\n",
    "a"
   ]
  },
  {
   "cell_type": "code",
   "execution_count": 81,
   "id": "e320d342",
   "metadata": {},
   "outputs": [
    {
     "name": "stdout",
     "output_type": "stream",
     "text": [
      "CPU times: user 9.45 ms, sys: 6.48 ms, total: 15.9 ms\n",
      "Wall time: 14.8 ms\n"
     ]
    },
    {
     "data": {
      "text/plain": [
       "6765"
      ]
     },
     "execution_count": 81,
     "metadata": {},
     "output_type": "execute_result"
    }
   ],
   "source": [
    "%%time\n",
    "\n",
    "# Memorization \n",
    "\n",
    "def fib_RM(n):\n",
    "    fib_dict = {1:1, 2:1} #local dict, which will be reset in every call\n",
    "    if n in fib_dict:\n",
    "        return fib_dict[n]\n",
    "    fib_dict[n] = fib_RM(n-1) + fib_RM(n-2)\n",
    "    return fib_dict[n]\n",
    "\n",
    "fib_RM(20)"
   ]
  },
  {
   "cell_type": "code",
   "execution_count": 86,
   "id": "ee2569c3",
   "metadata": {},
   "outputs": [
    {
     "name": "stdout",
     "output_type": "stream",
     "text": [
      "43.2 ns ± 0.914 ns per loop (mean ± std. dev. of 7 runs, 10,000,000 loops each)\n"
     ]
    }
   ],
   "source": [
    "from math import sqrt\n",
    "\n",
    "%timeit sqrt(100)"
   ]
  },
  {
   "cell_type": "code",
   "execution_count": 84,
   "id": "d835c802",
   "metadata": {},
   "outputs": [
    {
     "name": "stdout",
     "output_type": "stream",
     "text": [
      "5.67 ns ± 0.0643 ns per loop (mean ± std. dev. of 7 runs, 100,000,000 loops each)\n"
     ]
    }
   ],
   "source": [
    "%timeit 100*100"
   ]
  },
  {
   "cell_type": "code",
   "execution_count": 85,
   "id": "ba234f4c",
   "metadata": {},
   "outputs": [
    {
     "name": "stdout",
     "output_type": "stream",
     "text": [
      "5.8 ns ± 0.103 ns per loop (mean ± std. dev. of 7 runs, 100,000,000 loops each)\n"
     ]
    }
   ],
   "source": [
    "%timeit 100**.5"
   ]
  },
  {
   "cell_type": "markdown",
   "id": "025defdd",
   "metadata": {},
   "source": [
    "### Excercises "
   ]
  },
  {
   "cell_type": "code",
   "execution_count": 91,
   "id": "87721297",
   "metadata": {},
   "outputs": [
    {
     "name": "stdout",
     "output_type": "stream",
     "text": [
      "a l i \n",
      "j a v \n",
      "h o s \n",
      "m o h \n"
     ]
    }
   ],
   "source": [
    "l = ['ali', 'jav', 'hos', 'moh']\n",
    "\n",
    "for i in l:\n",
    "    for j in range(3):\n",
    "        print(i[j], end=' ')\n",
    "    print()"
   ]
  },
  {
   "cell_type": "code",
   "execution_count": 92,
   "id": "b9a35639",
   "metadata": {},
   "outputs": [
    {
     "name": "stdout",
     "output_type": "stream",
     "text": [
      "a j h m \n",
      "l a o o \n",
      "i v s h \n"
     ]
    }
   ],
   "source": [
    "l = ['ali', 'jav', 'hos', 'moh']\n",
    "\n",
    "for i in range(3):\n",
    "    for j in l:\n",
    "        print(j[i], end=' ')\n",
    "    print()"
   ]
  }
 ],
 "metadata": {
  "kernelspec": {
   "display_name": ".venv",
   "language": "python",
   "name": ".venv"
  },
  "language_info": {
   "codemirror_mode": {
    "name": "ipython",
    "version": 3
   },
   "file_extension": ".py",
   "mimetype": "text/x-python",
   "name": "python",
   "nbconvert_exporter": "python",
   "pygments_lexer": "ipython3",
   "version": "3.10.8"
  }
 },
 "nbformat": 4,
 "nbformat_minor": 5
}
