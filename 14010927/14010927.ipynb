{
 "cells": [
  {
   "cell_type": "markdown",
   "id": "251497c3",
   "metadata": {},
   "source": [
    "# Introduction to Progamming Languages with Python \n",
    "### University of Qom\n",
    "##### Sun. 1401/09/27"
   ]
  },
  {
   "cell_type": "markdown",
   "id": "b98a74b8",
   "metadata": {},
   "source": [
    "# Quiz: Compute lcd and gcd of two numbers"
   ]
  },
  {
   "cell_type": "code",
   "execution_count": 7,
   "id": "d07674f6",
   "metadata": {},
   "outputs": [
    {
     "name": "stdout",
     "output_type": "stream",
     "text": [
      "[1, 2, 3, 4, 6, 8, 9, 12, 18, 24, 36, 72] [1, 2, 7, 14] [1, 2]\n",
      "2 504\n"
     ]
    }
   ],
   "source": [
    "m, n = 72, 14\n",
    "\n",
    "def get_divisors(n):\n",
    "    l = []\n",
    "    for i in range(1, n+1):\n",
    "        if n%i==0:\n",
    "            l.append(i)\n",
    "    return l\n",
    "\n",
    "lm = get_divisors(m)\n",
    "ln = get_divisors(n)\n",
    "\n",
    "c = []\n",
    "for i in lm:\n",
    "    for j in ln:\n",
    "        if i==j:\n",
    "            c.append(i)\n",
    "        \n",
    "print(lm, ln, c)\n",
    "gcd = max(c) # c[-1]\n",
    "lcd = m*n//gcd\n",
    "\n",
    "print(gcd, lcd)"
   ]
  },
  {
   "cell_type": "code",
   "execution_count": 8,
   "id": "10e6c671",
   "metadata": {},
   "outputs": [
    {
     "name": "stdout",
     "output_type": "stream",
     "text": [
      "[1, 2, 3, 4, 6, 8, 9, 12, 18, 24, 36, 72] [1, 2, 7, 14] [1, 2]\n",
      "2 504\n"
     ]
    }
   ],
   "source": [
    "m, n = 72, 14\n",
    "\n",
    "def get_divisors(n):\n",
    "    l = []\n",
    "    for i in range(1, n+1):\n",
    "        if n%i==0:\n",
    "            l.append(i)\n",
    "    return l\n",
    "\n",
    "lm = get_divisors(m)\n",
    "ln = get_divisors(n)\n",
    "\n",
    "c = []\n",
    "for i in lm:\n",
    "    if i in ln:\n",
    "        c.append(i)\n",
    "        \n",
    "print(lm, ln, c)\n",
    "gcd = max(c) # c[-1]\n",
    "lcd = m*n//gcd\n",
    "\n",
    "print(gcd, lcd)"
   ]
  },
  {
   "cell_type": "code",
   "execution_count": 9,
   "id": "8778a787",
   "metadata": {},
   "outputs": [
    {
     "name": "stdout",
     "output_type": "stream",
     "text": [
      "[1, 2, 3, 4, 6, 8, 9, 12, 18, 24, 36, 72] [1, 2, 7, 14] [1, 2]\n",
      "2 504\n"
     ]
    }
   ],
   "source": [
    "m, n = 72, 14\n",
    "\n",
    "def get_divisors(n):\n",
    "    l = []\n",
    "    for i in range(1, int(n//2)+1):\n",
    "        if n%i==0:\n",
    "            l.append(i)\n",
    "    return l+[n]\n",
    "\n",
    "lm = get_divisors(m)\n",
    "ln = get_divisors(n)\n",
    "\n",
    "c = []\n",
    "for i in lm:\n",
    "    if i in ln:\n",
    "        c.append(i)\n",
    "        \n",
    "print(lm, ln, c)\n",
    "gcd = max(c) # c[-1]\n",
    "lcd = m*n//gcd\n",
    "\n",
    "print(gcd, lcd)"
   ]
  },
  {
   "cell_type": "code",
   "execution_count": 18,
   "id": "06fe49b2",
   "metadata": {},
   "outputs": [
    {
     "data": {
      "text/plain": [
       "2"
      ]
     },
     "execution_count": 18,
     "metadata": {},
     "output_type": "execute_result"
    }
   ],
   "source": [
    "# Euclidean Algorithm\n",
    "m,n=72, 14\n",
    "\n",
    "def gcd(m,n):\n",
    "    while n!=0:\n",
    "        m,n = n, m%n\n",
    "    return m\n",
    "\n",
    "gcd(14, 72)"
   ]
  },
  {
   "cell_type": "code",
   "execution_count": 19,
   "id": "fb90f960",
   "metadata": {},
   "outputs": [
    {
     "data": {
      "text/plain": [
       "2"
      ]
     },
     "execution_count": 19,
     "metadata": {},
     "output_type": "execute_result"
    }
   ],
   "source": [
    "def gcd(m,n):\n",
    "    if n==0:\n",
    "        return m\n",
    "    return gcd(n, m%n)\n",
    "\n",
    "gcd(72, 14)"
   ]
  },
  {
   "cell_type": "code",
   "execution_count": 21,
   "id": "910ece57",
   "metadata": {},
   "outputs": [
    {
     "data": {
      "text/plain": [
       "[0, 1, 3, 2, 0, 0, 0, 0, 0, 0, 0, 0]"
      ]
     },
     "execution_count": 21,
     "metadata": {},
     "output_type": "execute_result"
    }
   ],
   "source": [
    "m = 72\n",
    "l = [0,1]+[0] * 10\n",
    "i = 2\n",
    "while m!=1:\n",
    "    if m%i==0:\n",
    "        l[i] += 1\n",
    "        m //= i\n",
    "    else:\n",
    "        i += 1\n",
    "\n",
    "l"
   ]
  },
  {
   "cell_type": "code",
   "execution_count": 22,
   "id": "a5afcbd7",
   "metadata": {},
   "outputs": [
    {
     "data": {
      "text/plain": [
       "{2: 3, 3: 2}"
      ]
     },
     "execution_count": 22,
     "metadata": {},
     "output_type": "execute_result"
    }
   ],
   "source": [
    "m = 72\n",
    "d = {}\n",
    "i = 2\n",
    "while m!=1:\n",
    "    if m%i==0:\n",
    "        d[i] = d.get(i, 0)+1\n",
    "        m //= i\n",
    "    else:\n",
    "        i += 1\n",
    "\n",
    "d"
   ]
  },
  {
   "cell_type": "code",
   "execution_count": 29,
   "id": "deaa8c55",
   "metadata": {},
   "outputs": [
    {
     "data": {
      "text/plain": [
       "2"
      ]
     },
     "execution_count": 29,
     "metadata": {},
     "output_type": "execute_result"
    }
   ],
   "source": [
    "m, n = 72, 14\n",
    "def get_prime_factors(m):\n",
    "    d = {}\n",
    "    i = 2\n",
    "    while m!=1:\n",
    "        if m%i==0:\n",
    "            d[i] = d.get(i, 0)+1\n",
    "            m //= i\n",
    "        else:\n",
    "            i += 1\n",
    "    return d\n",
    "\n",
    "def gcd(m,n):\n",
    "    dm, dn = map(get_prime_factors, (m,n))\n",
    "\n",
    "    gcd = 1\n",
    "    for key in dm:\n",
    "        if key in dn:\n",
    "             gcd *= key**(min(dm[key], dn[key]))\n",
    "\n",
    "    return gcd\n",
    "\n",
    "gcd(m,n)"
   ]
  },
  {
   "cell_type": "code",
   "execution_count": 42,
   "id": "cc58331a",
   "metadata": {},
   "outputs": [
    {
     "name": "stdout",
     "output_type": "stream",
     "text": [
      "CPU times: user 1.16 s, sys: 0 ns, total: 1.16 s\n",
      "Wall time: 1.16 s\n"
     ]
    }
   ],
   "source": [
    "%%time \n",
    "def get_divisors(n):\n",
    "    l = []\n",
    "    for i in range(1, int(n//2)+1):\n",
    "        if n%i==0:\n",
    "            l.append(i)\n",
    "    return l+[n]\n",
    "\n",
    "def is_prime(n):\n",
    "    l = get_divisors(n)\n",
    "    return len(l)==2\n",
    "        \n",
    "# for i in range(1000):\n",
    "#     if is_prime(i):\n",
    "#         print(i, end=', ')\n",
    "l = []\n",
    "for i in range(10000):\n",
    "    if is_prime(i):\n",
    "        l.append(i)"
   ]
  },
  {
   "cell_type": "code",
   "execution_count": 40,
   "id": "9e6b01e7",
   "metadata": {},
   "outputs": [
    {
     "name": "stdout",
     "output_type": "stream",
     "text": [
      "CPU times: user 224 ms, sys: 0 ns, total: 224 ms\n",
      "Wall time: 223 ms\n"
     ]
    }
   ],
   "source": [
    "%%time \n",
    "def is_prime(n):\n",
    "    if n<2: return False\n",
    "    if n==2: return True\n",
    "    for i in range(3, n, 2):\n",
    "        if n%i==0:\n",
    "            return False\n",
    "    return True\n",
    "        \n",
    "l = []\n",
    "for i in range(10000):\n",
    "    if is_prime(i):\n",
    "        l.append(i)\n"
   ]
  },
  {
   "cell_type": "markdown",
   "id": "a7a0392e",
   "metadata": {},
   "source": [
    "## Finding prime numbers "
   ]
  },
  {
   "cell_type": "code",
   "execution_count": 96,
   "id": "9714811d",
   "metadata": {},
   "outputs": [
    {
     "name": "stdout",
     "output_type": "stream",
     "text": [
      "CPU times: user 9.75 s, sys: 0 ns, total: 9.75 s\n",
      "Wall time: 9.76 s\n"
     ]
    }
   ],
   "source": [
    "%%time \n",
    "def is_prime(n):\n",
    "    if n<2: return False\n",
    "    if n==2: return True\n",
    "    for i in range(3, int(n//2)+1, 2):\n",
    "        if n%i==0:\n",
    "            return False\n",
    "    return True\n",
    "        \n",
    "l = []\n",
    "for i in range(100000):\n",
    "    if is_prime(i):\n",
    "        l.append(i)"
   ]
  },
  {
   "cell_type": "code",
   "execution_count": 91,
   "id": "093d2a29",
   "metadata": {},
   "outputs": [
    {
     "name": "stdout",
     "output_type": "stream",
     "text": [
      "CPU times: user 3.35 s, sys: 30 µs, total: 3.35 s\n",
      "Wall time: 3.35 s\n"
     ]
    }
   ],
   "source": [
    "%%time \n",
    "def is_prime(n):\n",
    "    if n<2: return False\n",
    "    if n==2: return True\n",
    "    for i in range(3, int(n**.5)+1, 2):\n",
    "        if n%i==0:\n",
    "            return False\n",
    "    return True\n",
    "        \n",
    "l = []\n",
    "for i in range(1000000):\n",
    "    if is_prime(i):\n",
    "        l.append(i)"
   ]
  },
  {
   "cell_type": "code",
   "execution_count": 51,
   "id": "2ce6d706",
   "metadata": {},
   "outputs": [
    {
     "name": "stdout",
     "output_type": "stream",
     "text": [
      "0 ali\n",
      "1 hassan\n",
      "2 hosein\n",
      "(0, 'ali')\n",
      "(1, 'hassan')\n",
      "(2, 'hosein')\n"
     ]
    }
   ],
   "source": [
    "l  = ['ali' ,'hassan', 'hosein']\n",
    "for i, name in enumerate(l):\n",
    "    print(i, name)\n",
    "    \n",
    "for i in enumerate(l):\n",
    "    print(i)"
   ]
  },
  {
   "cell_type": "code",
   "execution_count": 90,
   "id": "f8839581",
   "metadata": {},
   "outputs": [
    {
     "name": "stdout",
     "output_type": "stream",
     "text": [
      "CPU times: user 462 ms, sys: 3.31 ms, total: 465 ms\n",
      "Wall time: 466 ms\n"
     ]
    }
   ],
   "source": [
    "%%time\n",
    "n = 1000000\n",
    "all_nums = [False,False] + [True]*(n-2) # 0,1,2,3,4,5, .... , 100\n",
    "for i in range(2, n):\n",
    "    if all_nums[i]==True:\n",
    "        for j in range(i+i, n, i):\n",
    "            all_nums[j] = False\n",
    "    \n",
    "primes = []\n",
    "for i, num in enumerate(all_nums):\n",
    "    if num==True:\n",
    "        primes.append(i)"
   ]
  },
  {
   "cell_type": "code",
   "execution_count": 89,
   "id": "219c311e",
   "metadata": {},
   "outputs": [
    {
     "name": "stdout",
     "output_type": "stream",
     "text": [
      "CPU times: user 219 ms, sys: 0 ns, total: 219 ms\n",
      "Wall time: 219 ms\n"
     ]
    }
   ],
   "source": [
    "%%time\n",
    "n = 1000000\n",
    "all_nums = [False,False] + [True]*(n-1) # 0,1,2,3,4,5, .... , 100\n",
    "for i in range(2, n):\n",
    "    if all_nums[i]==True:\n",
    "        all_nums[i+i::i] = [False]*(int((n-i)//i))\n",
    "    \n",
    "primes = []\n",
    "for i, num in enumerate(all_nums):\n",
    "    if num==True:\n",
    "        primes.append(i)"
   ]
  },
  {
   "cell_type": "code",
   "execution_count": 98,
   "id": "384e8296",
   "metadata": {},
   "outputs": [
    {
     "name": "stdout",
     "output_type": "stream",
     "text": [
      "CPU times: user 200 ms, sys: 6.65 ms, total: 206 ms\n",
      "Wall time: 206 ms\n"
     ]
    }
   ],
   "source": [
    "%%time\n",
    "n = 1000000\n",
    "all_nums = [False,False] + [True]*(n-1) # 0,1,2,3,4,5, .... , 100\n",
    "all_nums[2::2] = [False]*int(n//2)\n",
    "for i in range(3, n, 2):\n",
    "    if all_nums[i]==True:\n",
    "        all_nums[i*i::i] = [False]*(int((n-(i*i)+i)//i))\n",
    "    \n",
    "primes = []\n",
    "for i, num in enumerate(all_nums):\n",
    "    if num==True:\n",
    "        primes.append(i)"
   ]
  },
  {
   "cell_type": "code",
   "execution_count": null,
   "id": "cb25d972",
   "metadata": {},
   "outputs": [],
   "source": []
  }
 ],
 "metadata": {
  "kernelspec": {
   "display_name": ".venv",
   "language": "python",
   "name": ".venv"
  },
  "language_info": {
   "codemirror_mode": {
    "name": "ipython",
    "version": 3
   },
   "file_extension": ".py",
   "mimetype": "text/x-python",
   "name": "python",
   "nbconvert_exporter": "python",
   "pygments_lexer": "ipython3",
   "version": "3.10.8"
  }
 },
 "nbformat": 4,
 "nbformat_minor": 5
}
