{
 "cells": [
  {
   "cell_type": "markdown",
   "id": "251497c3",
   "metadata": {},
   "source": [
    "# Introduction to Progamming Languages with Python \n",
    "### University of Qom\n",
    "##### Sun. 1401/09/20"
   ]
  },
  {
   "cell_type": "markdown",
   "id": "b98a74b8",
   "metadata": {},
   "source": [
    "# Chapter 12 : Tuples"
   ]
  },
  {
   "cell_type": "code",
   "execution_count": 1,
   "id": "81089ddd",
   "metadata": {},
   "outputs": [
    {
     "data": {
      "text/plain": [
       "tuple"
      ]
     },
     "execution_count": 1,
     "metadata": {},
     "output_type": "execute_result"
    }
   ],
   "source": [
    "t = 1,2,3\n",
    "type(t)"
   ]
  },
  {
   "cell_type": "code",
   "execution_count": 2,
   "id": "365c41b7",
   "metadata": {},
   "outputs": [
    {
     "data": {
      "text/plain": [
       "tuple"
      ]
     },
     "execution_count": 2,
     "metadata": {},
     "output_type": "execute_result"
    }
   ],
   "source": [
    "t = (1,2,3)\n",
    "type(t)"
   ]
  },
  {
   "cell_type": "code",
   "execution_count": 3,
   "id": "a6664209",
   "metadata": {},
   "outputs": [
    {
     "name": "stdout",
     "output_type": "stream",
     "text": [
      "hi ali\n",
      "hi javad\n",
      "hi hosein\n"
     ]
    }
   ],
   "source": [
    "for i in 'ali', 'javad', 'hosein':\n",
    "    print(f'hi {i}')"
   ]
  },
  {
   "cell_type": "code",
   "execution_count": 15,
   "id": "e7edb952",
   "metadata": {},
   "outputs": [
    {
     "data": {
      "text/plain": [
       "'n = 12.99'"
      ]
     },
     "execution_count": 15,
     "metadata": {},
     "output_type": "execute_result"
    }
   ],
   "source": [
    "n = 12.988767\n",
    "'n = {:.2f}'.format(n)"
   ]
  },
  {
   "cell_type": "code",
   "execution_count": 13,
   "id": "b1b5e232",
   "metadata": {},
   "outputs": [
    {
     "data": {
      "text/plain": [
       "'n = 12.99'"
      ]
     },
     "execution_count": 13,
     "metadata": {},
     "output_type": "execute_result"
    }
   ],
   "source": [
    "n = 12.988767\n",
    "f'n = {n:.2f}'"
   ]
  },
  {
   "cell_type": "code",
   "execution_count": 7,
   "id": "7ba4a5a9",
   "metadata": {},
   "outputs": [
    {
     "data": {
      "text/plain": [
       "'n = { 12.99 }'"
      ]
     },
     "execution_count": 7,
     "metadata": {},
     "output_type": "execute_result"
    }
   ],
   "source": [
    "n = 12.988767\n",
    "f'n = {{ {n:.2f} }}'"
   ]
  },
  {
   "cell_type": "code",
   "execution_count": 17,
   "id": "98bb65c2",
   "metadata": {},
   "outputs": [
    {
     "data": {
      "text/plain": [
       "'n = 12.99'"
      ]
     },
     "execution_count": 17,
     "metadata": {},
     "output_type": "execute_result"
    }
   ],
   "source": [
    "n = 12.988767\n",
    "f'{n = :.2f}'"
   ]
  },
  {
   "cell_type": "code",
   "execution_count": 18,
   "id": "0dd67d4c",
   "metadata": {},
   "outputs": [
    {
     "data": {
      "text/plain": [
       "int"
      ]
     },
     "execution_count": 18,
     "metadata": {},
     "output_type": "execute_result"
    }
   ],
   "source": [
    "t = (1)\n",
    "type(t)"
   ]
  },
  {
   "cell_type": "code",
   "execution_count": 19,
   "id": "adc3b23b",
   "metadata": {},
   "outputs": [
    {
     "data": {
      "text/plain": [
       "tuple"
      ]
     },
     "execution_count": 19,
     "metadata": {},
     "output_type": "execute_result"
    }
   ],
   "source": [
    "t = (1,) # equals t = 1,\n",
    "type(t)"
   ]
  },
  {
   "cell_type": "code",
   "execution_count": 20,
   "id": "6c5106cf",
   "metadata": {},
   "outputs": [
    {
     "ename": "TypeError",
     "evalue": "'tuple' object does not support item assignment",
     "output_type": "error",
     "traceback": [
      "\u001b[0;31m---------------------------------------------------------------------------\u001b[0m",
      "\u001b[0;31mTypeError\u001b[0m                                 Traceback (most recent call last)",
      "Input \u001b[0;32mIn [20]\u001b[0m, in \u001b[0;36m<cell line: 2>\u001b[0;34m()\u001b[0m\n\u001b[1;32m      1\u001b[0m t \u001b[38;5;241m=\u001b[39m (\u001b[38;5;241m1\u001b[39m,\u001b[38;5;241m4\u001b[39m,\u001b[38;5;241m6\u001b[39m,\u001b[38;5;241m8\u001b[39m)\n\u001b[0;32m----> 2\u001b[0m t[\u001b[38;5;241m0\u001b[39m] \u001b[38;5;241m=\u001b[39m \u001b[38;5;241m12\u001b[39m\n",
      "\u001b[0;31mTypeError\u001b[0m: 'tuple' object does not support item assignment"
     ]
    }
   ],
   "source": [
    "t = (1,4,6,8)\n",
    "t[0] = 12"
   ]
  },
  {
   "cell_type": "code",
   "execution_count": 21,
   "id": "c8166c51",
   "metadata": {},
   "outputs": [
    {
     "data": {
      "text/plain": [
       "(12, 4, 6, 8)"
      ]
     },
     "execution_count": 21,
     "metadata": {},
     "output_type": "execute_result"
    }
   ],
   "source": [
    "t = (1,4,6,8)\n",
    "t = (12,) + t[1:]\n",
    "t"
   ]
  },
  {
   "cell_type": "code",
   "execution_count": 22,
   "id": "cd90214a",
   "metadata": {},
   "outputs": [
    {
     "data": {
      "text/plain": [
       "(1, 4, 12, 6, 8)"
      ]
     },
     "execution_count": 22,
     "metadata": {},
     "output_type": "execute_result"
    }
   ],
   "source": [
    "t = (1,4,6,8)\n",
    "t = t[:2] + (12,) + t[2:]\n",
    "t"
   ]
  },
  {
   "cell_type": "code",
   "execution_count": 23,
   "id": "e22b97ee",
   "metadata": {},
   "outputs": [
    {
     "name": "stdout",
     "output_type": "stream",
     "text": [
      "['h', 'e', 'l', 'l', 'o']\n",
      "('h', 'e', 'l', 'l', 'o')\n"
     ]
    }
   ],
   "source": [
    "w = 'hello'\n",
    "print(list(w), tuple(w), sep='\\n')"
   ]
  },
  {
   "cell_type": "code",
   "execution_count": 24,
   "id": "7414fa07",
   "metadata": {},
   "outputs": [
    {
     "data": {
      "text/plain": [
       "True"
      ]
     },
     "execution_count": 24,
     "metadata": {},
     "output_type": "execute_result"
    }
   ],
   "source": [
    "(1,2) < (1,5)"
   ]
  },
  {
   "cell_type": "code",
   "execution_count": 30,
   "id": "98362083",
   "metadata": {},
   "outputs": [
    {
     "data": {
      "text/plain": [
       "True"
      ]
     },
     "execution_count": 30,
     "metadata": {},
     "output_type": "execute_result"
    }
   ],
   "source": [
    "(2,5) < (2,5,3, 342,234,5,)"
   ]
  },
  {
   "cell_type": "code",
   "execution_count": 31,
   "id": "f32549cd",
   "metadata": {},
   "outputs": [
    {
     "data": {
      "text/plain": [
       "False"
      ]
     },
     "execution_count": 31,
     "metadata": {},
     "output_type": "execute_result"
    }
   ],
   "source": [
    "(2,5,2435,6,7,7,8,) < (2,5)"
   ]
  },
  {
   "cell_type": "code",
   "execution_count": 35,
   "id": "6ae19a3e",
   "metadata": {},
   "outputs": [
    {
     "data": {
      "text/plain": [
       "12586269025"
      ]
     },
     "execution_count": 35,
     "metadata": {},
     "output_type": "execute_result"
    }
   ],
   "source": [
    "def fib(n):\n",
    "    f0 = 1\n",
    "    f1 = 1\n",
    "    for i in range(n-2):\n",
    "        f2 = f1+f0\n",
    "        f0 = f1\n",
    "        f1 = f2\n",
    "    return f2\n",
    "\n",
    "fib(50)"
   ]
  },
  {
   "cell_type": "code",
   "execution_count": 36,
   "id": "d219f3f9",
   "metadata": {},
   "outputs": [
    {
     "data": {
      "text/plain": [
       "(5, 3)"
      ]
     },
     "execution_count": 36,
     "metadata": {},
     "output_type": "execute_result"
    }
   ],
   "source": [
    "# swap\n",
    "a = 3\n",
    "b = 5\n",
    "t = a\n",
    "a = b\n",
    "b = t\n",
    "a,b"
   ]
  },
  {
   "cell_type": "code",
   "execution_count": 37,
   "id": "fa9f0312",
   "metadata": {},
   "outputs": [
    {
     "data": {
      "text/plain": [
       "(5, 3)"
      ]
     },
     "execution_count": 37,
     "metadata": {},
     "output_type": "execute_result"
    }
   ],
   "source": [
    "# tuple assignment\n",
    "a = 3\n",
    "b = 5\n",
    "\n",
    "a, b = b, a\n",
    "\n",
    "a,b"
   ]
  },
  {
   "cell_type": "code",
   "execution_count": 39,
   "id": "c70b83a3",
   "metadata": {},
   "outputs": [
    {
     "name": "stdout",
     "output_type": "stream",
     "text": [
      "3 4\n"
     ]
    },
    {
     "data": {
      "text/plain": [
       "(3, 4)"
      ]
     },
     "execution_count": 39,
     "metadata": {},
     "output_type": "execute_result"
    }
   ],
   "source": [
    "m, n = map(int, input().split())\n",
    "m,n "
   ]
  },
  {
   "cell_type": "code",
   "execution_count": 40,
   "id": "16a565d9",
   "metadata": {},
   "outputs": [
    {
     "data": {
      "text/plain": [
       "5"
      ]
     },
     "execution_count": 40,
     "metadata": {},
     "output_type": "execute_result"
    }
   ],
   "source": [
    "def fib(n):\n",
    "    f0 = 1\n",
    "    f1 = 1\n",
    "    for i in range(n-2):\n",
    "        f0, f1 = f1, f0+f1\n",
    "    return f1\n",
    "\n",
    "fib(5)"
   ]
  },
  {
   "cell_type": "code",
   "execution_count": 41,
   "id": "bb95a16c",
   "metadata": {},
   "outputs": [
    {
     "data": {
      "text/plain": [
       "(9, 27)"
      ]
     },
     "execution_count": 41,
     "metadata": {},
     "output_type": "execute_result"
    }
   ],
   "source": [
    "def test(n):\n",
    "    return n**2, n**3\n",
    "\n",
    "test(3)"
   ]
  },
  {
   "cell_type": "code",
   "execution_count": 42,
   "id": "5b706bf1",
   "metadata": {},
   "outputs": [
    {
     "name": "stdout",
     "output_type": "stream",
     "text": [
      "1 2 3 4 5\n"
     ]
    }
   ],
   "source": [
    "print(1,2,3,4,5,)"
   ]
  },
  {
   "cell_type": "code",
   "execution_count": 44,
   "id": "499804ae",
   "metadata": {},
   "outputs": [
    {
     "ename": "TypeError",
     "evalue": "test() takes 3 positional arguments but 4 were given",
     "output_type": "error",
     "traceback": [
      "\u001b[0;31m---------------------------------------------------------------------------\u001b[0m",
      "\u001b[0;31mTypeError\u001b[0m                                 Traceback (most recent call last)",
      "Input \u001b[0;32mIn [44]\u001b[0m, in \u001b[0;36m<cell line: 5>\u001b[0;34m()\u001b[0m\n\u001b[1;32m      2\u001b[0m     \u001b[38;5;28;01mreturn\u001b[39;00m m\u001b[38;5;241m*\u001b[39mn\u001b[38;5;241m*\u001b[39mp\n\u001b[1;32m      4\u001b[0m \u001b[38;5;66;03m# test(1,2,3)\u001b[39;00m\n\u001b[0;32m----> 5\u001b[0m \u001b[43mtest\u001b[49m\u001b[43m(\u001b[49m\u001b[38;5;241;43m1\u001b[39;49m\u001b[43m,\u001b[49m\u001b[38;5;241;43m2\u001b[39;49m\u001b[43m,\u001b[49m\u001b[38;5;241;43m3\u001b[39;49m\u001b[43m,\u001b[49m\u001b[38;5;241;43m4\u001b[39;49m\u001b[43m)\u001b[49m\n",
      "\u001b[0;31mTypeError\u001b[0m: test() takes 3 positional arguments but 4 were given"
     ]
    }
   ],
   "source": [
    "def test(m,n,p):\n",
    "    return m*n*p\n",
    "\n",
    "# test(1,2,3)\n",
    "test(1,2,3,4)"
   ]
  },
  {
   "cell_type": "code",
   "execution_count": 46,
   "id": "62a8e4cf",
   "metadata": {},
   "outputs": [
    {
     "data": {
      "text/plain": [
       "460"
      ]
     },
     "execution_count": 46,
     "metadata": {},
     "output_type": "execute_result"
    }
   ],
   "source": [
    "def mysum(*t):\n",
    "    s = 0\n",
    "    for item in t:\n",
    "        s += item\n",
    "    return s\n",
    "\n",
    "mysum(1,2,435,7,7,8)\n",
    "    "
   ]
  },
  {
   "cell_type": "code",
   "execution_count": 47,
   "id": "c278eee3",
   "metadata": {},
   "outputs": [
    {
     "name": "stdout",
     "output_type": "stream",
     "text": [
      "1\n",
      "(2, 435, 7, 7, 8)\n"
     ]
    }
   ],
   "source": [
    "def mysum(n, *t):\n",
    "    print(n)\n",
    "    print(t)\n",
    "mysum(1,2,435,7,7,8)"
   ]
  },
  {
   "cell_type": "code",
   "execution_count": 48,
   "id": "6b345b23",
   "metadata": {},
   "outputs": [
    {
     "ename": "SyntaxError",
     "evalue": "invalid syntax (1233420383.py, line 1)",
     "output_type": "error",
     "traceback": [
      "\u001b[0;36m  Input \u001b[0;32mIn [48]\u001b[0;36m\u001b[0m\n\u001b[0;31m    def test(*t, *p):\u001b[0m\n\u001b[0m                 ^\u001b[0m\n\u001b[0;31mSyntaxError\u001b[0m\u001b[0;31m:\u001b[0m invalid syntax\n"
     ]
    }
   ],
   "source": [
    "# wrong usage\n",
    "def test(*t, *p):\n",
    "    print(t,p)\n",
    "    \n",
    "    \n",
    "test(123,5,5,6,7,8,8,)"
   ]
  },
  {
   "cell_type": "code",
   "execution_count": 50,
   "id": "22a90830",
   "metadata": {},
   "outputs": [
    {
     "name": "stdout",
     "output_type": "stream",
     "text": [
      "(123, 5, 5) (6, 7, 8, 8)\n"
     ]
    }
   ],
   "source": [
    "def test(t, p):\n",
    "    print(t,p)\n",
    "    \n",
    "    \n",
    "test((123,5,5),(6,7,8,8,))"
   ]
  },
  {
   "cell_type": "code",
   "execution_count": 51,
   "id": "f4a48c5f",
   "metadata": {},
   "outputs": [
    {
     "ename": "TypeError",
     "evalue": "sum() takes at most 2 arguments (4 given)",
     "output_type": "error",
     "traceback": [
      "\u001b[0;31m---------------------------------------------------------------------------\u001b[0m",
      "\u001b[0;31mTypeError\u001b[0m                                 Traceback (most recent call last)",
      "Input \u001b[0;32mIn [51]\u001b[0m, in \u001b[0;36m<cell line: 1>\u001b[0;34m()\u001b[0m\n\u001b[0;32m----> 1\u001b[0m \u001b[38;5;28;43msum\u001b[39;49m\u001b[43m(\u001b[49m\u001b[38;5;241;43m1\u001b[39;49m\u001b[43m,\u001b[49m\u001b[38;5;241;43m2\u001b[39;49m\u001b[43m,\u001b[49m\u001b[38;5;241;43m34\u001b[39;49m\u001b[43m,\u001b[49m\u001b[38;5;241;43m45\u001b[39;49m\u001b[43m)\u001b[49m\n",
      "\u001b[0;31mTypeError\u001b[0m: sum() takes at most 2 arguments (4 given)"
     ]
    }
   ],
   "source": [
    "sum(1,2,34,45)"
   ]
  },
  {
   "cell_type": "code",
   "execution_count": 56,
   "id": "8653da82",
   "metadata": {},
   "outputs": [
    {
     "data": {
      "text/plain": [
       "182"
      ]
     },
     "execution_count": 56,
     "metadata": {},
     "output_type": "execute_result"
    }
   ],
   "source": [
    "sum((1,2,34,45), start=100)"
   ]
  },
  {
   "cell_type": "code",
   "execution_count": 55,
   "id": "3f55e55a",
   "metadata": {},
   "outputs": [
    {
     "name": "stdout",
     "output_type": "stream",
     "text": [
      "Help on built-in function sum in module builtins:\n",
      "\n",
      "sum(iterable, /, start=0)\n",
      "    Return the sum of a 'start' value (default: 0) plus an iterable of numbers\n",
      "    \n",
      "    When the iterable is empty, return the start value.\n",
      "    This function is intended specifically for use with numeric values and may\n",
      "    reject non-numeric types.\n",
      "\n"
     ]
    }
   ],
   "source": [
    "help(sum)"
   ]
  },
  {
   "cell_type": "code",
   "execution_count": 57,
   "id": "1a692324",
   "metadata": {},
   "outputs": [
    {
     "name": "stdout",
     "output_type": "stream",
     "text": [
      "ali taqavi\n",
      "hasan alavi\n",
      "hosein hasani\n"
     ]
    }
   ],
   "source": [
    "names = ['ali', 'hasan', 'hosein']\n",
    "family = ['taqavi', 'alavi', 'hasani']\n",
    "length = len(names)\n",
    "\n",
    "for i in range(length):\n",
    "    print(f\"{names[i]} {family[i]}\")"
   ]
  },
  {
   "cell_type": "code",
   "execution_count": 59,
   "id": "e115ad6c",
   "metadata": {},
   "outputs": [
    {
     "data": {
      "text/plain": [
       "[['ali', 'taqavi'], ['hasan', 'alavi'], ['hosein', 'hasani']]"
      ]
     },
     "execution_count": 59,
     "metadata": {},
     "output_type": "execute_result"
    }
   ],
   "source": [
    "names = ['ali', 'hasan', 'hosein']\n",
    "family = ['taqavi', 'alavi', 'hasani']\n",
    "length = len(names)\n",
    "\n",
    "total = []\n",
    "for i in range(length):\n",
    "    total.append([names[i], family[i]])\n",
    "    \n",
    "total"
   ]
  },
  {
   "cell_type": "code",
   "execution_count": 62,
   "id": "46e00507",
   "metadata": {},
   "outputs": [
    {
     "name": "stdout",
     "output_type": "stream",
     "text": [
      "ali taqavi\n",
      "hasan alavi\n",
      "hosein hasani\n",
      "reza mohammadi\n"
     ]
    }
   ],
   "source": [
    "names = ['ali', 'hasan', 'hosein', 'reza']\n",
    "family = ['taqavi', 'alavi', 'hasani', 'mohammadi']\n",
    "total = names + family\n",
    "for i in range(4):\n",
    "    print(total[i], total[i+4])"
   ]
  },
  {
   "cell_type": "code",
   "execution_count": 64,
   "id": "80c3f232",
   "metadata": {},
   "outputs": [
    {
     "data": {
      "text/plain": [
       "[('ali', 'taqavi'),\n",
       " ('hasan', 'alavi'),\n",
       " ('hosein', 'hasani'),\n",
       " ('reza', 'mohammadi')]"
      ]
     },
     "execution_count": 64,
     "metadata": {},
     "output_type": "execute_result"
    }
   ],
   "source": [
    "names = ['ali', 'hasan', 'hosein', 'reza']\n",
    "family = ['taqavi', 'alavi', 'hasani', 'mohammadi']\n",
    "\n",
    "list(zip(names, family))"
   ]
  },
  {
   "cell_type": "code",
   "execution_count": 66,
   "id": "8ee1180d",
   "metadata": {},
   "outputs": [
    {
     "name": "stdout",
     "output_type": "stream",
     "text": [
      "('ali', 'taqavi')\n",
      "('hasan', 'alavi')\n",
      "('hosein', 'hasani')\n",
      "('reza', 'mohammadi')\n",
      "ali taqavi\n",
      "hasan alavi\n",
      "hosein hasani\n",
      "reza mohammadi\n"
     ]
    }
   ],
   "source": [
    "names = ['ali', 'hasan', 'hosein', 'reza']\n",
    "family = ['taqavi', 'alavi', 'hasani', 'mohammadi']\n",
    "\n",
    "for item in zip(names, family):\n",
    "    print(item)\n",
    "    \n",
    "for item in zip(names, family):\n",
    "    print(item[0], item[1])"
   ]
  },
  {
   "cell_type": "code",
   "execution_count": 67,
   "id": "6b85a2b4",
   "metadata": {},
   "outputs": [
    {
     "name": "stdout",
     "output_type": "stream",
     "text": [
      "ali taqavi\n",
      "hasan alavi\n",
      "hosein hasani\n",
      "reza mohammadi\n"
     ]
    }
   ],
   "source": [
    "names = ['ali', 'hasan', 'hosein', 'reza']\n",
    "family = ['taqavi', 'alavi', 'hasani', 'mohammadi']\n",
    "    \n",
    "for name, family in zip(names, family):\n",
    "    print(name, family)"
   ]
  },
  {
   "cell_type": "code",
   "execution_count": 70,
   "id": "8fc2f70f",
   "metadata": {},
   "outputs": [
    {
     "data": {
      "text/plain": [
       "[('ali', 'taqavi'), ('hasan', 'alavi')]"
      ]
     },
     "execution_count": 70,
     "metadata": {},
     "output_type": "execute_result"
    }
   ],
   "source": [
    "names = ['ali', 'hasan', 'hosein', 'reza']\n",
    "family = ['taqavi', 'alavi']\n",
    "\n",
    "list(zip(names, family))"
   ]
  },
  {
   "cell_type": "code",
   "execution_count": 71,
   "id": "956a1fb3",
   "metadata": {},
   "outputs": [
    {
     "data": {
      "text/plain": [
       "[3, 37, 43, 17, 19]"
      ]
     },
     "execution_count": 71,
     "metadata": {},
     "output_type": "execute_result"
    }
   ],
   "source": [
    "l = [1,2,35,8,9,10]\n",
    "c = []\n",
    "for i in range(len(l)-1):\n",
    "    c.append(l[i]+l[i+1])\n",
    "    \n",
    "c"
   ]
  },
  {
   "cell_type": "code",
   "execution_count": 73,
   "id": "24fa7de3",
   "metadata": {},
   "outputs": [
    {
     "data": {
      "text/plain": [
       "[3, 37, 43, 17, 19]"
      ]
     },
     "execution_count": 73,
     "metadata": {},
     "output_type": "execute_result"
    }
   ],
   "source": [
    "l = [1,2,35,8,9,10]\n",
    "c = []\n",
    "for i in zip(l, l[1:]):\n",
    "    c.append(sum(i))\n",
    "c"
   ]
  },
  {
   "cell_type": "code",
   "execution_count": 74,
   "id": "a9fd5911",
   "metadata": {},
   "outputs": [
    {
     "data": {
      "text/plain": [
       "[(1, 2), (2, 35), (35, 8), (8, 9), (9, 10)]"
      ]
     },
     "execution_count": 74,
     "metadata": {},
     "output_type": "execute_result"
    }
   ],
   "source": [
    "list(zip([1,2,35,8,9,10], [2,35,8,9,10]))"
   ]
  },
  {
   "cell_type": "code",
   "execution_count": 75,
   "id": "529f3801",
   "metadata": {},
   "outputs": [
    {
     "data": {
      "text/plain": [
       "[3, 37, 43, 17, 19]"
      ]
     },
     "execution_count": 75,
     "metadata": {},
     "output_type": "execute_result"
    }
   ],
   "source": [
    "l = [1,2,35,8,9,10]\n",
    "c = []\n",
    "list(map(sum, zip(l, l[1:])))\n"
   ]
  },
  {
   "cell_type": "code",
   "execution_count": null,
   "id": "e966fd90",
   "metadata": {},
   "outputs": [],
   "source": [
    "# Matrix\n",
    "# 1 2 3\n",
    "# 4 5 6\n",
    "# 7 8 9\n",
    "\n",
    "# row-major\n",
    "mat = [[1, 2, 3],\n",
    "       [4, 5, 6],\n",
    "       [7, 8, 9]]\n",
    "\n",
    "# column-major\n",
    "mat = [[1, 4, 7],\n",
    "       [2, 5, 8],\n",
    "       [3, 6, 9]]"
   ]
  },
  {
   "cell_type": "code",
   "execution_count": 77,
   "id": "08ac281e",
   "metadata": {},
   "outputs": [
    {
     "data": {
      "text/plain": [
       "[[1, 4, 9], [16, 25, 36], [49, 64, 81]]"
      ]
     },
     "execution_count": 77,
     "metadata": {},
     "output_type": "execute_result"
    }
   ],
   "source": [
    "mat = [[1, 2, 3],\n",
    "       [4, 5, 6],\n",
    "       [7, 8, 9]]\n",
    "r = len(mat)\n",
    "c = len(mat[0])\n",
    "for row in range(r):\n",
    "    for col in range(c):\n",
    "        mat[row][col] **= 2\n",
    "\n",
    "mat"
   ]
  },
  {
   "cell_type": "code",
   "execution_count": 80,
   "id": "a0ccb99b",
   "metadata": {},
   "outputs": [
    {
     "data": {
      "text/plain": [
       "{(1, 1): 1,\n",
       " (1, 2): 4,\n",
       " (1, 3): 9,\n",
       " (2, 1): 16,\n",
       " (2, 2): 25,\n",
       " (2, 3): 36,\n",
       " (3, 1): 49,\n",
       " (3, 2): 64,\n",
       " (3, 3): 81}"
      ]
     },
     "execution_count": 80,
     "metadata": {},
     "output_type": "execute_result"
    }
   ],
   "source": [
    "mat = {(1,1):1, (1,2):2, (1,3):3,\n",
    "       (2,1):4, (2,2):5, (2,3):6,\n",
    "       (3,1):7, (3,2):8, (3,3):9}\n",
    "\n",
    "r = 3\n",
    "c = 3\n",
    "for row in range(1,r+1):\n",
    "    for col in range(1,c+1):\n",
    "        mat[(row,col)] **= 2\n",
    "        \n",
    "mat"
   ]
  },
  {
   "cell_type": "code",
   "execution_count": 86,
   "id": "69d95496",
   "metadata": {},
   "outputs": [
    {
     "name": "stdout",
     "output_type": "stream",
     "text": [
      "1 2 3 \n",
      "4 5 6 \n",
      "7 8 9 \n"
     ]
    }
   ],
   "source": [
    "mat = {(1,1):1, (1,2):2, (1,3):3,\n",
    "       (2,1):4, (2,2):5, (2,3):6,\n",
    "       (3,1):7, (3,2):8, (3,3):9}\n",
    "\n",
    "r = 3\n",
    "c = 3\n",
    "for row in range(1,r+1):\n",
    "    for col in range(1,c+1):\n",
    "        print(mat[(row,col)], end=' ')\n",
    "    print()"
   ]
  },
  {
   "cell_type": "code",
   "execution_count": 88,
   "id": "7fc36530",
   "metadata": {},
   "outputs": [
    {
     "name": "stdout",
     "output_type": "stream",
     "text": [
      "1 0 0 \n",
      "0 0 6 \n",
      "0 8 0 \n"
     ]
    }
   ],
   "source": [
    "mat = {(1,1):1, \n",
    "       (2,3):6,\n",
    "       (3,2):8}\n",
    "\n",
    "r = 3\n",
    "c = 3\n",
    "for row in range(1,r+1):\n",
    "    for col in range(1,c+1):\n",
    "        if (row,col) in mat:\n",
    "            print(mat[(row,col)], end=' ')\n",
    "        else:\n",
    "            print(0, end=\" \")\n",
    "    print()"
   ]
  },
  {
   "cell_type": "code",
   "execution_count": 89,
   "id": "81a3787f",
   "metadata": {},
   "outputs": [
    {
     "name": "stdout",
     "output_type": "stream",
     "text": [
      "1 0 0 \n",
      "0 0 6 \n",
      "0 8 0 \n"
     ]
    }
   ],
   "source": [
    "mat = {(1,1):1, \n",
    "       (2,3):6,\n",
    "       (3,2):8}\n",
    "\n",
    "r = 3\n",
    "c = 3\n",
    "for row in range(1,r+1):\n",
    "    for col in range(1,c+1):\n",
    "        print(mat.get((row,col), 0), end=' ')\n",
    "    print()"
   ]
  }
 ],
 "metadata": {
  "kernelspec": {
   "display_name": ".venv",
   "language": "python",
   "name": ".venv"
  },
  "language_info": {
   "codemirror_mode": {
    "name": "ipython",
    "version": 3
   },
   "file_extension": ".py",
   "mimetype": "text/x-python",
   "name": "python",
   "nbconvert_exporter": "python",
   "pygments_lexer": "ipython3",
   "version": "3.10.8"
  }
 },
 "nbformat": 4,
 "nbformat_minor": 5
}
