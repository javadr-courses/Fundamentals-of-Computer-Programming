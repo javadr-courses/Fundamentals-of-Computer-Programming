{
 "cells": [
  {
   "cell_type": "markdown",
   "id": "251497c3",
   "metadata": {},
   "source": [
    "# Introduction to Progamming Languages with Python \n",
    "### University of Qom\n",
    "##### Sat. 1401/09/05"
   ]
  },
  {
   "cell_type": "markdown",
   "id": "6027a544",
   "metadata": {},
   "source": [
    "### Algorithm, Flowchart, Problem Solving 3rd Series"
   ]
  },
  {
   "cell_type": "code",
   "execution_count": 8,
   "id": "1762ec24",
   "metadata": {},
   "outputs": [
    {
     "name": "stdout",
     "output_type": "stream",
     "text": [
      "CPU times: user 77.5 ms, sys: 33 µs, total: 77.5 ms\n",
      "Wall time: 77 ms\n"
     ]
    },
    {
     "data": {
      "text/plain": [
       "2.7182818284590455"
      ]
     },
     "execution_count": 8,
     "metadata": {},
     "output_type": "execute_result"
    }
   ],
   "source": [
    "%%time\n",
    "\n",
    "def fact(n):\n",
    "    f = 1\n",
    "    for i in range(2, n+1):\n",
    "        f = f*i\n",
    "    return f\n",
    "\n",
    "def neper(n):\n",
    "    e = 0\n",
    "    for i in range(n+1):\n",
    "        e = e + 1/fact(i)\n",
    "    \n",
    "    return e\n",
    "\n",
    "# for i in range(20):\n",
    "#     print(i, neper(i), sep='\\t')\n",
    "neper(1000)"
   ]
  },
  {
   "cell_type": "code",
   "execution_count": 25,
   "id": "482b2342",
   "metadata": {},
   "outputs": [
    {
     "name": "stdout",
     "output_type": "stream",
     "text": [
      "CPU times: user 164 ms, sys: 6.15 ms, total: 170 ms\n",
      "Wall time: 168 ms\n"
     ]
    },
    {
     "data": {
      "text/plain": [
       "2.7182818284590455"
      ]
     },
     "execution_count": 25,
     "metadata": {},
     "output_type": "execute_result"
    }
   ],
   "source": [
    "%%time\n",
    "def fact(n):\n",
    "    if n<=1: return 1\n",
    "    return n*fact(n-1)\n",
    "\n",
    "def neper(n):\n",
    "    e = 0\n",
    "    for i in range(n+1):\n",
    "        e = e + 1/fact(i)\n",
    "    \n",
    "    return e\n",
    "\n",
    "# for i in range(20):\n",
    "#     print(i, neper(i), sep='\\t')\n",
    "neper(1000)"
   ]
  },
  {
   "cell_type": "code",
   "execution_count": 10,
   "id": "1980379a",
   "metadata": {},
   "outputs": [
    {
     "name": "stdout",
     "output_type": "stream",
     "text": [
      "CPU times: user 1.98 s, sys: 3.19 ms, total: 1.98 s\n",
      "Wall time: 1.99 s\n"
     ]
    },
    {
     "data": {
      "text/plain": [
       "2.7182818284590455"
      ]
     },
     "execution_count": 10,
     "metadata": {},
     "output_type": "execute_result"
    }
   ],
   "source": [
    "%%time\n",
    "\n",
    "def neper(n):\n",
    "    e = 1\n",
    "    f = 1\n",
    "    for i in range(1, n+1):\n",
    "        f = f*i\n",
    "        e = e + 1/f\n",
    "    \n",
    "    return e\n",
    "\n",
    "# for i in range(20):\n",
    "#     print(i, neper(i), sep='\\t')\n",
    "neper(100000)"
   ]
  },
  {
   "cell_type": "code",
   "execution_count": 41,
   "id": "2d4e6494",
   "metadata": {},
   "outputs": [
    {
     "name": "stdout",
     "output_type": "stream",
     "text": [
      "saal:71\n",
      "maah:06\n"
     ]
    }
   ],
   "source": [
    "def birthday(n):\n",
    "    year = n//100\n",
    "    month = n%100\n",
    "    print(\"saal:{:02}\".format(year))\n",
    "    print(\"maah:{:02}\".format(month))\n",
    "\n",
    "birthday(7106)"
   ]
  },
  {
   "cell_type": "code",
   "execution_count": 62,
   "id": "6eeb626c",
   "metadata": {},
   "outputs": [
    {
     "data": {
      "text/plain": [
       "True"
      ]
     },
     "execution_count": 62,
     "metadata": {},
     "output_type": "execute_result"
    }
   ],
   "source": [
    "def is_complete(n):\n",
    "    s = 1\n",
    "    for i in range(2,n//2+1):\n",
    "        if n%i==0:\n",
    "            s = s + i\n",
    "    if s==n:\n",
    "        return True\n",
    "    else:\n",
    "        return False\n",
    "    \n",
    "    \n",
    "is_complete(33550336)\n",
    "# is_complete(137438691328)"
   ]
  },
  {
   "cell_type": "code",
   "execution_count": 57,
   "id": "31d4539d",
   "metadata": {},
   "outputs": [
    {
     "name": "stdout",
     "output_type": "stream",
     "text": [
      "6\n",
      "28\n",
      "496\n",
      "8128\n",
      "CPU times: user 1.23 s, sys: 9.91 ms, total: 1.24 s\n",
      "Wall time: 1.24 s\n"
     ]
    }
   ],
   "source": [
    "%%time\n",
    "for i in range(2, 10_000):\n",
    "    if is_complete(i):\n",
    "        print(i)"
   ]
  },
  {
   "cell_type": "code",
   "execution_count": 54,
   "id": "d9cb8c58",
   "metadata": {},
   "outputs": [
    {
     "name": "stdout",
     "output_type": "stream",
     "text": [
      "6\n",
      "28\n",
      "496\n",
      "8128\n",
      "CPU times: user 949 ms, sys: 0 ns, total: 949 ms\n",
      "Wall time: 949 ms\n"
     ]
    }
   ],
   "source": [
    "%%time\n",
    "def is_complete(n):\n",
    "    s = 1\n",
    "    d = n\n",
    "    for i in range(2,n//2+1):\n",
    "        if n%i==0:\n",
    "            d = i\n",
    "            break\n",
    "    \n",
    "    for i in range(2,n//d+1):\n",
    "        if n%i==0:\n",
    "            s = s + i\n",
    "    if s==n:\n",
    "        return True\n",
    "    else:\n",
    "        return False\n",
    "    \n",
    "    \n",
    "for i in range(2, 10_000):\n",
    "    if is_complete(i):\n",
    "        print(i)"
   ]
  },
  {
   "cell_type": "code",
   "execution_count": 66,
   "id": "7fc83814",
   "metadata": {},
   "outputs": [
    {
     "name": "stdout",
     "output_type": "stream",
     "text": [
      "6\n",
      "28\n",
      "496\n",
      "8128\n",
      "2096128\n",
      "33550336\n",
      "8589869056\n",
      "137438691328\n",
      "35184367894528\n",
      "144115187807420416\n",
      "2305843008139952128\n",
      "9444732965670570950656\n"
     ]
    }
   ],
   "source": [
    "def complete(p):\n",
    "    return 2**(p-1) * (2**p-1)\n",
    "\n",
    "for i in 2,3,5,7,11,13,17,19,23,29,31,37:\n",
    "    print(complete(i))"
   ]
  },
  {
   "cell_type": "code",
   "execution_count": 41,
   "id": "2c5e2b6c",
   "metadata": {},
   "outputs": [
    {
     "data": {
      "image/png": "[encoded data removed]",
      "text/plain": [
       "<Figure size 432x288 with 2 Axes>"
      ]
     },
     "metadata": {
      "needs_background": "light"
     },
     "output_type": "display_data"
    },
    {
     "name": "stdout",
     "output_type": "stream",
     "text": [
      "\n",
      "    Underweight:        BMI < 18.5\n",
      "    Normal     : 18.5 ≤ BMI < 25\n",
      "    Overweight : 25   ≤ BMI < 30\n",
      "    Obese      : 30   ≤ BMI\n",
      "\n"
     ]
    }
   ],
   "source": [
    "import matplotlib.pyplot as plt\n",
    "import numpy as np\n",
    "\n",
    "weights = np.linspace(50, 110)\n",
    "heights = np.linspace(1.4, 2)\n",
    "xx, yy = np.meshgrid(weights, heights)\n",
    "zz = xx / yy**2\n",
    "\n",
    "h = plt.contourf(weights, heights, zz)\n",
    "plt.title('Body Mass Index (BMI)')\n",
    "plt.xlabel('Weight in KiloGrams')\n",
    "plt.ylabel('Height in Meters')\n",
    "plt.colorbar()\n",
    "plt.show()\n",
    "\n",
    "\n",
    "print(\"\"\"\n",
    "    Underweight:        BMI < 18.5\n",
    "    Normal     : 18.5 ≤ BMI < 25\n",
    "    Overweight : 25   ≤ BMI < 30\n",
    "    Obese      : 30   ≤ BMI\n",
    "\"\"\")"
   ]
  }
 ],
 "metadata": {
  "kernelspec": {
   "display_name": ".venv",
   "language": "python",
   "name": ".venv"
  },
  "language_info": {
   "codemirror_mode": {
    "name": "ipython",
    "version": 3
   },
   "file_extension": ".py",
   "mimetype": "text/x-python",
   "name": "python",
   "nbconvert_exporter": "python",
   "pygments_lexer": "ipython3",
   "version": "3.10.8"
  }
 },
 "nbformat": 4,
 "nbformat_minor": 5
}
