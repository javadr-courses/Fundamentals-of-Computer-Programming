{
 "cells": [
  {
   "cell_type": "markdown",
   "id": "251497c3",
   "metadata": {},
   "source": [
    "# Introduction to Progamming Languages with Python \n",
    "### University of Qom\n",
    "##### Sat. 1401/08/28"
   ]
  },
  {
   "cell_type": "markdown",
   "id": "6027a544",
   "metadata": {},
   "source": [
    "### Chapter 8: Strings"
   ]
  },
  {
   "cell_type": "code",
   "execution_count": 1,
   "id": "86260e24",
   "metadata": {},
   "outputs": [
    {
     "data": {
      "text/plain": [
       "'h'"
      ]
     },
     "execution_count": 1,
     "metadata": {},
     "output_type": "execute_result"
    }
   ],
   "source": [
    "s = \"hello worlds!\"\n",
    "s[0]"
   ]
  },
  {
   "cell_type": "code",
   "execution_count": 2,
   "id": "e51c13b3",
   "metadata": {},
   "outputs": [
    {
     "ename": "IndexError",
     "evalue": "string index out of range",
     "output_type": "error",
     "traceback": [
      "\u001b[0;31m---------------------------------------------------------------------------\u001b[0m",
      "\u001b[0;31mIndexError\u001b[0m                                Traceback (most recent call last)",
      "Input \u001b[0;32mIn [2]\u001b[0m, in \u001b[0;36m<cell line: 1>\u001b[0;34m()\u001b[0m\n\u001b[0;32m----> 1\u001b[0m \u001b[43ms\u001b[49m\u001b[43m[\u001b[49m\u001b[38;5;241;43m14\u001b[39;49m\u001b[43m]\u001b[49m\n",
      "\u001b[0;31mIndexError\u001b[0m: string index out of range"
     ]
    }
   ],
   "source": [
    "s[14]"
   ]
  },
  {
   "cell_type": "code",
   "execution_count": 3,
   "id": "c30d23c0",
   "metadata": {},
   "outputs": [
    {
     "ename": "TypeError",
     "evalue": "string indices must be integers",
     "output_type": "error",
     "traceback": [
      "\u001b[0;31m---------------------------------------------------------------------------\u001b[0m",
      "\u001b[0;31mTypeError\u001b[0m                                 Traceback (most recent call last)",
      "Input \u001b[0;32mIn [3]\u001b[0m, in \u001b[0;36m<cell line: 1>\u001b[0;34m()\u001b[0m\n\u001b[0;32m----> 1\u001b[0m \u001b[43ms\u001b[49m\u001b[43m[\u001b[49m\u001b[38;5;241;43m2.1\u001b[39;49m\u001b[43m]\u001b[49m\n",
      "\u001b[0;31mTypeError\u001b[0m: string indices must be integers"
     ]
    }
   ],
   "source": [
    "s[2.1]"
   ]
  },
  {
   "cell_type": "code",
   "execution_count": 4,
   "id": "2c42e306",
   "metadata": {},
   "outputs": [
    {
     "data": {
      "text/plain": [
       "' '"
      ]
     },
     "execution_count": 4,
     "metadata": {},
     "output_type": "execute_result"
    }
   ],
   "source": [
    "s[5]"
   ]
  },
  {
   "cell_type": "code",
   "execution_count": 5,
   "id": "35d57059",
   "metadata": {},
   "outputs": [
    {
     "name": "stdout",
     "output_type": "stream",
     "text": [
      "h\n",
      "e\n",
      "l\n",
      "l\n",
      "o\n",
      " \n",
      "w\n",
      "o\n",
      "r\n",
      "l\n",
      "d\n",
      "s\n",
      "!\n"
     ]
    }
   ],
   "source": [
    "for i in range(len(s)):\n",
    "    print(s[i])"
   ]
  },
  {
   "cell_type": "code",
   "execution_count": 7,
   "id": "404f0045",
   "metadata": {},
   "outputs": [
    {
     "data": {
      "text/plain": [
       "'!'"
      ]
     },
     "execution_count": 7,
     "metadata": {},
     "output_type": "execute_result"
    }
   ],
   "source": [
    "l = len(s)\n",
    "s[l-1]"
   ]
  },
  {
   "cell_type": "code",
   "execution_count": 8,
   "id": "709de7f4",
   "metadata": {},
   "outputs": [
    {
     "data": {
      "text/plain": [
       "'llo wo'"
      ]
     },
     "execution_count": 8,
     "metadata": {},
     "output_type": "execute_result"
    }
   ],
   "source": [
    "s[2:8]"
   ]
  },
  {
   "cell_type": "code",
   "execution_count": 9,
   "id": "ea767ba2",
   "metadata": {},
   "outputs": [
    {
     "data": {
      "text/plain": [
       "'hello wo'"
      ]
     },
     "execution_count": 9,
     "metadata": {},
     "output_type": "execute_result"
    }
   ],
   "source": [
    "s[:8]"
   ]
  },
  {
   "cell_type": "code",
   "execution_count": 10,
   "id": "ba186f39",
   "metadata": {},
   "outputs": [
    {
     "data": {
      "text/plain": [
       "'rlds!'"
      ]
     },
     "execution_count": 10,
     "metadata": {},
     "output_type": "execute_result"
    }
   ],
   "source": [
    "s[8:]"
   ]
  },
  {
   "cell_type": "code",
   "execution_count": 11,
   "id": "a82ed376",
   "metadata": {},
   "outputs": [
    {
     "data": {
      "text/plain": [
       "'low'"
      ]
     },
     "execution_count": 11,
     "metadata": {},
     "output_type": "execute_result"
    }
   ],
   "source": [
    "s[2:8:2]"
   ]
  },
  {
   "cell_type": "code",
   "execution_count": 12,
   "id": "36088aa3",
   "metadata": {},
   "outputs": [
    {
     "data": {
      "text/plain": [
       "'hlowrd!'"
      ]
     },
     "execution_count": 12,
     "metadata": {},
     "output_type": "execute_result"
    }
   ],
   "source": [
    "s[::2]"
   ]
  },
  {
   "cell_type": "code",
   "execution_count": 13,
   "id": "fee1657f",
   "metadata": {},
   "outputs": [
    {
     "data": {
      "text/plain": [
       "'el ols'"
      ]
     },
     "execution_count": 13,
     "metadata": {},
     "output_type": "execute_result"
    }
   ],
   "source": [
    "s[1::2]"
   ]
  },
  {
   "cell_type": "code",
   "execution_count": 14,
   "id": "d03d549f",
   "metadata": {},
   "outputs": [
    {
     "data": {
      "text/plain": [
       "'!'"
      ]
     },
     "execution_count": 14,
     "metadata": {},
     "output_type": "execute_result"
    }
   ],
   "source": [
    "s[-1]"
   ]
  },
  {
   "cell_type": "code",
   "execution_count": 15,
   "id": "79b97209",
   "metadata": {},
   "outputs": [
    {
     "data": {
      "text/plain": [
       "''"
      ]
     },
     "execution_count": 15,
     "metadata": {},
     "output_type": "execute_result"
    }
   ],
   "source": [
    "s[-5:-8]"
   ]
  },
  {
   "cell_type": "code",
   "execution_count": 16,
   "id": "eba02826",
   "metadata": {},
   "outputs": [
    {
     "data": {
      "text/plain": [
       "' wo'"
      ]
     },
     "execution_count": 16,
     "metadata": {},
     "output_type": "execute_result"
    }
   ],
   "source": [
    "s[-8:-5]"
   ]
  },
  {
   "cell_type": "code",
   "execution_count": 17,
   "id": "27d56d5e",
   "metadata": {},
   "outputs": [
    {
     "data": {
      "text/plain": [
       "'row'"
      ]
     },
     "execution_count": 17,
     "metadata": {},
     "output_type": "execute_result"
    }
   ],
   "source": [
    "s[-5:-8:-1]"
   ]
  },
  {
   "cell_type": "code",
   "execution_count": 18,
   "id": "7ec8751b",
   "metadata": {},
   "outputs": [
    {
     "data": {
      "text/plain": [
       "'!sdlrow olleh'"
      ]
     },
     "execution_count": 18,
     "metadata": {},
     "output_type": "execute_result"
    }
   ],
   "source": [
    "s[::-1]"
   ]
  },
  {
   "cell_type": "code",
   "execution_count": 20,
   "id": "e5deed84",
   "metadata": {},
   "outputs": [
    {
     "data": {
      "text/plain": [
       "'ila'"
      ]
     },
     "execution_count": 20,
     "metadata": {},
     "output_type": "execute_result"
    }
   ],
   "source": [
    "def reverse(s):\n",
    "    news = ''\n",
    "    for i in range(len(s)):\n",
    "        news = s[i] + news\n",
    "        \n",
    "    return news\n",
    "\n",
    "reverse('ali')"
   ]
  },
  {
   "cell_type": "code",
   "execution_count": 22,
   "id": "2cc4a623",
   "metadata": {},
   "outputs": [
    {
     "data": {
      "text/plain": [
       "'ila'"
      ]
     },
     "execution_count": 22,
     "metadata": {},
     "output_type": "execute_result"
    }
   ],
   "source": [
    "def revw(s):\n",
    "    l = -len(s)\n",
    "    i = -1\n",
    "    news = ''\n",
    "    while i>=l:\n",
    "        news = news + s[i]\n",
    "        i = i-1\n",
    "    return news\n",
    "\n",
    "revw('ali')"
   ]
  },
  {
   "cell_type": "code",
   "execution_count": 23,
   "id": "e0dde264",
   "metadata": {},
   "outputs": [
    {
     "name": "stdout",
     "output_type": "stream",
     "text": [
      "12\n",
      "13\n",
      "14\n",
      "15\n"
     ]
    }
   ],
   "source": [
    "for i in 12,13,14,15:\n",
    "    print(i)"
   ]
  },
  {
   "cell_type": "code",
   "execution_count": 24,
   "id": "5aff1228",
   "metadata": {},
   "outputs": [
    {
     "name": "stdout",
     "output_type": "stream",
     "text": [
      "h\n",
      "e\n",
      "l\n",
      "l\n",
      "o\n",
      " \n",
      "w\n",
      "o\n",
      "r\n",
      "l\n",
      "d\n",
      "s\n",
      "!\n"
     ]
    }
   ],
   "source": [
    "for i in s:\n",
    "    print(i)"
   ]
  },
  {
   "cell_type": "code",
   "execution_count": 25,
   "id": "094c8d46",
   "metadata": {},
   "outputs": [
    {
     "data": {
      "text/plain": [
       "''"
      ]
     },
     "execution_count": 25,
     "metadata": {},
     "output_type": "execute_result"
    }
   ],
   "source": [
    "s[123123:3412351435]"
   ]
  },
  {
   "cell_type": "code",
   "execution_count": 26,
   "id": "80fa9107",
   "metadata": {},
   "outputs": [
    {
     "data": {
      "text/plain": [
       "'hello worlds!'"
      ]
     },
     "execution_count": 26,
     "metadata": {},
     "output_type": "execute_result"
    }
   ],
   "source": [
    "s "
   ]
  },
  {
   "cell_type": "code",
   "execution_count": 27,
   "id": "e6e6905f",
   "metadata": {},
   "outputs": [
    {
     "ename": "TypeError",
     "evalue": "'str' object does not support item assignment",
     "output_type": "error",
     "traceback": [
      "\u001b[0;31m---------------------------------------------------------------------------\u001b[0m",
      "\u001b[0;31mTypeError\u001b[0m                                 Traceback (most recent call last)",
      "Input \u001b[0;32mIn [27]\u001b[0m, in \u001b[0;36m<cell line: 1>\u001b[0;34m()\u001b[0m\n\u001b[0;32m----> 1\u001b[0m s[\u001b[38;5;241m0\u001b[39m]\u001b[38;5;241m=\u001b[39m\u001b[38;5;124m'\u001b[39m\u001b[38;5;124mH\u001b[39m\u001b[38;5;124m'\u001b[39m\n",
      "\u001b[0;31mTypeError\u001b[0m: 'str' object does not support item assignment"
     ]
    }
   ],
   "source": [
    "s[0]='H'"
   ]
  },
  {
   "cell_type": "code",
   "execution_count": 29,
   "id": "3e480752",
   "metadata": {},
   "outputs": [
    {
     "data": {
      "text/plain": [
       "'Hello worlds!'"
      ]
     },
     "execution_count": 29,
     "metadata": {},
     "output_type": "execute_result"
    }
   ],
   "source": [
    "s = 'H'+s[1:]\n",
    "s"
   ]
  },
  {
   "cell_type": "code",
   "execution_count": 31,
   "id": "1a9b560e",
   "metadata": {},
   "outputs": [
    {
     "data": {
      "text/plain": [
       "'Hello Worlds!'"
      ]
     },
     "execution_count": 31,
     "metadata": {},
     "output_type": "execute_result"
    }
   ],
   "source": [
    "s = s[:6] + 'W' + s[7:]\n",
    "s"
   ]
  },
  {
   "cell_type": "code",
   "execution_count": 33,
   "id": "c2d22530",
   "metadata": {},
   "outputs": [
    {
     "data": {
      "text/plain": [
       "'Hello*****Worlds!'"
      ]
     },
     "execution_count": 33,
     "metadata": {},
     "output_type": "execute_result"
    }
   ],
   "source": [
    "s = s[:5] + \"*****\" + s[6:]\n",
    "s"
   ]
  },
  {
   "cell_type": "code",
   "execution_count": 35,
   "id": "b5a07276",
   "metadata": {},
   "outputs": [
    {
     "data": {
      "text/plain": [
       "'Hello*'"
      ]
     },
     "execution_count": 35,
     "metadata": {},
     "output_type": "execute_result"
    }
   ],
   "source": [
    "s = s[:6]\n",
    "s"
   ]
  },
  {
   "cell_type": "code",
   "execution_count": 37,
   "id": "1311db33",
   "metadata": {},
   "outputs": [
    {
     "data": {
      "text/plain": [
       "False"
      ]
     },
     "execution_count": 37,
     "metadata": {},
     "output_type": "execute_result"
    }
   ],
   "source": [
    "def find(string, char):\n",
    "    for i in string:\n",
    "        if i==char:\n",
    "            return True\n",
    "    return False\n",
    "\n",
    "# find('ali', 'i')\n",
    "find('ali', 'z')"
   ]
  },
  {
   "cell_type": "code",
   "execution_count": 41,
   "id": "d2e3b731",
   "metadata": {},
   "outputs": [
    {
     "data": {
      "text/plain": [
       "-1"
      ]
     },
     "execution_count": 41,
     "metadata": {},
     "output_type": "execute_result"
    }
   ],
   "source": [
    "def find(string, char):\n",
    "    i = 0\n",
    "    while i<len(string):\n",
    "        if string[i]==char:\n",
    "            return i\n",
    "        i = i + 1\n",
    "    return -1\n",
    "\n",
    "# find('hello', 'e')\n",
    "find('hello', 'z')"
   ]
  },
  {
   "cell_type": "code",
   "execution_count": 43,
   "id": "05c1644c",
   "metadata": {},
   "outputs": [
    {
     "data": {
      "text/plain": [
       "3"
      ]
     },
     "execution_count": 43,
     "metadata": {},
     "output_type": "execute_result"
    }
   ],
   "source": [
    "def count(string, char):\n",
    "    counter = 0\n",
    "    for i in string:\n",
    "        if i==char:\n",
    "            counter = counter + 1\n",
    "    return counter\n",
    "\n",
    "count('hello worlds!', 'l')"
   ]
  },
  {
   "cell_type": "code",
   "execution_count": 44,
   "id": "4870059b",
   "metadata": {},
   "outputs": [
    {
     "data": {
      "text/plain": [
       "False"
      ]
     },
     "execution_count": 44,
     "metadata": {},
     "output_type": "execute_result"
    }
   ],
   "source": [
    "'ali' == 'Ali'"
   ]
  },
  {
   "cell_type": "code",
   "execution_count": 54,
   "id": "ca588a0a",
   "metadata": {},
   "outputs": [
    {
     "data": {
      "text/plain": [
       "True"
      ]
     },
     "execution_count": 54,
     "metadata": {},
     "output_type": "execute_result"
    }
   ],
   "source": [
    "def find(string, substr):\n",
    "    i = 0\n",
    "    sl = len(substr)\n",
    "    while i<=len(string)-sl:\n",
    "        if string[i:i+sl]==substr:\n",
    "            return True\n",
    "        i = i+1\n",
    "    return False\n",
    "\n",
    "# find('hello worlds', 'rld')\n",
    "# find('hello worlds', 'lds')\n",
    "find('hello worlds', 'l')"
   ]
  },
  {
   "cell_type": "code",
   "execution_count": 53,
   "id": "69ea149c",
   "metadata": {},
   "outputs": [
    {
     "data": {
      "text/plain": [
       "'e'"
      ]
     },
     "execution_count": 53,
     "metadata": {},
     "output_type": "execute_result"
    }
   ],
   "source": [
    "s[1:2]"
   ]
  },
  {
   "cell_type": "code",
   "execution_count": 56,
   "id": "34bd2e12",
   "metadata": {},
   "outputs": [
    {
     "data": {
      "text/plain": [
       "8"
      ]
     },
     "execution_count": 56,
     "metadata": {},
     "output_type": "execute_result"
    }
   ],
   "source": [
    "def find(string, substr):\n",
    "    i = 0\n",
    "    sl = len(substr)\n",
    "    while i<=len(string)-sl:\n",
    "        if string[i:i+sl]==substr:\n",
    "            return i\n",
    "        i = i+1\n",
    "    return -1\n",
    "\n",
    "find('hello worlds', 'rld')\n",
    "# find('hello worlds', 'lds')\n",
    "# find('hello worlds', 'l')"
   ]
  },
  {
   "cell_type": "code",
   "execution_count": 57,
   "id": "4f14c824",
   "metadata": {},
   "outputs": [
    {
     "data": {
      "text/plain": [
       "True"
      ]
     },
     "execution_count": 57,
     "metadata": {},
     "output_type": "execute_result"
    }
   ],
   "source": [
    "'ll' in 'hello worlds'"
   ]
  },
  {
   "cell_type": "code",
   "execution_count": 60,
   "id": "143ed7b9",
   "metadata": {},
   "outputs": [
    {
     "data": {
      "text/plain": [
       "1"
      ]
     },
     "execution_count": 60,
     "metadata": {},
     "output_type": "execute_result"
    }
   ],
   "source": [
    "'hello worlds!'.count('ll')"
   ]
  },
  {
   "cell_type": "code",
   "execution_count": 59,
   "id": "97b4d887",
   "metadata": {},
   "outputs": [
    {
     "data": {
      "text/plain": [
       "2"
      ]
     },
     "execution_count": 59,
     "metadata": {},
     "output_type": "execute_result"
    }
   ],
   "source": [
    "'hello worlds!'.find('ll')"
   ]
  },
  {
   "cell_type": "code",
   "execution_count": 61,
   "id": "40a37bf0",
   "metadata": {},
   "outputs": [
    {
     "data": {
      "text/plain": [
       "-1"
      ]
     },
     "execution_count": 61,
     "metadata": {},
     "output_type": "execute_result"
    }
   ],
   "source": [
    "'hello worlds!'.find('zz')"
   ]
  },
  {
   "cell_type": "code",
   "execution_count": 62,
   "id": "dff9717b",
   "metadata": {},
   "outputs": [
    {
     "ename": "ValueError",
     "evalue": "substring not found",
     "output_type": "error",
     "traceback": [
      "\u001b[0;31m---------------------------------------------------------------------------\u001b[0m",
      "\u001b[0;31mValueError\u001b[0m                                Traceback (most recent call last)",
      "Input \u001b[0;32mIn [62]\u001b[0m, in \u001b[0;36m<cell line: 1>\u001b[0;34m()\u001b[0m\n\u001b[0;32m----> 1\u001b[0m \u001b[38;5;124;43m'\u001b[39;49m\u001b[38;5;124;43mhello worlds\u001b[39;49m\u001b[38;5;124;43m'\u001b[39;49m\u001b[38;5;241;43m.\u001b[39;49m\u001b[43mindex\u001b[49m\u001b[43m(\u001b[49m\u001b[38;5;124;43m'\u001b[39;49m\u001b[38;5;124;43mz\u001b[39;49m\u001b[38;5;124;43m'\u001b[39;49m\u001b[43m)\u001b[49m\n",
      "\u001b[0;31mValueError\u001b[0m: substring not found"
     ]
    }
   ],
   "source": [
    "'hello worlds'.index('z')"
   ]
  },
  {
   "cell_type": "code",
   "execution_count": 64,
   "id": "f8d0ae17",
   "metadata": {},
   "outputs": [
    {
     "data": {
      "text/plain": [
       "'hello worlds'"
      ]
     },
     "execution_count": 64,
     "metadata": {},
     "output_type": "execute_result"
    }
   ],
   "source": [
    "'     hello worlds   \\t   '.strip()"
   ]
  },
  {
   "cell_type": "code",
   "execution_count": 65,
   "id": "ea4e2c7b",
   "metadata": {},
   "outputs": [
    {
     "data": {
      "text/plain": [
       "'hello worlds      '"
      ]
     },
     "execution_count": 65,
     "metadata": {},
     "output_type": "execute_result"
    }
   ],
   "source": [
    "'     hello worlds      '.lstrip()"
   ]
  },
  {
   "cell_type": "code",
   "execution_count": 66,
   "id": "e0064d46",
   "metadata": {},
   "outputs": [
    {
     "data": {
      "text/plain": [
       "'     hezzzzo worlds      '"
      ]
     },
     "execution_count": 66,
     "metadata": {},
     "output_type": "execute_result"
    }
   ],
   "source": [
    "'     hello worlds      '.replace('ll', 'zzzz')"
   ]
  },
  {
   "cell_type": "code",
   "execution_count": 67,
   "id": "c9f25e4f",
   "metadata": {},
   "outputs": [
    {
     "data": {
      "text/plain": [
       "'     he**o wor*ds      '"
      ]
     },
     "execution_count": 67,
     "metadata": {},
     "output_type": "execute_result"
    }
   ],
   "source": [
    "'     hello worlds      '.replace('l', '*')"
   ]
  },
  {
   "cell_type": "code",
   "execution_count": 69,
   "id": "76065c97",
   "metadata": {},
   "outputs": [
    {
     "data": {
      "text/plain": [
       "'he**o wor*ds'"
      ]
     },
     "execution_count": 69,
     "metadata": {},
     "output_type": "execute_result"
    }
   ],
   "source": [
    "str.replace('hello worlds', 'l', '*')"
   ]
  },
  {
   "cell_type": "code",
   "execution_count": 70,
   "id": "6ffe9726",
   "metadata": {},
   "outputs": [
    {
     "name": "stdout",
     "output_type": "stream",
     "text": [
      "Help on method_descriptor:\n",
      "\n",
      "find(...)\n",
      "    S.find(sub[, start[, end]]) -> int\n",
      "    \n",
      "    Return the lowest index in S where substring sub is found,\n",
      "    such that sub is contained within S[start:end].  Optional\n",
      "    arguments start and end are interpreted as in slice notation.\n",
      "    \n",
      "    Return -1 on failure.\n",
      "\n"
     ]
    }
   ],
   "source": [
    "help(str.find)"
   ]
  }
 ],
 "metadata": {
  "kernelspec": {
   "display_name": ".venv",
   "language": "python",
   "name": ".venv"
  },
  "language_info": {
   "codemirror_mode": {
    "name": "ipython",
    "version": 3
   },
   "file_extension": ".py",
   "mimetype": "text/x-python",
   "name": "python",
   "nbconvert_exporter": "python",
   "pygments_lexer": "ipython3",
   "version": "3.10.8"
  }
 },
 "nbformat": 4,
 "nbformat_minor": 5
}
